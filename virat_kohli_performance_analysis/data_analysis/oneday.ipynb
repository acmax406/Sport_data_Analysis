{
 "cells": [
  {
   "cell_type": "markdown",
   "id": "4e596911",
   "metadata": {},
   "source": [
    "#### OneDay dataset Analysis"
   ]
  },
  {
   "cell_type": "code",
   "execution_count": 23,
   "id": "a9899593",
   "metadata": {},
   "outputs": [],
   "source": [
    "import pandas as pd"
   ]
  },
  {
   "cell_type": "code",
   "execution_count": 24,
   "id": "7a51c2e9",
   "metadata": {},
   "outputs": [
    {
     "data": {
      "text/html": [
       "<div>\n",
       "<style scoped>\n",
       "    .dataframe tbody tr th:only-of-type {\n",
       "        vertical-align: middle;\n",
       "    }\n",
       "\n",
       "    .dataframe tbody tr th {\n",
       "        vertical-align: top;\n",
       "    }\n",
       "\n",
       "    .dataframe thead th {\n",
       "        text-align: right;\n",
       "    }\n",
       "</style>\n",
       "<table border=\"1\" class=\"dataframe\">\n",
       "  <thead>\n",
       "    <tr style=\"text-align: right;\">\n",
       "      <th></th>\n",
       "      <th>level_0</th>\n",
       "      <th>player</th>\n",
       "      <th>runs</th>\n",
       "      <th>balls</th>\n",
       "      <th>total_balls</th>\n",
       "      <th>fours</th>\n",
       "      <th>sixes</th>\n",
       "      <th>strike_rate</th>\n",
       "      <th>out_type</th>\n",
       "      <th>outby</th>\n",
       "    </tr>\n",
       "  </thead>\n",
       "  <tbody>\n",
       "    <tr>\n",
       "      <th>0</th>\n",
       "      <td>0</td>\n",
       "      <td>Virat Kohli</td>\n",
       "      <td>12</td>\n",
       "      <td>22</td>\n",
       "      <td>33</td>\n",
       "      <td>1</td>\n",
       "      <td>0</td>\n",
       "      <td>54.54</td>\n",
       "      <td>lbw</td>\n",
       "      <td>Kulasekara</td>\n",
       "    </tr>\n",
       "    <tr>\n",
       "      <th>1</th>\n",
       "      <td>1</td>\n",
       "      <td>Virat Kohli</td>\n",
       "      <td>12</td>\n",
       "      <td>22</td>\n",
       "      <td>33</td>\n",
       "      <td>1</td>\n",
       "      <td>0</td>\n",
       "      <td>54.54</td>\n",
       "      <td>lbw</td>\n",
       "      <td>Kulasekara</td>\n",
       "    </tr>\n",
       "    <tr>\n",
       "      <th>2</th>\n",
       "      <td>2</td>\n",
       "      <td>Virat Kohli</td>\n",
       "      <td>37</td>\n",
       "      <td>67</td>\n",
       "      <td>82</td>\n",
       "      <td>6</td>\n",
       "      <td>0</td>\n",
       "      <td>55.22</td>\n",
       "      <td>catch_out</td>\n",
       "      <td>Thushara</td>\n",
       "    </tr>\n",
       "    <tr>\n",
       "      <th>3</th>\n",
       "      <td>3</td>\n",
       "      <td>Virat Kohli</td>\n",
       "      <td>25</td>\n",
       "      <td>38</td>\n",
       "      <td>40</td>\n",
       "      <td>4</td>\n",
       "      <td>0</td>\n",
       "      <td>65.78</td>\n",
       "      <td>run_out</td>\n",
       "      <td>(Silva)</td>\n",
       "    </tr>\n",
       "    <tr>\n",
       "      <th>4</th>\n",
       "      <td>4</td>\n",
       "      <td>Virat Kohli</td>\n",
       "      <td>54</td>\n",
       "      <td>66</td>\n",
       "      <td>87</td>\n",
       "      <td>7</td>\n",
       "      <td>0</td>\n",
       "      <td>81.81</td>\n",
       "      <td></td>\n",
       "      <td>Thushara</td>\n",
       "    </tr>\n",
       "    <tr>\n",
       "      <th>...</th>\n",
       "      <td>...</td>\n",
       "      <td>...</td>\n",
       "      <td>...</td>\n",
       "      <td>...</td>\n",
       "      <td>...</td>\n",
       "      <td>...</td>\n",
       "      <td>...</td>\n",
       "      <td>...</td>\n",
       "      <td>...</td>\n",
       "      <td>...</td>\n",
       "    </tr>\n",
       "    <tr>\n",
       "      <th>247</th>\n",
       "      <td>247</td>\n",
       "      <td>Virat Kohli</td>\n",
       "      <td>8</td>\n",
       "      <td>4</td>\n",
       "      <td>6</td>\n",
       "      <td>2</td>\n",
       "      <td>0</td>\n",
       "      <td>200</td>\n",
       "      <td>catch_out</td>\n",
       "      <td>Joseph</td>\n",
       "    </tr>\n",
       "    <tr>\n",
       "      <th>248</th>\n",
       "      <td>248</td>\n",
       "      <td>Virat Kohli</td>\n",
       "      <td>18</td>\n",
       "      <td>30</td>\n",
       "      <td>42</td>\n",
       "      <td>3</td>\n",
       "      <td>0</td>\n",
       "      <td>60</td>\n",
       "      <td>catch_out</td>\n",
       "      <td>Smith</td>\n",
       "    </tr>\n",
       "    <tr>\n",
       "      <th>249</th>\n",
       "      <td>249</td>\n",
       "      <td>Virat Kohli</td>\n",
       "      <td>0</td>\n",
       "      <td>2</td>\n",
       "      <td>2</td>\n",
       "      <td>0</td>\n",
       "      <td>0</td>\n",
       "      <td>0</td>\n",
       "      <td>catch_out</td>\n",
       "      <td>Joseph</td>\n",
       "    </tr>\n",
       "    <tr>\n",
       "      <th>250</th>\n",
       "      <td>250</td>\n",
       "      <td>Virat Kohli</td>\n",
       "      <td>16</td>\n",
       "      <td>25</td>\n",
       "      <td>39</td>\n",
       "      <td>3</td>\n",
       "      <td>0</td>\n",
       "      <td>64</td>\n",
       "      <td>catch_out</td>\n",
       "      <td>Willey</td>\n",
       "    </tr>\n",
       "    <tr>\n",
       "      <th>251</th>\n",
       "      <td>251</td>\n",
       "      <td>Virat Kohli</td>\n",
       "      <td>17</td>\n",
       "      <td>22</td>\n",
       "      <td>27</td>\n",
       "      <td>3</td>\n",
       "      <td>0</td>\n",
       "      <td>77.27</td>\n",
       "      <td>catch_out</td>\n",
       "      <td>Topley</td>\n",
       "    </tr>\n",
       "  </tbody>\n",
       "</table>\n",
       "<p>252 rows × 10 columns</p>\n",
       "</div>"
      ],
      "text/plain": [
       "     level_0        player  runs  balls  total_balls  fours  sixes  \\\n",
       "0          0  Virat Kohli     12     22           33      1      0   \n",
       "1          1  Virat Kohli     12     22           33      1      0   \n",
       "2          2  Virat Kohli     37     67           82      6      0   \n",
       "3          3  Virat Kohli     25     38           40      4      0   \n",
       "4          4  Virat Kohli     54     66           87      7      0   \n",
       "..       ...           ...   ...    ...          ...    ...    ...   \n",
       "247      247  Virat Kohli      8      4            6      2      0   \n",
       "248      248  Virat Kohli     18     30           42      3      0   \n",
       "249      249  Virat Kohli      0      2            2      0      0   \n",
       "250      250  Virat Kohli     16     25           39      3      0   \n",
       "251      251  Virat Kohli     17     22           27      3      0   \n",
       "\n",
       "    strike_rate   out_type       outby  \n",
       "0         54.54        lbw  Kulasekara  \n",
       "1         54.54        lbw  Kulasekara  \n",
       "2         55.22  catch_out    Thushara  \n",
       "3         65.78    run_out     (Silva)  \n",
       "4         81.81               Thushara  \n",
       "..          ...        ...         ...  \n",
       "247         200  catch_out      Joseph  \n",
       "248          60  catch_out       Smith  \n",
       "249           0  catch_out      Joseph  \n",
       "250          64  catch_out      Willey  \n",
       "251       77.27  catch_out      Topley  \n",
       "\n",
       "[252 rows x 10 columns]"
      ]
     },
     "execution_count": 24,
     "metadata": {},
     "output_type": "execute_result"
    }
   ],
   "source": [
    "df = pd.read_csv(\"odi_record.csv\")\n",
    "df= df.reset_index()\n",
    "df = df.drop(['index'],axis = 1)\n",
    "df.rename(columns = {'0':'player'}, inplace = True)\n",
    "df.rename(columns = {'empty':'total_balls'}, inplace = True)\n",
    "df"
   ]
  },
  {
   "cell_type": "code",
   "execution_count": 25,
   "id": "7bd46fa9",
   "metadata": {},
   "outputs": [],
   "source": [
    "df['total_balls'] = df['total_balls'].replace('-','0')\n",
    "df['strike_rate'] = df['strike_rate'].replace('-','0')\n",
    "\n",
    "df['out_type'] = df['out_type'].replace('n','not_out')\n",
    "df['out_type'] = df['out_type'].replace(' ','not_out')\n",
    "df['out_type'] = df['out_type'].replace('n','not_out')\n",
    "df['out_type'] = df['out_type'].replace('s','catch_out')\n",
    "df['out_type'] = df['out_type'].replace('h','run_out')"
   ]
  },
  {
   "cell_type": "markdown",
   "id": "82700c7a",
   "metadata": {},
   "source": [
    "    #linear regression strike rate vs balls played\n",
    "    #runs vs balls played\n",
    "    #runs vs strike rates\n",
    "    #4and 6 vs out type --> lbw or catch_out\n",
    "    #strike rate vs outtype --> decision tree model\n",
    "    #dot balls and out_type"
   ]
  },
  {
   "cell_type": "markdown",
   "id": "38086ef2",
   "metadata": {},
   "source": [
    "### Linear Regression balls played vs strike rate\n",
    "\n",
    "\n",
    "simple model of linear regression is: \n",
    "$y = \\alpha + \\beta x + c$\n",
    "\n",
    "\n",
    "Since, we are using the multiple linear regression model, we will have to expand the simple model.\n",
    "\n",
    "\n",
    "$ y = \\alpha + \\beta_1 x_1 + \\beta_2 x_2 + \\beta_3 x_3 + .......+c$\n",
    "\n",
    "\n",
    "where $y$ is the target variable and the $x$ are the prediction variable"
   ]
  },
  {
   "cell_type": "code",
   "execution_count": 26,
   "id": "4ad6f272",
   "metadata": {},
   "outputs": [
    {
     "data": {
      "text/html": [
       "<div>\n",
       "<style scoped>\n",
       "    .dataframe tbody tr th:only-of-type {\n",
       "        vertical-align: middle;\n",
       "    }\n",
       "\n",
       "    .dataframe tbody tr th {\n",
       "        vertical-align: top;\n",
       "    }\n",
       "\n",
       "    .dataframe thead th {\n",
       "        text-align: right;\n",
       "    }\n",
       "</style>\n",
       "<table border=\"1\" class=\"dataframe\">\n",
       "  <thead>\n",
       "    <tr style=\"text-align: right;\">\n",
       "      <th></th>\n",
       "      <th>level_0</th>\n",
       "      <th>player</th>\n",
       "      <th>runs</th>\n",
       "      <th>balls</th>\n",
       "      <th>total_balls</th>\n",
       "      <th>fours</th>\n",
       "      <th>sixes</th>\n",
       "      <th>strike_rate</th>\n",
       "      <th>out_type</th>\n",
       "      <th>outby</th>\n",
       "    </tr>\n",
       "  </thead>\n",
       "  <tbody>\n",
       "    <tr>\n",
       "      <th>0</th>\n",
       "      <td>0</td>\n",
       "      <td>Virat Kohli</td>\n",
       "      <td>12</td>\n",
       "      <td>22</td>\n",
       "      <td>33</td>\n",
       "      <td>1</td>\n",
       "      <td>0</td>\n",
       "      <td>54.54</td>\n",
       "      <td>lbw</td>\n",
       "      <td>Kulasekara</td>\n",
       "    </tr>\n",
       "    <tr>\n",
       "      <th>1</th>\n",
       "      <td>1</td>\n",
       "      <td>Virat Kohli</td>\n",
       "      <td>12</td>\n",
       "      <td>22</td>\n",
       "      <td>33</td>\n",
       "      <td>1</td>\n",
       "      <td>0</td>\n",
       "      <td>54.54</td>\n",
       "      <td>lbw</td>\n",
       "      <td>Kulasekara</td>\n",
       "    </tr>\n",
       "    <tr>\n",
       "      <th>2</th>\n",
       "      <td>2</td>\n",
       "      <td>Virat Kohli</td>\n",
       "      <td>37</td>\n",
       "      <td>67</td>\n",
       "      <td>82</td>\n",
       "      <td>6</td>\n",
       "      <td>0</td>\n",
       "      <td>55.22</td>\n",
       "      <td>catch_out</td>\n",
       "      <td>Thushara</td>\n",
       "    </tr>\n",
       "    <tr>\n",
       "      <th>3</th>\n",
       "      <td>3</td>\n",
       "      <td>Virat Kohli</td>\n",
       "      <td>25</td>\n",
       "      <td>38</td>\n",
       "      <td>40</td>\n",
       "      <td>4</td>\n",
       "      <td>0</td>\n",
       "      <td>65.78</td>\n",
       "      <td>run_out</td>\n",
       "      <td>(Silva)</td>\n",
       "    </tr>\n",
       "    <tr>\n",
       "      <th>4</th>\n",
       "      <td>4</td>\n",
       "      <td>Virat Kohli</td>\n",
       "      <td>54</td>\n",
       "      <td>66</td>\n",
       "      <td>87</td>\n",
       "      <td>7</td>\n",
       "      <td>0</td>\n",
       "      <td>81.81</td>\n",
       "      <td>not_out</td>\n",
       "      <td>Thushara</td>\n",
       "    </tr>\n",
       "    <tr>\n",
       "      <th>...</th>\n",
       "      <td>...</td>\n",
       "      <td>...</td>\n",
       "      <td>...</td>\n",
       "      <td>...</td>\n",
       "      <td>...</td>\n",
       "      <td>...</td>\n",
       "      <td>...</td>\n",
       "      <td>...</td>\n",
       "      <td>...</td>\n",
       "      <td>...</td>\n",
       "    </tr>\n",
       "    <tr>\n",
       "      <th>247</th>\n",
       "      <td>247</td>\n",
       "      <td>Virat Kohli</td>\n",
       "      <td>8</td>\n",
       "      <td>4</td>\n",
       "      <td>6</td>\n",
       "      <td>2</td>\n",
       "      <td>0</td>\n",
       "      <td>200.00</td>\n",
       "      <td>catch_out</td>\n",
       "      <td>Joseph</td>\n",
       "    </tr>\n",
       "    <tr>\n",
       "      <th>248</th>\n",
       "      <td>248</td>\n",
       "      <td>Virat Kohli</td>\n",
       "      <td>18</td>\n",
       "      <td>30</td>\n",
       "      <td>42</td>\n",
       "      <td>3</td>\n",
       "      <td>0</td>\n",
       "      <td>60.00</td>\n",
       "      <td>catch_out</td>\n",
       "      <td>Smith</td>\n",
       "    </tr>\n",
       "    <tr>\n",
       "      <th>249</th>\n",
       "      <td>249</td>\n",
       "      <td>Virat Kohli</td>\n",
       "      <td>0</td>\n",
       "      <td>2</td>\n",
       "      <td>2</td>\n",
       "      <td>0</td>\n",
       "      <td>0</td>\n",
       "      <td>0.00</td>\n",
       "      <td>catch_out</td>\n",
       "      <td>Joseph</td>\n",
       "    </tr>\n",
       "    <tr>\n",
       "      <th>250</th>\n",
       "      <td>250</td>\n",
       "      <td>Virat Kohli</td>\n",
       "      <td>16</td>\n",
       "      <td>25</td>\n",
       "      <td>39</td>\n",
       "      <td>3</td>\n",
       "      <td>0</td>\n",
       "      <td>64.00</td>\n",
       "      <td>catch_out</td>\n",
       "      <td>Willey</td>\n",
       "    </tr>\n",
       "    <tr>\n",
       "      <th>251</th>\n",
       "      <td>251</td>\n",
       "      <td>Virat Kohli</td>\n",
       "      <td>17</td>\n",
       "      <td>22</td>\n",
       "      <td>27</td>\n",
       "      <td>3</td>\n",
       "      <td>0</td>\n",
       "      <td>77.27</td>\n",
       "      <td>catch_out</td>\n",
       "      <td>Topley</td>\n",
       "    </tr>\n",
       "  </tbody>\n",
       "</table>\n",
       "<p>252 rows × 10 columns</p>\n",
       "</div>"
      ],
      "text/plain": [
       "     level_0        player  runs  balls  total_balls  fours  sixes  \\\n",
       "0          0  Virat Kohli     12     22           33      1      0   \n",
       "1          1  Virat Kohli     12     22           33      1      0   \n",
       "2          2  Virat Kohli     37     67           82      6      0   \n",
       "3          3  Virat Kohli     25     38           40      4      0   \n",
       "4          4  Virat Kohli     54     66           87      7      0   \n",
       "..       ...           ...   ...    ...          ...    ...    ...   \n",
       "247      247  Virat Kohli      8      4            6      2      0   \n",
       "248      248  Virat Kohli     18     30           42      3      0   \n",
       "249      249  Virat Kohli      0      2            2      0      0   \n",
       "250      250  Virat Kohli     16     25           39      3      0   \n",
       "251      251  Virat Kohli     17     22           27      3      0   \n",
       "\n",
       "     strike_rate   out_type       outby  \n",
       "0          54.54        lbw  Kulasekara  \n",
       "1          54.54        lbw  Kulasekara  \n",
       "2          55.22  catch_out    Thushara  \n",
       "3          65.78    run_out     (Silva)  \n",
       "4          81.81    not_out    Thushara  \n",
       "..           ...        ...         ...  \n",
       "247       200.00  catch_out      Joseph  \n",
       "248        60.00  catch_out       Smith  \n",
       "249         0.00  catch_out      Joseph  \n",
       "250        64.00  catch_out      Willey  \n",
       "251        77.27  catch_out      Topley  \n",
       "\n",
       "[252 rows x 10 columns]"
      ]
     },
     "execution_count": 26,
     "metadata": {},
     "output_type": "execute_result"
    }
   ],
   "source": [
    "df['balls']=df['balls'].astype(int) \n",
    "# df['total_balls']=df['total_balls'].astype(int)\n",
    "df['strike_rate'] = df['strike_rate'].astype(float)\n",
    "df['out_type'].unique()\n",
    "df"
   ]
  },
  {
   "cell_type": "code",
   "execution_count": 27,
   "id": "48cdf35b",
   "metadata": {},
   "outputs": [
    {
     "data": {
      "text/plain": [
       "201"
      ]
     },
     "execution_count": 27,
     "metadata": {},
     "output_type": "execute_result"
    }
   ],
   "source": [
    "total_balls = df[['total_balls']]\n",
    "strike_rate = df[['strike_rate']]\n",
    "type(total_balls)\n",
    "#splitting the data into test dataset and train dataset\n",
    "from sklearn.model_selection import train_test_split\n",
    "x_train,x_test,y_train,y_test = train_test_split(total_balls,strike_rate,test_size =0.2)\n",
    "len(x_train)"
   ]
  },
  {
   "cell_type": "code",
   "execution_count": 28,
   "id": "e0eff8e6",
   "metadata": {},
   "outputs": [],
   "source": [
    " y_test.values.reshape((1,len(y_test)))\n",
    "    \n",
    "from sklearn import linear_model\n",
    "from sklearn.metrics import mean_squared_error, r2_score\n",
    "\n",
    "#from sklearn importing the library to perform the linear regression\n",
    "regr = linear_model.LinearRegression()\n",
    "regr.fit(x_train, y_train)\n",
    "y_pred = regr.predict(x_test)"
   ]
  },
  {
   "cell_type": "code",
   "execution_count": 29,
   "id": "78c74db9",
   "metadata": {},
   "outputs": [
    {
     "data": {
      "text/html": [
       "<div>\n",
       "<style scoped>\n",
       "    .dataframe tbody tr th:only-of-type {\n",
       "        vertical-align: middle;\n",
       "    }\n",
       "\n",
       "    .dataframe tbody tr th {\n",
       "        vertical-align: top;\n",
       "    }\n",
       "\n",
       "    .dataframe thead th {\n",
       "        text-align: right;\n",
       "    }\n",
       "</style>\n",
       "<table border=\"1\" class=\"dataframe\">\n",
       "  <thead>\n",
       "    <tr style=\"text-align: right;\">\n",
       "      <th></th>\n",
       "      <th>Actual</th>\n",
       "      <th>predicted</th>\n",
       "    </tr>\n",
       "  </thead>\n",
       "  <tbody>\n",
       "    <tr>\n",
       "      <th>0</th>\n",
       "      <td>42.85</td>\n",
       "      <td>65.042692</td>\n",
       "    </tr>\n",
       "    <tr>\n",
       "      <th>1</th>\n",
       "      <td>129.47</td>\n",
       "      <td>86.716401</td>\n",
       "    </tr>\n",
       "    <tr>\n",
       "      <th>2</th>\n",
       "      <td>114.92</td>\n",
       "      <td>117.637560</td>\n",
       "    </tr>\n",
       "    <tr>\n",
       "      <th>3</th>\n",
       "      <td>64.91</td>\n",
       "      <td>87.583350</td>\n",
       "    </tr>\n",
       "    <tr>\n",
       "      <th>4</th>\n",
       "      <td>100.00</td>\n",
       "      <td>61.863881</td>\n",
       "    </tr>\n",
       "  </tbody>\n",
       "</table>\n",
       "</div>"
      ],
      "text/plain": [
       "   Actual   predicted\n",
       "0   42.85   65.042692\n",
       "1  129.47   86.716401\n",
       "2  114.92  117.637560\n",
       "3   64.91   87.583350\n",
       "4  100.00   61.863881"
      ]
     },
     "execution_count": 29,
     "metadata": {},
     "output_type": "execute_result"
    }
   ],
   "source": [
    "#using linear regression to find out the relationship bw the balls palyed and the strike rate of the player\n",
    "from sklearn import linear_model\n",
    "from sklearn.metrics import mean_squared_error, r2_score\n",
    "\n",
    "regr = linear_model.LinearRegression()\n",
    "regr.fit(x_train, y_train)\n",
    "y_pred = regr.predict(x_test)\n",
    "\n",
    "result = pd.DataFrame({\n",
    "    \"Actual\": y_test.values.reshape((1,len(y_test)))[0],\n",
    "    \"predicted\": y_pred.reshape((1,len(y_test)))[0]\n",
    "})\n",
    "result.head()"
   ]
  },
  {
   "cell_type": "code",
   "execution_count": 30,
   "id": "d4fe5b45",
   "metadata": {},
   "outputs": [
    {
     "name": "stdout",
     "output_type": "stream",
     "text": [
      "the regression coefficents are : [[0.28898279]]\n",
      "the regression intercept is : [59.26303603]\n",
      "Mean squared error: 1515.43\n",
      "Coefficient of determination: 0.48\n"
     ]
    }
   ],
   "source": [
    "print(\"the regression coefficents are :\",regr.coef_)\n",
    "print(\"the regression intercept is :\",regr.intercept_)\n",
    "print(\"Mean squared error: %.2f\" % mean_squared_error(x_test, y_pred))\n",
    "print(\"Coefficient of determination: %.2f\" % r2_score(x_test, y_pred))"
   ]
  },
  {
   "cell_type": "markdown",
   "id": "89a16e85",
   "metadata": {},
   "source": [
    "We have received the regression coefficient as 0.157 and the intercept as 66.98. Mean square error is 1460"
   ]
  },
  {
   "cell_type": "code",
   "execution_count": 31,
   "id": "fdc1ffcf",
   "metadata": {},
   "outputs": [
    {
     "data": {
      "image/png": "[encoded data removed]",
      "text/plain": [
       "<Figure size 432x288 with 1 Axes>"
      ]
     },
     "metadata": {},
     "output_type": "display_data"
    }
   ],
   "source": [
    "# Plotting the strike rate vs balls played by virat kohli\n",
    "import matplotlib.pyplot as plt\n",
    "plt.scatter(x_test, y_pred.reshape((1,len(y_test)))[0], color=\"black\")\n",
    "plt.plot(x_test[\"total_balls\"], y_pred.reshape((1,len(y_test)))[0], color=\"blue\", linewidth=3)\n",
    "plt.title(\"strike_rate vs balls_player\")\n",
    "plt.xlabel(\"balls played\")\n",
    "plt.ylabel(\"strike rate\")\n",
    "plt.xticks(())\n",
    "plt.yticks(())\n",
    "plt.show()"
   ]
  },
  {
   "cell_type": "markdown",
   "id": "eb2f4aa0",
   "metadata": {},
   "source": [
    "strike rate vs Balls played \n",
    "the above regression line tells that there is a direct relation between the balls played and the strike rate in the one day match."
   ]
  },
  {
   "cell_type": "markdown",
   "id": "6c046c83",
   "metadata": {},
   "source": [
    "#### enter Number of balls played to predict the what would be the strike rate...!"
   ]
  },
  {
   "cell_type": "code",
   "execution_count": 32,
   "id": "e15522a8",
   "metadata": {},
   "outputs": [
    {
     "name": "stdout",
     "output_type": "stream",
     "text": [
      "Enter Number of balls played to Predict Strike Rate:--->100\n",
      "the predicted strike Rate is :->\n",
      "[[88.1613151]]\n"
     ]
    },
    {
     "name": "stderr",
     "output_type": "stream",
     "text": [
      "C:\\Users\\Anand\\anaconda3\\lib\\site-packages\\sklearn\\base.py:450: UserWarning: X does not have valid feature names, but LinearRegression was fitted with feature names\n",
      "  warnings.warn(\n",
      "C:\\Users\\Anand\\anaconda3\\lib\\site-packages\\sklearn\\base.py:566: FutureWarning: Arrays of bytes/strings is being converted to decimal numbers if dtype='numeric'. This behavior is deprecated in 0.24 and will be removed in 1.1 (renaming of 0.26). Please convert your data to numeric values explicitly instead.\n",
      "  X = check_array(X, **check_params)\n"
     ]
    }
   ],
   "source": [
    "value = input(\"Enter Number of balls played to Predict Strike Rate:--->\")\n",
    "value= [[value]]\n",
    "pred_sr = regr.predict(value)\n",
    "print(\"the predicted strike Rate is :->\")\n",
    "print(pred_sr)"
   ]
  },
  {
   "cell_type": "markdown",
   "id": "41289e5b",
   "metadata": {},
   "source": [
    "runs vs balls played"
   ]
  },
  {
   "cell_type": "code",
   "execution_count": 33,
   "id": "101d2583",
   "metadata": {},
   "outputs": [
    {
     "data": {
      "text/plain": [
       "Text(0, 0.5, 'runs')"
      ]
     },
     "execution_count": 33,
     "metadata": {},
     "output_type": "execute_result"
    },
    {
     "data": {
      "image/png": "[encoded data removed]",
      "text/plain": [
       "<Figure size 432x288 with 1 Axes>"
      ]
     },
     "metadata": {
      "needs_background": "light"
     },
     "output_type": "display_data"
    }
   ],
   "source": [
    "plt.scatter(df['total_balls'].astype(int),df['runs'].astype(int), color = 'red')\n",
    "plt.title(\"Scatter plot Runs Vs total balls played\")\n",
    "plt.xlabel(\"total_balls\")\n",
    "plt.ylabel(\"runs\")"
   ]
  },
  {
   "cell_type": "markdown",
   "id": "1d86d70b",
   "metadata": {},
   "source": [
    "if we look at the scatter plot betwnn 100 to 150, his strike rate remain the same or it has increased. And in most of the matches he has played less than 100 balls."
   ]
  },
  {
   "cell_type": "code",
   "execution_count": 34,
   "id": "78a21c32",
   "metadata": {},
   "outputs": [
    {
     "data": {
      "text/plain": [
       "Text(0, 0.5, 'strike rate')"
      ]
     },
     "execution_count": 34,
     "metadata": {},
     "output_type": "execute_result"
    },
    {
     "data": {
      "image/png": "[encoded data removed]",
      "text/plain": [
       "<Figure size 432x288 with 1 Axes>"
      ]
     },
     "metadata": {
      "needs_background": "light"
     },
     "output_type": "display_data"
    }
   ],
   "source": [
    "# runs vs strike rates \n",
    "plt.scatter(df['runs'].astype(int),df['strike_rate'].astype(int), color = 'blue')\n",
    "plt.title(\"Scatter plot runs Vs strike_rate\")\n",
    "plt.xlabel(\"runs\")\n",
    "plt.ylabel(\"strike rate\")"
   ]
  },
  {
   "cell_type": "markdown",
   "id": "4f760864",
   "metadata": {},
   "source": [
    "between 0 to 30 balls the strike rate is increasing sharply after that it is increasing slowly."
   ]
  },
  {
   "cell_type": "code",
   "execution_count": 35,
   "id": "dfef8145",
   "metadata": {},
   "outputs": [
    {
     "data": {
      "text/plain": [
       "array(['lbw', 'catch_out', 'run_out', 'not_out'], dtype=object)"
      ]
     },
     "execution_count": 35,
     "metadata": {},
     "output_type": "execute_result"
    }
   ],
   "source": [
    "df['out_type'].unique()"
   ]
  },
  {
   "cell_type": "code",
   "execution_count": 36,
   "id": "e16fe7bb",
   "metadata": {},
   "outputs": [
    {
     "name": "stdout",
     "output_type": "stream",
     "text": [
      "44\n"
     ]
    }
   ],
   "source": [
    "l = len(df)\n",
    "# lbw4= 0, lbw6=0,co4=0,co6=0,no4=0,no6=0,ro4=0,ro6=0\n",
    "lf=0\n",
    "ls =0\n",
    "cf=0\n",
    "cs =0\n",
    "nf =0\n",
    "ns =0\n",
    "rf =0\n",
    "rs=0\n",
    "for i in range(l):\n",
    "    if df['out_type'][i] == 'lbw':\n",
    "        lf=lf+df['fours'][i]\n",
    "        ls= ls+df['sixes'][i]\n",
    "    elif df['out_type'][i] == 'catch_out':\n",
    "        cf=cf+df['fours'][i]\n",
    "        cs= cs+df['sixes'][i]\n",
    "    elif df['out_type'][i] == 'not_out':\n",
    "        nf=nf+df['fours'][i]\n",
    "        ns= ns+df['sixes'][i]\n",
    "    else:\n",
    "        rf=rf+df['fours'][i]\n",
    "        rs= rs+df['sixes'][i]\n",
    "print(lf)"
   ]
  },
  {
   "cell_type": "code",
   "execution_count": 37,
   "id": "07108d17",
   "metadata": {},
   "outputs": [
    {
     "data": {
      "text/plain": [
       "0            lbw\n",
       "1            lbw\n",
       "2      catch_out\n",
       "3        run_out\n",
       "4        not_out\n",
       "         ...    \n",
       "247    catch_out\n",
       "248    catch_out\n",
       "249    catch_out\n",
       "250    catch_out\n",
       "251    catch_out\n",
       "Name: out_type, Length: 252, dtype: object"
      ]
     },
     "execution_count": 37,
     "metadata": {},
     "output_type": "execute_result"
    }
   ],
   "source": [
    "df['out_type']"
   ]
  },
  {
   "cell_type": "code",
   "execution_count": 38,
   "id": "e650da6a",
   "metadata": {},
   "outputs": [
    {
     "data": {
      "image/png": "[encoded data removed]",
      "text/plain": [
       "<Figure size 432x360 with 1 Axes>"
      ]
     },
     "metadata": {
      "needs_background": "light"
     },
     "output_type": "display_data"
    }
   ],
   "source": [
    "# histogram of out_type and the number of 4s and sixes in the dataset\n",
    "tags = ( 'lbw', 'catch_out', 'run_out', 'not_out')\n",
    "# insert some newlines in the tags to better fit into the plot\n",
    "tags = [tag.replace(' (', '\\n(') for tag in tags]\n",
    "fours = (lf,cf,nf,rf)\n",
    "sixes = (ls,cs,ns,rs)\n",
    "\n",
    "# create a dataframe\n",
    "df_temp = pd.DataFrame({\"fours\": fours, \"sixes\": sixes}, index=tags)\n",
    "df_temp.plot.bar(rot=0, figsize=(6, 5))\n",
    "plt.tight_layout() # fit labels etc. nicely into the plot\n",
    "plt.xlabel(\"out type\")\n",
    "plt.ylabel(\"number of 4's and 6's\")\n",
    "plt.title(\"Graph showing the number of boundries and the out type\")\n",
    "plt.show()\n"
   ]
  },
  {
   "cell_type": "markdown",
   "id": "cb9594d3",
   "metadata": {},
   "source": [
    "The data is showing that the matches in which he scored more boundries in those matches he has the hight chanses of getting catch out or run_out"
   ]
  },
  {
   "cell_type": "markdown",
   "id": "a9c6bea7",
   "metadata": {},
   "source": [
    "### decisionTree Model\n",
    "The decision tree is a supervised learning algorithm that involves dividing data into smaller and smaller subsets until each subset can be classified. It relies on concepts like nodes, edges, and leaf nodes to classify the data. The algorithm starts by calculating the entropy, or uncertainty, of the database. A lower entropy value indicates better classification results. The algorithm then calculates the information gain of each feature, which is a measure of how much uncertainty is reduced by splitting the data on that feature. The data is then split on the feature with the highest information gain, and the process is repeated until all the nodes are cleared.\n",
    "\n",
    "source:https://www.sciencedirect.com/topics/computer-science/decision-tree-classifier"
   ]
  },
  {
   "cell_type": "code",
   "execution_count": 39,
   "id": "db455299",
   "metadata": {},
   "outputs": [
    {
     "data": {
      "text/html": [
       "<div>\n",
       "<style scoped>\n",
       "    .dataframe tbody tr th:only-of-type {\n",
       "        vertical-align: middle;\n",
       "    }\n",
       "\n",
       "    .dataframe tbody tr th {\n",
       "        vertical-align: top;\n",
       "    }\n",
       "\n",
       "    .dataframe thead th {\n",
       "        text-align: right;\n",
       "    }\n",
       "</style>\n",
       "<table border=\"1\" class=\"dataframe\">\n",
       "  <thead>\n",
       "    <tr style=\"text-align: right;\">\n",
       "      <th></th>\n",
       "      <th>runs</th>\n",
       "      <th>balls</th>\n",
       "      <th>total_balls</th>\n",
       "      <th>fours</th>\n",
       "      <th>sixes</th>\n",
       "      <th>strike_rate</th>\n",
       "      <th>out_type</th>\n",
       "    </tr>\n",
       "  </thead>\n",
       "  <tbody>\n",
       "    <tr>\n",
       "      <th>0</th>\n",
       "      <td>12</td>\n",
       "      <td>22</td>\n",
       "      <td>33</td>\n",
       "      <td>1</td>\n",
       "      <td>0</td>\n",
       "      <td>54.54</td>\n",
       "      <td>1</td>\n",
       "    </tr>\n",
       "    <tr>\n",
       "      <th>1</th>\n",
       "      <td>12</td>\n",
       "      <td>22</td>\n",
       "      <td>33</td>\n",
       "      <td>1</td>\n",
       "      <td>0</td>\n",
       "      <td>54.54</td>\n",
       "      <td>1</td>\n",
       "    </tr>\n",
       "    <tr>\n",
       "      <th>2</th>\n",
       "      <td>37</td>\n",
       "      <td>67</td>\n",
       "      <td>82</td>\n",
       "      <td>6</td>\n",
       "      <td>0</td>\n",
       "      <td>55.22</td>\n",
       "      <td>0</td>\n",
       "    </tr>\n",
       "    <tr>\n",
       "      <th>3</th>\n",
       "      <td>25</td>\n",
       "      <td>38</td>\n",
       "      <td>40</td>\n",
       "      <td>4</td>\n",
       "      <td>0</td>\n",
       "      <td>65.78</td>\n",
       "      <td>3</td>\n",
       "    </tr>\n",
       "    <tr>\n",
       "      <th>4</th>\n",
       "      <td>54</td>\n",
       "      <td>66</td>\n",
       "      <td>87</td>\n",
       "      <td>7</td>\n",
       "      <td>0</td>\n",
       "      <td>81.81</td>\n",
       "      <td>2</td>\n",
       "    </tr>\n",
       "    <tr>\n",
       "      <th>...</th>\n",
       "      <td>...</td>\n",
       "      <td>...</td>\n",
       "      <td>...</td>\n",
       "      <td>...</td>\n",
       "      <td>...</td>\n",
       "      <td>...</td>\n",
       "      <td>...</td>\n",
       "    </tr>\n",
       "    <tr>\n",
       "      <th>247</th>\n",
       "      <td>8</td>\n",
       "      <td>4</td>\n",
       "      <td>6</td>\n",
       "      <td>2</td>\n",
       "      <td>0</td>\n",
       "      <td>200.00</td>\n",
       "      <td>0</td>\n",
       "    </tr>\n",
       "    <tr>\n",
       "      <th>248</th>\n",
       "      <td>18</td>\n",
       "      <td>30</td>\n",
       "      <td>42</td>\n",
       "      <td>3</td>\n",
       "      <td>0</td>\n",
       "      <td>60.00</td>\n",
       "      <td>0</td>\n",
       "    </tr>\n",
       "    <tr>\n",
       "      <th>249</th>\n",
       "      <td>0</td>\n",
       "      <td>2</td>\n",
       "      <td>2</td>\n",
       "      <td>0</td>\n",
       "      <td>0</td>\n",
       "      <td>0.00</td>\n",
       "      <td>0</td>\n",
       "    </tr>\n",
       "    <tr>\n",
       "      <th>250</th>\n",
       "      <td>16</td>\n",
       "      <td>25</td>\n",
       "      <td>39</td>\n",
       "      <td>3</td>\n",
       "      <td>0</td>\n",
       "      <td>64.00</td>\n",
       "      <td>0</td>\n",
       "    </tr>\n",
       "    <tr>\n",
       "      <th>251</th>\n",
       "      <td>17</td>\n",
       "      <td>22</td>\n",
       "      <td>27</td>\n",
       "      <td>3</td>\n",
       "      <td>0</td>\n",
       "      <td>77.27</td>\n",
       "      <td>0</td>\n",
       "    </tr>\n",
       "  </tbody>\n",
       "</table>\n",
       "<p>252 rows × 7 columns</p>\n",
       "</div>"
      ],
      "text/plain": [
       "     runs  balls  total_balls  fours  sixes  strike_rate  out_type\n",
       "0      12     22           33      1      0        54.54         1\n",
       "1      12     22           33      1      0        54.54         1\n",
       "2      37     67           82      6      0        55.22         0\n",
       "3      25     38           40      4      0        65.78         3\n",
       "4      54     66           87      7      0        81.81         2\n",
       "..    ...    ...          ...    ...    ...          ...       ...\n",
       "247     8      4            6      2      0       200.00         0\n",
       "248    18     30           42      3      0        60.00         0\n",
       "249     0      2            2      0      0         0.00         0\n",
       "250    16     25           39      3      0        64.00         0\n",
       "251    17     22           27      3      0        77.27         0\n",
       "\n",
       "[252 rows x 7 columns]"
      ]
     },
     "execution_count": 39,
     "metadata": {},
     "output_type": "execute_result"
    }
   ],
   "source": [
    "# building a predictinv model such as decision tree to find out that with all the realevant parameter \n",
    "#what could be his out_type\n",
    "\n",
    "#=================================================================================\n",
    "#decision tree method\n",
    "#=================================================================================\n",
    "# since machine learning algo does not able to understand the strings we have to convert it into a numerical values\n",
    "df2 = df\n",
    "from sklearn.preprocessing import LabelEncoder\n",
    "#creating object for the label encoder\n",
    "out = LabelEncoder()\n",
    "df2['out_type']= out.fit_transform(df2['out_type'])\n",
    "df2 = df2.drop(['outby'], axis=1)\n",
    "df2 = df2.drop(['player'], axis=1)\n",
    "df2 = df2.drop(['level_0'], axis=1)\n",
    "df2"
   ]
  },
  {
   "cell_type": "code",
   "execution_count": 40,
   "id": "9a827b69",
   "metadata": {},
   "outputs": [
    {
     "data": {
      "text/html": [
       "<div>\n",
       "<style scoped>\n",
       "    .dataframe tbody tr th:only-of-type {\n",
       "        vertical-align: middle;\n",
       "    }\n",
       "\n",
       "    .dataframe tbody tr th {\n",
       "        vertical-align: top;\n",
       "    }\n",
       "\n",
       "    .dataframe thead th {\n",
       "        text-align: right;\n",
       "    }\n",
       "</style>\n",
       "<table border=\"1\" class=\"dataframe\">\n",
       "  <thead>\n",
       "    <tr style=\"text-align: right;\">\n",
       "      <th></th>\n",
       "      <th>level_0</th>\n",
       "      <th>runs</th>\n",
       "      <th>balls</th>\n",
       "      <th>total_balls</th>\n",
       "      <th>fours</th>\n",
       "      <th>sixes</th>\n",
       "      <th>strike_rate</th>\n",
       "      <th>out_type</th>\n",
       "    </tr>\n",
       "  </thead>\n",
       "  <tbody>\n",
       "    <tr>\n",
       "      <th>level_0</th>\n",
       "      <td>1.000000</td>\n",
       "      <td>0.126814</td>\n",
       "      <td>0.084573</td>\n",
       "      <td>0.067019</td>\n",
       "      <td>0.103113</td>\n",
       "      <td>0.114609</td>\n",
       "      <td>0.162410</td>\n",
       "      <td>-0.082487</td>\n",
       "    </tr>\n",
       "    <tr>\n",
       "      <th>runs</th>\n",
       "      <td>0.126814</td>\n",
       "      <td>1.000000</td>\n",
       "      <td>0.959904</td>\n",
       "      <td>0.930807</td>\n",
       "      <td>0.916152</td>\n",
       "      <td>0.565467</td>\n",
       "      <td>0.586933</td>\n",
       "      <td>0.192629</td>\n",
       "    </tr>\n",
       "    <tr>\n",
       "      <th>balls</th>\n",
       "      <td>0.084573</td>\n",
       "      <td>0.959904</td>\n",
       "      <td>1.000000</td>\n",
       "      <td>0.963827</td>\n",
       "      <td>0.833789</td>\n",
       "      <td>0.459215</td>\n",
       "      <td>0.474477</td>\n",
       "      <td>0.153753</td>\n",
       "    </tr>\n",
       "    <tr>\n",
       "      <th>total_balls</th>\n",
       "      <td>0.067019</td>\n",
       "      <td>0.930807</td>\n",
       "      <td>0.963827</td>\n",
       "      <td>1.000000</td>\n",
       "      <td>0.791839</td>\n",
       "      <td>0.474357</td>\n",
       "      <td>0.464741</td>\n",
       "      <td>0.142934</td>\n",
       "    </tr>\n",
       "    <tr>\n",
       "      <th>fours</th>\n",
       "      <td>0.103113</td>\n",
       "      <td>0.916152</td>\n",
       "      <td>0.833789</td>\n",
       "      <td>0.791839</td>\n",
       "      <td>1.000000</td>\n",
       "      <td>0.431119</td>\n",
       "      <td>0.595915</td>\n",
       "      <td>0.254177</td>\n",
       "    </tr>\n",
       "    <tr>\n",
       "      <th>sixes</th>\n",
       "      <td>0.114609</td>\n",
       "      <td>0.565467</td>\n",
       "      <td>0.459215</td>\n",
       "      <td>0.474357</td>\n",
       "      <td>0.431119</td>\n",
       "      <td>1.000000</td>\n",
       "      <td>0.427295</td>\n",
       "      <td>0.108172</td>\n",
       "    </tr>\n",
       "    <tr>\n",
       "      <th>strike_rate</th>\n",
       "      <td>0.162410</td>\n",
       "      <td>0.586933</td>\n",
       "      <td>0.474477</td>\n",
       "      <td>0.464741</td>\n",
       "      <td>0.595915</td>\n",
       "      <td>0.427295</td>\n",
       "      <td>1.000000</td>\n",
       "      <td>0.216450</td>\n",
       "    </tr>\n",
       "    <tr>\n",
       "      <th>out_type</th>\n",
       "      <td>-0.082487</td>\n",
       "      <td>0.192629</td>\n",
       "      <td>0.153753</td>\n",
       "      <td>0.142934</td>\n",
       "      <td>0.254177</td>\n",
       "      <td>0.108172</td>\n",
       "      <td>0.216450</td>\n",
       "      <td>1.000000</td>\n",
       "    </tr>\n",
       "  </tbody>\n",
       "</table>\n",
       "</div>"
      ],
      "text/plain": [
       "              level_0      runs     balls  total_balls     fours     sixes  \\\n",
       "level_0      1.000000  0.126814  0.084573     0.067019  0.103113  0.114609   \n",
       "runs         0.126814  1.000000  0.959904     0.930807  0.916152  0.565467   \n",
       "balls        0.084573  0.959904  1.000000     0.963827  0.833789  0.459215   \n",
       "total_balls  0.067019  0.930807  0.963827     1.000000  0.791839  0.474357   \n",
       "fours        0.103113  0.916152  0.833789     0.791839  1.000000  0.431119   \n",
       "sixes        0.114609  0.565467  0.459215     0.474357  0.431119  1.000000   \n",
       "strike_rate  0.162410  0.586933  0.474477     0.464741  0.595915  0.427295   \n",
       "out_type    -0.082487  0.192629  0.153753     0.142934  0.254177  0.108172   \n",
       "\n",
       "             strike_rate  out_type  \n",
       "level_0         0.162410 -0.082487  \n",
       "runs            0.586933  0.192629  \n",
       "balls           0.474477  0.153753  \n",
       "total_balls     0.464741  0.142934  \n",
       "fours           0.595915  0.254177  \n",
       "sixes           0.427295  0.108172  \n",
       "strike_rate     1.000000  0.216450  \n",
       "out_type        0.216450  1.000000  "
      ]
     },
     "execution_count": 40,
     "metadata": {},
     "output_type": "execute_result"
    }
   ],
   "source": [
    "df.corr()"
   ]
  },
  {
   "cell_type": "code",
   "execution_count": 41,
   "id": "e3dff4dc",
   "metadata": {},
   "outputs": [
    {
     "data": {
      "text/html": [
       "<div>\n",
       "<style scoped>\n",
       "    .dataframe tbody tr th:only-of-type {\n",
       "        vertical-align: middle;\n",
       "    }\n",
       "\n",
       "    .dataframe tbody tr th {\n",
       "        vertical-align: top;\n",
       "    }\n",
       "\n",
       "    .dataframe thead th {\n",
       "        text-align: right;\n",
       "    }\n",
       "</style>\n",
       "<table border=\"1\" class=\"dataframe\">\n",
       "  <thead>\n",
       "    <tr style=\"text-align: right;\">\n",
       "      <th></th>\n",
       "      <th>runs</th>\n",
       "      <th>balls</th>\n",
       "      <th>total_balls</th>\n",
       "      <th>fours</th>\n",
       "      <th>sixes</th>\n",
       "      <th>strike_rate</th>\n",
       "    </tr>\n",
       "  </thead>\n",
       "  <tbody>\n",
       "    <tr>\n",
       "      <th>224</th>\n",
       "      <td>26</td>\n",
       "      <td>27</td>\n",
       "      <td>45</td>\n",
       "      <td>3</td>\n",
       "      <td>0</td>\n",
       "      <td>96.29</td>\n",
       "    </tr>\n",
       "    <tr>\n",
       "      <th>35</th>\n",
       "      <td>63</td>\n",
       "      <td>70</td>\n",
       "      <td>83</td>\n",
       "      <td>6</td>\n",
       "      <td>2</td>\n",
       "      <td>90.00</td>\n",
       "    </tr>\n",
       "    <tr>\n",
       "      <th>144</th>\n",
       "      <td>33</td>\n",
       "      <td>41</td>\n",
       "      <td>49</td>\n",
       "      <td>5</td>\n",
       "      <td>0</td>\n",
       "      <td>80.48</td>\n",
       "    </tr>\n",
       "    <tr>\n",
       "      <th>177</th>\n",
       "      <td>11</td>\n",
       "      <td>22</td>\n",
       "      <td>22</td>\n",
       "      <td>2</td>\n",
       "      <td>0</td>\n",
       "      <td>50.00</td>\n",
       "    </tr>\n",
       "    <tr>\n",
       "      <th>129</th>\n",
       "      <td>1</td>\n",
       "      <td>3</td>\n",
       "      <td>9</td>\n",
       "      <td>0</td>\n",
       "      <td>0</td>\n",
       "      <td>33.33</td>\n",
       "    </tr>\n",
       "    <tr>\n",
       "      <th>...</th>\n",
       "      <td>...</td>\n",
       "      <td>...</td>\n",
       "      <td>...</td>\n",
       "      <td>...</td>\n",
       "      <td>...</td>\n",
       "      <td>...</td>\n",
       "    </tr>\n",
       "    <tr>\n",
       "      <th>174</th>\n",
       "      <td>96</td>\n",
       "      <td>78</td>\n",
       "      <td>96</td>\n",
       "      <td>13</td>\n",
       "      <td>0</td>\n",
       "      <td>123.07</td>\n",
       "    </tr>\n",
       "    <tr>\n",
       "      <th>77</th>\n",
       "      <td>66</td>\n",
       "      <td>83</td>\n",
       "      <td>116</td>\n",
       "      <td>2</td>\n",
       "      <td>0</td>\n",
       "      <td>79.51</td>\n",
       "    </tr>\n",
       "    <tr>\n",
       "      <th>89</th>\n",
       "      <td>6</td>\n",
       "      <td>9</td>\n",
       "      <td>12</td>\n",
       "      <td>1</td>\n",
       "      <td>0</td>\n",
       "      <td>66.66</td>\n",
       "    </tr>\n",
       "    <tr>\n",
       "      <th>179</th>\n",
       "      <td>111</td>\n",
       "      <td>115</td>\n",
       "      <td>115</td>\n",
       "      <td>12</td>\n",
       "      <td>2</td>\n",
       "      <td>96.52</td>\n",
       "    </tr>\n",
       "    <tr>\n",
       "      <th>137</th>\n",
       "      <td>66</td>\n",
       "      <td>64</td>\n",
       "      <td>109</td>\n",
       "      <td>6</td>\n",
       "      <td>0</td>\n",
       "      <td>103.12</td>\n",
       "    </tr>\n",
       "  </tbody>\n",
       "</table>\n",
       "<p>201 rows × 6 columns</p>\n",
       "</div>"
      ],
      "text/plain": [
       "     runs  balls  total_balls  fours  sixes  strike_rate\n",
       "224    26     27           45      3      0        96.29\n",
       "35     63     70           83      6      2        90.00\n",
       "144    33     41           49      5      0        80.48\n",
       "177    11     22           22      2      0        50.00\n",
       "129     1      3            9      0      0        33.33\n",
       "..    ...    ...          ...    ...    ...          ...\n",
       "174    96     78           96     13      0       123.07\n",
       "77     66     83          116      2      0        79.51\n",
       "89      6      9           12      1      0        66.66\n",
       "179   111    115          115     12      2        96.52\n",
       "137    66     64          109      6      0       103.12\n",
       "\n",
       "[201 rows x 6 columns]"
      ]
     },
     "execution_count": 41,
     "metadata": {},
     "output_type": "execute_result"
    }
   ],
   "source": [
    "predictor =['runs','balls','total_balls','fours','sixes','strike_rate']\n",
    "x = df[predictor]\n",
    "y = df['out_type']\n",
    "\n",
    "#splitting dataset into training and test dataset\n",
    "from sklearn.model_selection import train_test_split\n",
    "x_train,x_test,y_train,y_test= train_test_split(x,y,test_size=0.2)\n",
    "x_train"
   ]
  },
  {
   "cell_type": "markdown",
   "id": "422f407b",
   "metadata": {},
   "source": [
    "#### 'gini'\n",
    "gini impurity is more efficient in terms of the computing power compartively to entropy\n",
    "we can use gini to select the best features"
   ]
  },
  {
   "cell_type": "code",
   "execution_count": 42,
   "id": "88f75bbe",
   "metadata": {},
   "outputs": [],
   "source": [
    "from sklearn.tree import DecisionTreeClassifier\n",
    "classifier = DecisionTreeClassifier(criterion='gini')"
   ]
  },
  {
   "cell_type": "code",
   "execution_count": 43,
   "id": "4fee7581",
   "metadata": {},
   "outputs": [
    {
     "data": {
      "text/plain": [
       "DecisionTreeClassifier()"
      ]
     },
     "execution_count": 43,
     "metadata": {},
     "output_type": "execute_result"
    }
   ],
   "source": [
    "classifier.fit(x_train,y_train)"
   ]
  },
  {
   "cell_type": "code",
   "execution_count": 44,
   "id": "15106e2b",
   "metadata": {},
   "outputs": [
    {
     "data": {
      "text/plain": [
       "array([0, 2, 0, 0, 0, 0, 0, 0, 2, 0, 0, 2, 0, 0, 0, 0, 2, 0, 0, 0, 0, 3,\n",
       "       0, 0, 0, 2, 0, 0, 3, 0, 0, 2, 0, 2, 0, 0, 0, 2, 2, 2, 2, 0, 2, 2,\n",
       "       3, 3, 0, 0, 0, 0, 0])"
      ]
     },
     "execution_count": 44,
     "metadata": {},
     "output_type": "execute_result"
    }
   ],
   "source": [
    "classifier.predict(x_test)"
   ]
  },
  {
   "cell_type": "code",
   "execution_count": 45,
   "id": "54080144",
   "metadata": {},
   "outputs": [
    {
     "name": "stdout",
     "output_type": "stream",
     "text": [
      "Percentage Accuracy obtained from the decision tree classifier =\n",
      "49.01960784313725\n"
     ]
    }
   ],
   "source": [
    "acc = classifier.score(x_test,y_test)\n",
    "print(\"Percentage Accuracy obtained from the decision tree classifier =\")\n",
    "print(acc*100)"
   ]
  },
  {
   "cell_type": "code",
   "execution_count": 46,
   "id": "dae2a8d9",
   "metadata": {},
   "outputs": [
    {
     "data": {
      "text/plain": [
       "[Text(0.46337890625, 0.9666666666666667, 'X[3] <= 2.5\\ngini = 0.482\\nsamples = 201\\nvalue = [136, 8, 48, 9]'),\n",
       " Text(0.169921875, 0.9, 'X[1] <= 7.0\\ngini = 0.289\\nsamples = 85\\nvalue = [71, 3, 9, 2]'),\n",
       " Text(0.125, 0.8333333333333334, 'X[2] <= 11.5\\ngini = 0.411\\nsamples = 26\\nvalue = [19, 0, 6, 1]'),\n",
       " Text(0.109375, 0.7666666666666667, 'X[2] <= 8.5\\ngini = 0.344\\nsamples = 24\\nvalue = [19, 0, 4, 1]'),\n",
       " Text(0.078125, 0.7, 'X[2] <= 5.5\\ngini = 0.277\\nsamples = 19\\nvalue = [16, 0, 2, 1]'),\n",
       " Text(0.0625, 0.6333333333333333, 'X[0] <= 2.5\\ngini = 0.43\\nsamples = 11\\nvalue = [8, 0, 2, 1]'),\n",
       " Text(0.046875, 0.5666666666666667, 'X[2] <= 3.5\\ngini = 0.34\\nsamples = 10\\nvalue = [8, 0, 1, 1]'),\n",
       " Text(0.03125, 0.5, 'gini = 0.0\\nsamples = 5\\nvalue = [5, 0, 0, 0]'),\n",
       " Text(0.0625, 0.5, 'X[1] <= 4.0\\ngini = 0.56\\nsamples = 5\\nvalue = [3, 0, 1, 1]'),\n",
       " Text(0.03125, 0.43333333333333335, 'X[2] <= 4.5\\ngini = 0.5\\nsamples = 2\\nvalue = [1, 0, 0, 1]'),\n",
       " Text(0.015625, 0.36666666666666664, 'gini = 0.0\\nsamples = 1\\nvalue = [0, 0, 0, 1]'),\n",
       " Text(0.046875, 0.36666666666666664, 'gini = 0.0\\nsamples = 1\\nvalue = [1, 0, 0, 0]'),\n",
       " Text(0.09375, 0.43333333333333335, 'X[2] <= 4.5\\ngini = 0.444\\nsamples = 3\\nvalue = [2, 0, 1, 0]'),\n",
       " Text(0.078125, 0.36666666666666664, 'gini = 0.0\\nsamples = 1\\nvalue = [1, 0, 0, 0]'),\n",
       " Text(0.109375, 0.36666666666666664, 'gini = 0.5\\nsamples = 2\\nvalue = [1, 0, 1, 0]'),\n",
       " Text(0.078125, 0.5666666666666667, 'gini = 0.0\\nsamples = 1\\nvalue = [0, 0, 1, 0]'),\n",
       " Text(0.09375, 0.6333333333333333, 'gini = 0.0\\nsamples = 8\\nvalue = [8, 0, 0, 0]'),\n",
       " Text(0.140625, 0.7, 'X[1] <= 5.5\\ngini = 0.48\\nsamples = 5\\nvalue = [3, 0, 2, 0]'),\n",
       " Text(0.125, 0.6333333333333333, 'X[1] <= 3.5\\ngini = 0.444\\nsamples = 3\\nvalue = [1, 0, 2, 0]'),\n",
       " Text(0.109375, 0.5666666666666667, 'gini = 0.0\\nsamples = 1\\nvalue = [0, 0, 1, 0]'),\n",
       " Text(0.140625, 0.5666666666666667, 'X[1] <= 4.5\\ngini = 0.5\\nsamples = 2\\nvalue = [1, 0, 1, 0]'),\n",
       " Text(0.125, 0.5, 'gini = 0.0\\nsamples = 1\\nvalue = [1, 0, 0, 0]'),\n",
       " Text(0.15625, 0.5, 'gini = 0.0\\nsamples = 1\\nvalue = [0, 0, 1, 0]'),\n",
       " Text(0.15625, 0.6333333333333333, 'gini = 0.0\\nsamples = 2\\nvalue = [2, 0, 0, 0]'),\n",
       " Text(0.140625, 0.7666666666666667, 'gini = 0.0\\nsamples = 2\\nvalue = [0, 0, 2, 0]'),\n",
       " Text(0.21484375, 0.8333333333333334, 'X[5] <= 53.46\\ngini = 0.218\\nsamples = 59\\nvalue = [52, 3, 3, 1]'),\n",
       " Text(0.19921875, 0.7666666666666667, 'gini = 0.0\\nsamples = 20\\nvalue = [20, 0, 0, 0]'),\n",
       " Text(0.23046875, 0.7666666666666667, 'X[5] <= 55.395\\ngini = 0.314\\nsamples = 39\\nvalue = [32, 3, 3, 1]'),\n",
       " Text(0.21484375, 0.7, 'gini = 0.0\\nsamples = 2\\nvalue = [0, 2, 0, 0]'),\n",
       " Text(0.24609375, 0.7, 'X[5] <= 60.555\\ngini = 0.244\\nsamples = 37\\nvalue = [32, 1, 3, 1]'),\n",
       " Text(0.1875, 0.6333333333333333, 'X[5] <= 59.23\\ngini = 0.625\\nsamples = 4\\nvalue = [2, 1, 1, 0]'),\n",
       " Text(0.171875, 0.5666666666666667, 'gini = 0.0\\nsamples = 2\\nvalue = [2, 0, 0, 0]'),\n",
       " Text(0.203125, 0.5666666666666667, 'X[2] <= 31.5\\ngini = 0.5\\nsamples = 2\\nvalue = [0, 1, 1, 0]'),\n",
       " Text(0.1875, 0.5, 'gini = 0.0\\nsamples = 1\\nvalue = [0, 0, 1, 0]'),\n",
       " Text(0.21875, 0.5, 'gini = 0.0\\nsamples = 1\\nvalue = [0, 1, 0, 0]'),\n",
       " Text(0.3046875, 0.6333333333333333, 'X[0] <= 8.0\\ngini = 0.169\\nsamples = 33\\nvalue = [30, 0, 2, 1]'),\n",
       " Text(0.265625, 0.5666666666666667, 'X[0] <= 6.5\\ngini = 0.5\\nsamples = 2\\nvalue = [1, 0, 1, 0]'),\n",
       " Text(0.25, 0.5, 'gini = 0.0\\nsamples = 1\\nvalue = [1, 0, 0, 0]'),\n",
       " Text(0.28125, 0.5, 'gini = 0.0\\nsamples = 1\\nvalue = [0, 0, 1, 0]'),\n",
       " Text(0.34375, 0.5666666666666667, 'X[3] <= 0.5\\ngini = 0.123\\nsamples = 31\\nvalue = [29, 0, 1, 1]'),\n",
       " Text(0.3125, 0.5, 'X[1] <= 16.0\\ngini = 0.32\\nsamples = 5\\nvalue = [4, 0, 0, 1]'),\n",
       " Text(0.296875, 0.43333333333333335, 'gini = 0.0\\nsamples = 3\\nvalue = [3, 0, 0, 0]'),\n",
       " Text(0.328125, 0.43333333333333335, 'X[0] <= 11.5\\ngini = 0.5\\nsamples = 2\\nvalue = [1, 0, 0, 1]'),\n",
       " Text(0.3125, 0.36666666666666664, 'gini = 0.0\\nsamples = 1\\nvalue = [1, 0, 0, 0]'),\n",
       " Text(0.34375, 0.36666666666666664, 'gini = 0.0\\nsamples = 1\\nvalue = [0, 0, 0, 1]'),\n",
       " Text(0.375, 0.5, 'X[2] <= 50.5\\ngini = 0.074\\nsamples = 26\\nvalue = [25, 0, 1, 0]'),\n",
       " Text(0.359375, 0.43333333333333335, 'gini = 0.0\\nsamples = 16\\nvalue = [16, 0, 0, 0]'),\n",
       " Text(0.390625, 0.43333333333333335, 'X[2] <= 56.5\\ngini = 0.18\\nsamples = 10\\nvalue = [9, 0, 1, 0]'),\n",
       " Text(0.375, 0.36666666666666664, 'gini = 0.0\\nsamples = 1\\nvalue = [0, 0, 1, 0]'),\n",
       " Text(0.40625, 0.36666666666666664, 'gini = 0.0\\nsamples = 9\\nvalue = [9, 0, 0, 0]'),\n",
       " Text(0.7568359375, 0.9, 'X[5] <= 136.955\\ngini = 0.567\\nsamples = 116\\nvalue = [65, 5, 39, 7]'),\n",
       " Text(0.7412109375, 0.8333333333333334, 'X[3] <= 7.5\\ngini = 0.56\\nsamples = 112\\nvalue = [65, 5, 35, 7]'),\n",
       " Text(0.646484375, 0.7666666666666667, 'X[0] <= 76.5\\ngini = 0.514\\nsamples = 69\\nvalue = [45, 5, 16, 3]'),\n",
       " Text(0.630859375, 0.7, 'X[2] <= 125.0\\ngini = 0.586\\nsamples = 55\\nvalue = [31, 5, 16, 3]'),\n",
       " Text(0.615234375, 0.6333333333333333, 'X[1] <= 73.5\\ngini = 0.562\\nsamples = 51\\nvalue = [31, 5, 12, 3]'),\n",
       " Text(0.54296875, 0.5666666666666667, 'X[2] <= 79.5\\ngini = 0.604\\nsamples = 42\\nvalue = [23, 4, 12, 3]'),\n",
       " Text(0.4921875, 0.5, 'X[1] <= 55.5\\ngini = 0.534\\nsamples = 33\\nvalue = [21, 4, 7, 1]'),\n",
       " Text(0.4765625, 0.43333333333333335, 'X[0] <= 32.0\\ngini = 0.601\\nsamples = 27\\nvalue = [15, 4, 7, 1]'),\n",
       " Text(0.4375, 0.36666666666666664, 'X[2] <= 55.0\\ngini = 0.492\\nsamples = 16\\nvalue = [11, 2, 2, 1]'),\n",
       " Text(0.40625, 0.3, 'X[0] <= 25.5\\ngini = 0.379\\nsamples = 13\\nvalue = [10, 0, 2, 1]'),\n",
       " Text(0.390625, 0.23333333333333334, 'X[0] <= 20.0\\ngini = 0.611\\nsamples = 6\\nvalue = [3, 0, 2, 1]'),\n",
       " Text(0.375, 0.16666666666666666, 'gini = 0.0\\nsamples = 3\\nvalue = [3, 0, 0, 0]'),\n",
       " Text(0.40625, 0.16666666666666666, 'X[1] <= 32.5\\ngini = 0.444\\nsamples = 3\\nvalue = [0, 0, 2, 1]'),\n",
       " Text(0.390625, 0.1, 'gini = 0.0\\nsamples = 2\\nvalue = [0, 0, 2, 0]'),\n",
       " Text(0.421875, 0.1, 'gini = 0.0\\nsamples = 1\\nvalue = [0, 0, 0, 1]'),\n",
       " Text(0.421875, 0.23333333333333334, 'gini = 0.0\\nsamples = 7\\nvalue = [7, 0, 0, 0]'),\n",
       " Text(0.46875, 0.3, 'X[3] <= 3.5\\ngini = 0.444\\nsamples = 3\\nvalue = [1, 2, 0, 0]'),\n",
       " Text(0.453125, 0.23333333333333334, 'gini = 0.0\\nsamples = 1\\nvalue = [0, 1, 0, 0]'),\n",
       " Text(0.484375, 0.23333333333333334, 'X[5] <= 70.98\\ngini = 0.5\\nsamples = 2\\nvalue = [1, 1, 0, 0]'),\n",
       " Text(0.46875, 0.16666666666666666, 'gini = 0.0\\nsamples = 1\\nvalue = [0, 1, 0, 0]'),\n",
       " Text(0.5, 0.16666666666666666, 'gini = 0.0\\nsamples = 1\\nvalue = [1, 0, 0, 0]'),\n",
       " Text(0.515625, 0.36666666666666664, 'X[2] <= 47.0\\ngini = 0.628\\nsamples = 11\\nvalue = [4, 2, 5, 0]'),\n",
       " Text(0.5, 0.3, 'gini = 0.0\\nsamples = 2\\nvalue = [0, 2, 0, 0]'),\n",
       " Text(0.53125, 0.3, 'X[5] <= 75.29\\ngini = 0.494\\nsamples = 9\\nvalue = [4, 0, 5, 0]'),\n",
       " Text(0.515625, 0.23333333333333334, 'gini = 0.0\\nsamples = 1\\nvalue = [1, 0, 0, 0]'),\n",
       " Text(0.546875, 0.23333333333333334, 'X[5] <= 87.29\\ngini = 0.469\\nsamples = 8\\nvalue = [3, 0, 5, 0]'),\n",
       " Text(0.53125, 0.16666666666666666, 'gini = 0.0\\nsamples = 3\\nvalue = [0, 0, 3, 0]'),\n",
       " Text(0.5625, 0.16666666666666666, 'X[0] <= 44.5\\ngini = 0.48\\nsamples = 5\\nvalue = [3, 0, 2, 0]'),\n",
       " Text(0.546875, 0.1, 'X[1] <= 31.5\\ngini = 0.375\\nsamples = 4\\nvalue = [3, 0, 1, 0]'),\n",
       " Text(0.53125, 0.03333333333333333, 'gini = 0.0\\nsamples = 1\\nvalue = [0, 0, 1, 0]'),\n",
       " Text(0.5625, 0.03333333333333333, 'gini = 0.0\\nsamples = 3\\nvalue = [3, 0, 0, 0]'),\n",
       " Text(0.578125, 0.1, 'gini = 0.0\\nsamples = 1\\nvalue = [0, 0, 1, 0]'),\n",
       " Text(0.5078125, 0.43333333333333335, 'gini = 0.0\\nsamples = 6\\nvalue = [6, 0, 0, 0]'),\n",
       " Text(0.59375, 0.5, 'X[0] <= 44.0\\ngini = 0.593\\nsamples = 9\\nvalue = [2, 0, 5, 2]'),\n",
       " Text(0.5625, 0.43333333333333335, 'X[0] <= 35.5\\ngini = 0.444\\nsamples = 3\\nvalue = [2, 0, 0, 1]'),\n",
       " Text(0.546875, 0.36666666666666664, 'gini = 0.0\\nsamples = 1\\nvalue = [0, 0, 0, 1]'),\n",
       " Text(0.578125, 0.36666666666666664, 'gini = 0.0\\nsamples = 2\\nvalue = [2, 0, 0, 0]'),\n",
       " Text(0.625, 0.43333333333333335, 'X[5] <= 96.87\\ngini = 0.278\\nsamples = 6\\nvalue = [0, 0, 5, 1]'),\n",
       " Text(0.609375, 0.36666666666666664, 'gini = 0.0\\nsamples = 5\\nvalue = [0, 0, 5, 0]'),\n",
       " Text(0.640625, 0.36666666666666664, 'gini = 0.0\\nsamples = 1\\nvalue = [0, 0, 0, 1]'),\n",
       " Text(0.6875, 0.5666666666666667, 'X[0] <= 61.5\\ngini = 0.198\\nsamples = 9\\nvalue = [8, 1, 0, 0]'),\n",
       " Text(0.671875, 0.5, 'X[4] <= 0.5\\ngini = 0.5\\nsamples = 2\\nvalue = [1, 1, 0, 0]'),\n",
       " Text(0.65625, 0.43333333333333335, 'gini = 0.0\\nsamples = 1\\nvalue = [0, 1, 0, 0]'),\n",
       " Text(0.6875, 0.43333333333333335, 'gini = 0.0\\nsamples = 1\\nvalue = [1, 0, 0, 0]'),\n",
       " Text(0.703125, 0.5, 'gini = 0.0\\nsamples = 7\\nvalue = [7, 0, 0, 0]'),\n",
       " Text(0.646484375, 0.6333333333333333, 'gini = 0.0\\nsamples = 4\\nvalue = [0, 0, 4, 0]'),\n",
       " Text(0.662109375, 0.7, 'gini = 0.0\\nsamples = 14\\nvalue = [14, 0, 0, 0]'),\n",
       " Text(0.8359375, 0.7666666666666667, 'X[2] <= 134.5\\ngini = 0.58\\nsamples = 43\\nvalue = [20, 0, 19, 4]'),\n",
       " Text(0.75, 0.7, 'X[0] <= 69.5\\ngini = 0.48\\nsamples = 23\\nvalue = [7, 0, 15, 1]'),\n",
       " Text(0.734375, 0.6333333333333333, 'gini = 0.0\\nsamples = 3\\nvalue = [3, 0, 0, 0]'),\n",
       " Text(0.765625, 0.6333333333333333, 'X[0] <= 114.5\\ngini = 0.395\\nsamples = 20\\nvalue = [4, 0, 15, 1]'),\n",
       " Text(0.75, 0.5666666666666667, 'X[0] <= 101.0\\ngini = 0.29\\nsamples = 18\\nvalue = [2, 0, 15, 1]'),\n",
       " Text(0.734375, 0.5, 'gini = 0.0\\nsamples = 9\\nvalue = [0, 0, 9, 0]'),\n",
       " Text(0.765625, 0.5, 'X[1] <= 94.0\\ngini = 0.494\\nsamples = 9\\nvalue = [2, 0, 6, 1]'),\n",
       " Text(0.734375, 0.43333333333333335, 'X[1] <= 88.0\\ngini = 0.5\\nsamples = 2\\nvalue = [1, 0, 0, 1]'),\n",
       " Text(0.71875, 0.36666666666666664, 'gini = 0.0\\nsamples = 1\\nvalue = [1, 0, 0, 0]'),\n",
       " Text(0.75, 0.36666666666666664, 'gini = 0.0\\nsamples = 1\\nvalue = [0, 0, 0, 1]'),\n",
       " Text(0.796875, 0.43333333333333335, 'X[2] <= 114.5\\ngini = 0.245\\nsamples = 7\\nvalue = [1, 0, 6, 0]'),\n",
       " Text(0.78125, 0.36666666666666664, 'gini = 0.0\\nsamples = 1\\nvalue = [1, 0, 0, 0]'),\n",
       " Text(0.8125, 0.36666666666666664, 'gini = 0.0\\nsamples = 6\\nvalue = [0, 0, 6, 0]'),\n",
       " Text(0.78125, 0.5666666666666667, 'gini = 0.0\\nsamples = 2\\nvalue = [2, 0, 0, 0]'),\n",
       " Text(0.921875, 0.7, 'X[0] <= 124.5\\ngini = 0.515\\nsamples = 20\\nvalue = [13, 0, 4, 3]'),\n",
       " Text(0.890625, 0.6333333333333333, 'X[5] <= 92.09\\ngini = 0.338\\nsamples = 15\\nvalue = [12, 0, 1, 2]'),\n",
       " Text(0.875, 0.5666666666666667, 'X[1] <= 105.5\\ngini = 0.64\\nsamples = 5\\nvalue = [2, 0, 1, 2]'),\n",
       " Text(0.84375, 0.5, 'X[1] <= 88.0\\ngini = 0.444\\nsamples = 3\\nvalue = [1, 0, 0, 2]'),\n",
       " Text(0.828125, 0.43333333333333335, 'gini = 0.0\\nsamples = 1\\nvalue = [1, 0, 0, 0]'),\n",
       " Text(0.859375, 0.43333333333333335, 'gini = 0.0\\nsamples = 2\\nvalue = [0, 0, 0, 2]'),\n",
       " Text(0.90625, 0.5, 'X[0] <= 99.5\\ngini = 0.5\\nsamples = 2\\nvalue = [1, 0, 1, 0]'),\n",
       " Text(0.890625, 0.43333333333333335, 'gini = 0.0\\nsamples = 1\\nvalue = [0, 0, 1, 0]'),\n",
       " Text(0.921875, 0.43333333333333335, 'gini = 0.0\\nsamples = 1\\nvalue = [1, 0, 0, 0]'),\n",
       " Text(0.90625, 0.5666666666666667, 'gini = 0.0\\nsamples = 10\\nvalue = [10, 0, 0, 0]'),\n",
       " Text(0.953125, 0.6333333333333333, 'X[3] <= 12.5\\ngini = 0.56\\nsamples = 5\\nvalue = [1, 0, 3, 1]'),\n",
       " Text(0.9375, 0.5666666666666667, 'gini = 0.0\\nsamples = 3\\nvalue = [0, 0, 3, 0]'),\n",
       " Text(0.96875, 0.5666666666666667, 'X[0] <= 155.0\\ngini = 0.5\\nsamples = 2\\nvalue = [1, 0, 0, 1]'),\n",
       " Text(0.953125, 0.5, 'gini = 0.0\\nsamples = 1\\nvalue = [0, 0, 0, 1]'),\n",
       " Text(0.984375, 0.5, 'gini = 0.0\\nsamples = 1\\nvalue = [1, 0, 0, 0]'),\n",
       " Text(0.7724609375, 0.8333333333333334, 'gini = 0.0\\nsamples = 4\\nvalue = [0, 0, 4, 0]')]"
      ]
     },
     "execution_count": 46,
     "metadata": {},
     "output_type": "execute_result"
    },
    {
     "data": {
      "image/png": "[encoded data removed]",
      "text/plain": [
       "<Figure size 432x288 with 1 Axes>"
      ]
     },
     "metadata": {
      "needs_background": "light"
     },
     "output_type": "display_data"
    }
   ],
   "source": [
    "from sklearn import tree\n",
    "tree.plot_tree(classifier)"
   ]
  },
  {
   "cell_type": "markdown",
   "id": "698ff865",
   "metadata": {},
   "source": [
    "#### calculating entropy\n",
    "Entropy is an information theory metric that measures the impurity or uncertainty in a group of observations. It determines how a decision tree chooses to split data.\n",
    "it can be calculated by the following way\n",
    "\n",
    "$ E = - \\sum_{i=1}^{N} p_ilog_2p_i$\n"
   ]
  },
  {
   "cell_type": "code",
   "execution_count": 47,
   "id": "706c1fc1",
   "metadata": {},
   "outputs": [
    {
     "data": {
      "text/plain": [
       "DecisionTreeClassifier(criterion='entropy')"
      ]
     },
     "execution_count": 47,
     "metadata": {},
     "output_type": "execute_result"
    }
   ],
   "source": [
    "from sklearn.tree import DecisionTreeClassifier\n",
    "classifier = DecisionTreeClassifier(criterion='entropy')\n",
    "classifier.fit(x_test,y_test)"
   ]
  },
  {
   "cell_type": "code",
   "execution_count": 48,
   "id": "fe3ce8ef",
   "metadata": {},
   "outputs": [
    {
     "data": {
      "text/plain": [
       "array([0, 2, 0, 2, 0, 1, 2, 2, 3, 0, 0, 0, 0, 0, 3, 1, 0, 1, 0, 2, 3, 2,\n",
       "       0, 3, 0, 2, 2, 2, 0, 0, 2, 0, 0, 2, 0, 0, 2, 2, 1, 2, 2, 0, 1, 2,\n",
       "       0, 2, 0, 0, 1, 0, 1])"
      ]
     },
     "execution_count": 48,
     "metadata": {},
     "output_type": "execute_result"
    }
   ],
   "source": [
    "classifier.predict(x_test)"
   ]
  },
  {
   "cell_type": "code",
   "execution_count": 49,
   "id": "f5760e2d",
   "metadata": {},
   "outputs": [
    {
     "data": {
      "text/plain": [
       "1.0"
      ]
     },
     "execution_count": 49,
     "metadata": {},
     "output_type": "execute_result"
    }
   ],
   "source": [
    "classifier.score(x_test,y_test)"
   ]
  },
  {
   "cell_type": "code",
   "execution_count": 50,
   "id": "f7966166",
   "metadata": {
    "scrolled": true
   },
   "outputs": [
    {
     "data": {
      "text/plain": [
       "[Text(0.5666666666666667, 0.9375, 'X[5] <= 93.48\\nentropy = 1.728\\nsamples = 51\\nvalue = [23, 7, 17, 4]'),\n",
       " Text(0.3, 0.8125, 'X[0] <= 19.0\\nentropy = 1.683\\nsamples = 27\\nvalue = [14, 7, 2, 4]'),\n",
       " Text(0.13333333333333333, 0.6875, 'X[0] <= 1.5\\nentropy = 1.484\\nsamples = 14\\nvalue = [9, 2, 2, 1]'),\n",
       " Text(0.06666666666666667, 0.5625, 'X[1] <= 0.5\\nentropy = 1.5\\nsamples = 4\\nvalue = [1, 2, 0, 1]'),\n",
       " Text(0.03333333333333333, 0.4375, 'entropy = 0.0\\nsamples = 1\\nvalue = [0, 0, 0, 1]'),\n",
       " Text(0.1, 0.4375, 'X[5] <= 8.33\\nentropy = 0.918\\nsamples = 3\\nvalue = [1, 2, 0, 0]'),\n",
       " Text(0.06666666666666667, 0.3125, 'X[2] <= 1.5\\nentropy = 1.0\\nsamples = 2\\nvalue = [1, 1, 0, 0]'),\n",
       " Text(0.03333333333333333, 0.1875, 'entropy = 0.0\\nsamples = 1\\nvalue = [0, 1, 0, 0]'),\n",
       " Text(0.1, 0.1875, 'entropy = 0.0\\nsamples = 1\\nvalue = [1, 0, 0, 0]'),\n",
       " Text(0.13333333333333333, 0.3125, 'entropy = 0.0\\nsamples = 1\\nvalue = [0, 1, 0, 0]'),\n",
       " Text(0.2, 0.5625, 'X[1] <= 19.0\\nentropy = 0.722\\nsamples = 10\\nvalue = [8, 0, 2, 0]'),\n",
       " Text(0.16666666666666666, 0.4375, 'entropy = 0.0\\nsamples = 6\\nvalue = [6, 0, 0, 0]'),\n",
       " Text(0.23333333333333334, 0.4375, 'X[2] <= 35.0\\nentropy = 1.0\\nsamples = 4\\nvalue = [2, 0, 2, 0]'),\n",
       " Text(0.2, 0.3125, 'entropy = 0.0\\nsamples = 2\\nvalue = [0, 0, 2, 0]'),\n",
       " Text(0.26666666666666666, 0.3125, 'entropy = 0.0\\nsamples = 2\\nvalue = [2, 0, 0, 0]'),\n",
       " Text(0.4666666666666667, 0.6875, 'X[2] <= 99.5\\nentropy = 1.549\\nsamples = 13\\nvalue = [5, 5, 0, 3]'),\n",
       " Text(0.43333333333333335, 0.5625, 'X[3] <= 1.5\\nentropy = 1.485\\nsamples = 10\\nvalue = [2, 5, 0, 3]'),\n",
       " Text(0.36666666666666664, 0.4375, 'X[2] <= 44.5\\nentropy = 0.918\\nsamples = 3\\nvalue = [2, 0, 0, 1]'),\n",
       " Text(0.3333333333333333, 0.3125, 'entropy = 0.0\\nsamples = 1\\nvalue = [0, 0, 0, 1]'),\n",
       " Text(0.4, 0.3125, 'entropy = 0.0\\nsamples = 2\\nvalue = [2, 0, 0, 0]'),\n",
       " Text(0.5, 0.4375, 'X[2] <= 66.0\\nentropy = 0.863\\nsamples = 7\\nvalue = [0, 5, 0, 2]'),\n",
       " Text(0.4666666666666667, 0.3125, 'entropy = 0.0\\nsamples = 4\\nvalue = [0, 4, 0, 0]'),\n",
       " Text(0.5333333333333333, 0.3125, 'X[2] <= 88.5\\nentropy = 0.918\\nsamples = 3\\nvalue = [0, 1, 0, 2]'),\n",
       " Text(0.5, 0.1875, 'entropy = 0.0\\nsamples = 2\\nvalue = [0, 0, 0, 2]'),\n",
       " Text(0.5666666666666667, 0.1875, 'entropy = 0.0\\nsamples = 1\\nvalue = [0, 1, 0, 0]'),\n",
       " Text(0.5, 0.5625, 'entropy = 0.0\\nsamples = 3\\nvalue = [3, 0, 0, 0]'),\n",
       " Text(0.8333333333333334, 0.8125, 'X[5] <= 117.885\\nentropy = 0.954\\nsamples = 24\\nvalue = [9, 0, 15, 0]'),\n",
       " Text(0.7666666666666667, 0.6875, 'X[0] <= 129.5\\nentropy = 1.0\\nsamples = 16\\nvalue = [8, 0, 8, 0]'),\n",
       " Text(0.7333333333333333, 0.5625, 'X[0] <= 88.0\\nentropy = 0.985\\nsamples = 14\\nvalue = [8, 0, 6, 0]'),\n",
       " Text(0.7, 0.4375, 'X[5] <= 105.635\\nentropy = 0.918\\nsamples = 9\\nvalue = [3, 0, 6, 0]'),\n",
       " Text(0.6666666666666666, 0.3125, 'X[1] <= 82.5\\nentropy = 0.592\\nsamples = 7\\nvalue = [1, 0, 6, 0]'),\n",
       " Text(0.6333333333333333, 0.1875, 'entropy = 0.0\\nsamples = 5\\nvalue = [0, 0, 5, 0]'),\n",
       " Text(0.7, 0.1875, 'X[2] <= 123.0\\nentropy = 1.0\\nsamples = 2\\nvalue = [1, 0, 1, 0]'),\n",
       " Text(0.6666666666666666, 0.0625, 'entropy = 0.0\\nsamples = 1\\nvalue = [1, 0, 0, 0]'),\n",
       " Text(0.7333333333333333, 0.0625, 'entropy = 0.0\\nsamples = 1\\nvalue = [0, 0, 1, 0]'),\n",
       " Text(0.7333333333333333, 0.3125, 'entropy = 0.0\\nsamples = 2\\nvalue = [2, 0, 0, 0]'),\n",
       " Text(0.7666666666666667, 0.4375, 'entropy = 0.0\\nsamples = 5\\nvalue = [5, 0, 0, 0]'),\n",
       " Text(0.8, 0.5625, 'entropy = 0.0\\nsamples = 2\\nvalue = [0, 0, 2, 0]'),\n",
       " Text(0.9, 0.6875, 'X[0] <= 130.0\\nentropy = 0.544\\nsamples = 8\\nvalue = [1, 0, 7, 0]'),\n",
       " Text(0.8666666666666667, 0.5625, 'entropy = 0.0\\nsamples = 6\\nvalue = [0, 0, 6, 0]'),\n",
       " Text(0.9333333333333333, 0.5625, 'X[4] <= 3.0\\nentropy = 1.0\\nsamples = 2\\nvalue = [1, 0, 1, 0]'),\n",
       " Text(0.9, 0.4375, 'entropy = 0.0\\nsamples = 1\\nvalue = [1, 0, 0, 0]'),\n",
       " Text(0.9666666666666667, 0.4375, 'entropy = 0.0\\nsamples = 1\\nvalue = [0, 0, 1, 0]')]"
      ]
     },
     "execution_count": 50,
     "metadata": {},
     "output_type": "execute_result"
    },
    {
     "data": {
      "image/png": "[encoded data removed]",
      "text/plain": [
       "<Figure size 432x288 with 1 Axes>"
      ]
     },
     "metadata": {
      "needs_background": "light"
     },
     "output_type": "display_data"
    }
   ],
   "source": [
    "from sklearn import tree\n",
    "tree.plot_tree(classifier)"
   ]
  },
  {
   "cell_type": "code",
   "execution_count": 62,
   "id": "db97833c",
   "metadata": {},
   "outputs": [
    {
     "name": "stdout",
     "output_type": "stream",
     "text": [
      "bias in data\n",
      "79.98252458341003\n",
      "variance in data\n",
      "244.91432046086717\n"
     ]
    }
   ],
   "source": [
    "import numpy as np\n",
    "# Calculate the bias\n",
    "y_pred=y_pred.flatten()\n",
    "# y_test.flatten()\n",
    "bias = np.mean(y_pred-y_test)\n",
    "print(\"bias in data\")\n",
    "print(bias)\n",
    "\n",
    "variance = np.var(y_pred)\n",
    "print(\"variance in data\")\n",
    "print(variance)"
   ]
  }
 ],
 "metadata": {
  "kernelspec": {
   "display_name": "Python 3 (ipykernel)",
   "language": "python",
   "name": "python3"
  },
  "language_info": {
   "codemirror_mode": {
    "name": "ipython",
    "version": 3
   },
   "file_extension": ".py",
   "mimetype": "text/x-python",
   "name": "python",
   "nbconvert_exporter": "python",
   "pygments_lexer": "ipython3",
   "version": "3.9.12"
  }
 },
 "nbformat": 4,
 "nbformat_minor": 5
}
