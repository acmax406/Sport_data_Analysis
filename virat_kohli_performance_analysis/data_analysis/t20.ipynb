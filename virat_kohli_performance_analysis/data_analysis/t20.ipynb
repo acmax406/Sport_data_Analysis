{
 "cells": [
  {
   "cell_type": "markdown",
   "id": "4e596911",
   "metadata": {},
   "source": [
    "#### t20 dataset Analysis"
   ]
  },
  {
   "cell_type": "code",
   "execution_count": 56,
   "id": "a9899593",
   "metadata": {},
   "outputs": [],
   "source": [
    "import pandas as pd"
   ]
  },
  {
   "cell_type": "code",
   "execution_count": 73,
   "id": "7a51c2e9",
   "metadata": {},
   "outputs": [
    {
     "data": {
      "text/html": [
       "<div>\n",
       "<style scoped>\n",
       "    .dataframe tbody tr th:only-of-type {\n",
       "        vertical-align: middle;\n",
       "    }\n",
       "\n",
       "    .dataframe tbody tr th {\n",
       "        vertical-align: top;\n",
       "    }\n",
       "\n",
       "    .dataframe thead th {\n",
       "        text-align: right;\n",
       "    }\n",
       "</style>\n",
       "<table border=\"1\" class=\"dataframe\">\n",
       "  <thead>\n",
       "    <tr style=\"text-align: right;\">\n",
       "      <th></th>\n",
       "      <th>level_0</th>\n",
       "      <th>player</th>\n",
       "      <th>runs</th>\n",
       "      <th>balls</th>\n",
       "      <th>fours</th>\n",
       "      <th>sixes</th>\n",
       "      <th>strike_rate</th>\n",
       "      <th>out_type</th>\n",
       "      <th>outby</th>\n",
       "    </tr>\n",
       "  </thead>\n",
       "  <tbody>\n",
       "    <tr>\n",
       "      <th>0</th>\n",
       "      <td>0</td>\n",
       "      <td>Virat Kohli (c)</td>\n",
       "      <td>94</td>\n",
       "      <td>50</td>\n",
       "      <td>6</td>\n",
       "      <td>6</td>\n",
       "      <td>188.00</td>\n",
       "      <td>not_out</td>\n",
       "      <td>NaN</td>\n",
       "    </tr>\n",
       "    <tr>\n",
       "      <th>1</th>\n",
       "      <td>1</td>\n",
       "      <td>Virat Kohli (c)</td>\n",
       "      <td>19</td>\n",
       "      <td>17</td>\n",
       "      <td>2</td>\n",
       "      <td>0</td>\n",
       "      <td>111.76</td>\n",
       "      <td>catch_out</td>\n",
       "      <td>Williams</td>\n",
       "    </tr>\n",
       "    <tr>\n",
       "      <th>2</th>\n",
       "      <td>2</td>\n",
       "      <td>Virat Kohli (c)</td>\n",
       "      <td>70</td>\n",
       "      <td>29</td>\n",
       "      <td>4</td>\n",
       "      <td>7</td>\n",
       "      <td>241.37</td>\n",
       "      <td>not_out</td>\n",
       "      <td>NaN</td>\n",
       "    </tr>\n",
       "    <tr>\n",
       "      <th>3</th>\n",
       "      <td>3</td>\n",
       "      <td>Virat Kohli (c)</td>\n",
       "      <td>30</td>\n",
       "      <td>17</td>\n",
       "      <td>1</td>\n",
       "      <td>2</td>\n",
       "      <td>176.47</td>\n",
       "      <td>not_out</td>\n",
       "      <td>NaN</td>\n",
       "    </tr>\n",
       "    <tr>\n",
       "      <th>4</th>\n",
       "      <td>4</td>\n",
       "      <td>Virat Kohli (c)</td>\n",
       "      <td>26</td>\n",
       "      <td>17</td>\n",
       "      <td>2</td>\n",
       "      <td>1</td>\n",
       "      <td>152.94</td>\n",
       "      <td>runot_out_out</td>\n",
       "      <td>(Gunathilaka/†Perera)</td>\n",
       "    </tr>\n",
       "    <tr>\n",
       "      <th>...</th>\n",
       "      <td>...</td>\n",
       "      <td>...</td>\n",
       "      <td>...</td>\n",
       "      <td>...</td>\n",
       "      <td>...</td>\n",
       "      <td>...</td>\n",
       "      <td>...</td>\n",
       "      <td>...</td>\n",
       "      <td>...</td>\n",
       "    </tr>\n",
       "    <tr>\n",
       "      <th>86</th>\n",
       "      <td>86</td>\n",
       "      <td>Virat Kohli (c)</td>\n",
       "      <td>19</td>\n",
       "      <td>29</td>\n",
       "      <td>1</td>\n",
       "      <td>0</td>\n",
       "      <td>65.51</td>\n",
       "      <td>catch_out</td>\n",
       "      <td>Cottrell</td>\n",
       "    </tr>\n",
       "    <tr>\n",
       "      <th>87</th>\n",
       "      <td>87</td>\n",
       "      <td>Virat Kohli (c)</td>\n",
       "      <td>28</td>\n",
       "      <td>23</td>\n",
       "      <td>1</td>\n",
       "      <td>1</td>\n",
       "      <td>121.73</td>\n",
       "      <td>catch_out</td>\n",
       "      <td>Cottrell</td>\n",
       "    </tr>\n",
       "    <tr>\n",
       "      <th>88</th>\n",
       "      <td>88</td>\n",
       "      <td>Virat Kohli (c)</td>\n",
       "      <td>59</td>\n",
       "      <td>45</td>\n",
       "      <td>6</td>\n",
       "      <td>0</td>\n",
       "      <td>131.11</td>\n",
       "      <td>catch_out</td>\n",
       "      <td>Thomas</td>\n",
       "    </tr>\n",
       "    <tr>\n",
       "      <th>89</th>\n",
       "      <td>89</td>\n",
       "      <td>Virat Kohli (c)</td>\n",
       "      <td>72</td>\n",
       "      <td>52</td>\n",
       "      <td>4</td>\n",
       "      <td>3</td>\n",
       "      <td>138.46</td>\n",
       "      <td>not_out</td>\n",
       "      <td>NaN</td>\n",
       "    </tr>\n",
       "    <tr>\n",
       "      <th>90</th>\n",
       "      <td>90</td>\n",
       "      <td>Virat Kohli (c)</td>\n",
       "      <td>9</td>\n",
       "      <td>15</td>\n",
       "      <td>0</td>\n",
       "      <td>0</td>\n",
       "      <td>60.00</td>\n",
       "      <td>catch_out</td>\n",
       "      <td>Raada</td>\n",
       "    </tr>\n",
       "  </tbody>\n",
       "</table>\n",
       "<p>91 rows × 9 columns</p>\n",
       "</div>"
      ],
      "text/plain": [
       "    level_0           player  runs  balls  fours  sixes  strike_rate  \\\n",
       "0         0  Virat Kohli (c)    94     50      6      6       188.00   \n",
       "1         1  Virat Kohli (c)    19     17      2      0       111.76   \n",
       "2         2  Virat Kohli (c)    70     29      4      7       241.37   \n",
       "3         3  Virat Kohli (c)    30     17      1      2       176.47   \n",
       "4         4  Virat Kohli (c)    26     17      2      1       152.94   \n",
       "..      ...              ...   ...    ...    ...    ...          ...   \n",
       "86       86  Virat Kohli (c)    19     29      1      0        65.51   \n",
       "87       87  Virat Kohli (c)    28     23      1      1       121.73   \n",
       "88       88  Virat Kohli (c)    59     45      6      0       131.11   \n",
       "89       89  Virat Kohli (c)    72     52      4      3       138.46   \n",
       "90       90  Virat Kohli (c)     9     15      0      0        60.00   \n",
       "\n",
       "         out_type                  outby  \n",
       "0         not_out                    NaN  \n",
       "1       catch_out               Williams  \n",
       "2         not_out                    NaN  \n",
       "3         not_out                    NaN  \n",
       "4   runot_out_out  (Gunathilaka/†Perera)  \n",
       "..            ...                    ...  \n",
       "86      catch_out               Cottrell  \n",
       "87      catch_out               Cottrell  \n",
       "88      catch_out                 Thomas  \n",
       "89        not_out                    NaN  \n",
       "90      catch_out                  Raada  \n",
       "\n",
       "[91 rows x 9 columns]"
      ]
     },
     "execution_count": 73,
     "metadata": {},
     "output_type": "execute_result"
    }
   ],
   "source": [
    "df = pd.read_csv(\"t20_record.csv\")\n",
    "df= df.reset_index()\n",
    "df = df.drop(['index'],axis = 1)\n",
    "df.rename(columns = {'0':'player'}, inplace = True)\n",
    "# df.rename(columns = {'empty':'total_balls'}, inplace = True)\n",
    "df"
   ]
  },
  {
   "cell_type": "code",
   "execution_count": 58,
   "id": "7bd46fa9",
   "metadata": {},
   "outputs": [],
   "source": [
    "# df['total_balls'] = df['total_balls'].replace('-','0')\n",
    "# df['strike_rate'] = df['strike_rate'].replace('-','0')\n",
    "\n",
    "# df['out_type'] = df['out_type'].replace('n','not_out')\n",
    "# df['out_type'] = df['out_type'].replace(' ','not_out')\n",
    "# df['out_type'] = df['out_type'].replace('n','not_out')\n",
    "# df['out_type'] = df['out_type'].replace('s','catch_out')\n",
    "# df['out_type'] = df['out_type'].replace('h','run_out')"
   ]
  },
  {
   "cell_type": "markdown",
   "id": "82700c7a",
   "metadata": {},
   "source": [
    "    #linear regression strike rate vs balls played\n",
    "    #runs vs balls played\n",
    "    #runs vs strike rates\n",
    "    #4and 6 vs out type --> lbw or catch_out\n",
    "    #strike rate vs outtype --> decision tree model\n",
    "    #dot balls and out_type"
   ]
  },
  {
   "cell_type": "markdown",
   "id": "38086ef2",
   "metadata": {},
   "source": [
    "### Linear Regression balls played vs strike rate\n",
    "\n",
    "\n",
    "simple model of linear regression is: \n",
    "$y = \\alpha + \\beta x + c$\n",
    "\n",
    "\n",
    "Since, we are using the multiple linear regression model, we will have to expand the simple model.\n",
    "\n",
    "\n",
    "$ y = \\alpha + \\beta_1 x_1 + \\beta_2 x_2 + \\beta_3 x_3 + .......+c$\n",
    "\n",
    "\n",
    "where $y$ is the target variable and the $x$ are the prediction variable"
   ]
  },
  {
   "cell_type": "code",
   "execution_count": 59,
   "id": "4ad6f272",
   "metadata": {},
   "outputs": [
    {
     "data": {
      "text/html": [
       "<div>\n",
       "<style scoped>\n",
       "    .dataframe tbody tr th:only-of-type {\n",
       "        vertical-align: middle;\n",
       "    }\n",
       "\n",
       "    .dataframe tbody tr th {\n",
       "        vertical-align: top;\n",
       "    }\n",
       "\n",
       "    .dataframe thead th {\n",
       "        text-align: right;\n",
       "    }\n",
       "</style>\n",
       "<table border=\"1\" class=\"dataframe\">\n",
       "  <thead>\n",
       "    <tr style=\"text-align: right;\">\n",
       "      <th></th>\n",
       "      <th>level_0</th>\n",
       "      <th>0</th>\n",
       "      <th>runs</th>\n",
       "      <th>balls</th>\n",
       "      <th>fours</th>\n",
       "      <th>sixes</th>\n",
       "      <th>strike_rate</th>\n",
       "      <th>out_type</th>\n",
       "      <th>outby</th>\n",
       "    </tr>\n",
       "  </thead>\n",
       "  <tbody>\n",
       "    <tr>\n",
       "      <th>0</th>\n",
       "      <td>0</td>\n",
       "      <td>Virat Kohli (c)</td>\n",
       "      <td>94</td>\n",
       "      <td>50</td>\n",
       "      <td>6</td>\n",
       "      <td>6</td>\n",
       "      <td>188.00</td>\n",
       "      <td>not_out</td>\n",
       "      <td>NaN</td>\n",
       "    </tr>\n",
       "    <tr>\n",
       "      <th>1</th>\n",
       "      <td>1</td>\n",
       "      <td>Virat Kohli (c)</td>\n",
       "      <td>19</td>\n",
       "      <td>17</td>\n",
       "      <td>2</td>\n",
       "      <td>0</td>\n",
       "      <td>111.76</td>\n",
       "      <td>catch_out</td>\n",
       "      <td>Williams</td>\n",
       "    </tr>\n",
       "    <tr>\n",
       "      <th>2</th>\n",
       "      <td>2</td>\n",
       "      <td>Virat Kohli (c)</td>\n",
       "      <td>70</td>\n",
       "      <td>29</td>\n",
       "      <td>4</td>\n",
       "      <td>7</td>\n",
       "      <td>241.37</td>\n",
       "      <td>not_out</td>\n",
       "      <td>NaN</td>\n",
       "    </tr>\n",
       "    <tr>\n",
       "      <th>3</th>\n",
       "      <td>3</td>\n",
       "      <td>Virat Kohli (c)</td>\n",
       "      <td>30</td>\n",
       "      <td>17</td>\n",
       "      <td>1</td>\n",
       "      <td>2</td>\n",
       "      <td>176.47</td>\n",
       "      <td>not_out</td>\n",
       "      <td>NaN</td>\n",
       "    </tr>\n",
       "    <tr>\n",
       "      <th>4</th>\n",
       "      <td>4</td>\n",
       "      <td>Virat Kohli (c)</td>\n",
       "      <td>26</td>\n",
       "      <td>17</td>\n",
       "      <td>2</td>\n",
       "      <td>1</td>\n",
       "      <td>152.94</td>\n",
       "      <td>runot_out_out</td>\n",
       "      <td>(Gunathilaka/†Perera)</td>\n",
       "    </tr>\n",
       "    <tr>\n",
       "      <th>...</th>\n",
       "      <td>...</td>\n",
       "      <td>...</td>\n",
       "      <td>...</td>\n",
       "      <td>...</td>\n",
       "      <td>...</td>\n",
       "      <td>...</td>\n",
       "      <td>...</td>\n",
       "      <td>...</td>\n",
       "      <td>...</td>\n",
       "    </tr>\n",
       "    <tr>\n",
       "      <th>86</th>\n",
       "      <td>86</td>\n",
       "      <td>Virat Kohli (c)</td>\n",
       "      <td>19</td>\n",
       "      <td>29</td>\n",
       "      <td>1</td>\n",
       "      <td>0</td>\n",
       "      <td>65.51</td>\n",
       "      <td>catch_out</td>\n",
       "      <td>Cottrell</td>\n",
       "    </tr>\n",
       "    <tr>\n",
       "      <th>87</th>\n",
       "      <td>87</td>\n",
       "      <td>Virat Kohli (c)</td>\n",
       "      <td>28</td>\n",
       "      <td>23</td>\n",
       "      <td>1</td>\n",
       "      <td>1</td>\n",
       "      <td>121.73</td>\n",
       "      <td>catch_out</td>\n",
       "      <td>Cottrell</td>\n",
       "    </tr>\n",
       "    <tr>\n",
       "      <th>88</th>\n",
       "      <td>88</td>\n",
       "      <td>Virat Kohli (c)</td>\n",
       "      <td>59</td>\n",
       "      <td>45</td>\n",
       "      <td>6</td>\n",
       "      <td>0</td>\n",
       "      <td>131.11</td>\n",
       "      <td>catch_out</td>\n",
       "      <td>Thomas</td>\n",
       "    </tr>\n",
       "    <tr>\n",
       "      <th>89</th>\n",
       "      <td>89</td>\n",
       "      <td>Virat Kohli (c)</td>\n",
       "      <td>72</td>\n",
       "      <td>52</td>\n",
       "      <td>4</td>\n",
       "      <td>3</td>\n",
       "      <td>138.46</td>\n",
       "      <td>not_out</td>\n",
       "      <td>NaN</td>\n",
       "    </tr>\n",
       "    <tr>\n",
       "      <th>90</th>\n",
       "      <td>90</td>\n",
       "      <td>Virat Kohli (c)</td>\n",
       "      <td>9</td>\n",
       "      <td>15</td>\n",
       "      <td>0</td>\n",
       "      <td>0</td>\n",
       "      <td>60.00</td>\n",
       "      <td>catch_out</td>\n",
       "      <td>Raada</td>\n",
       "    </tr>\n",
       "  </tbody>\n",
       "</table>\n",
       "<p>91 rows × 9 columns</p>\n",
       "</div>"
      ],
      "text/plain": [
       "    level_0                0  runs  balls  fours  sixes  strike_rate  \\\n",
       "0         0  Virat Kohli (c)    94     50      6      6       188.00   \n",
       "1         1  Virat Kohli (c)    19     17      2      0       111.76   \n",
       "2         2  Virat Kohli (c)    70     29      4      7       241.37   \n",
       "3         3  Virat Kohli (c)    30     17      1      2       176.47   \n",
       "4         4  Virat Kohli (c)    26     17      2      1       152.94   \n",
       "..      ...              ...   ...    ...    ...    ...          ...   \n",
       "86       86  Virat Kohli (c)    19     29      1      0        65.51   \n",
       "87       87  Virat Kohli (c)    28     23      1      1       121.73   \n",
       "88       88  Virat Kohli (c)    59     45      6      0       131.11   \n",
       "89       89  Virat Kohli (c)    72     52      4      3       138.46   \n",
       "90       90  Virat Kohli (c)     9     15      0      0        60.00   \n",
       "\n",
       "         out_type                  outby  \n",
       "0         not_out                    NaN  \n",
       "1       catch_out               Williams  \n",
       "2         not_out                    NaN  \n",
       "3         not_out                    NaN  \n",
       "4   runot_out_out  (Gunathilaka/†Perera)  \n",
       "..            ...                    ...  \n",
       "86      catch_out               Cottrell  \n",
       "87      catch_out               Cottrell  \n",
       "88      catch_out                 Thomas  \n",
       "89        not_out                    NaN  \n",
       "90      catch_out                  Raada  \n",
       "\n",
       "[91 rows x 9 columns]"
      ]
     },
     "execution_count": 59,
     "metadata": {},
     "output_type": "execute_result"
    }
   ],
   "source": [
    "df['balls']=df['balls'].astype(int) \n",
    "# df['total_balls']=df['total_balls'].astype(int)\n",
    "df['strike_rate'] = df['strike_rate'].astype(float)\n",
    "df['out_type'].unique()\n",
    "df"
   ]
  },
  {
   "cell_type": "code",
   "execution_count": 60,
   "id": "48cdf35b",
   "metadata": {},
   "outputs": [
    {
     "data": {
      "text/plain": [
       "72"
      ]
     },
     "execution_count": 60,
     "metadata": {},
     "output_type": "execute_result"
    }
   ],
   "source": [
    "balls = df[['balls']]\n",
    "strike_rate = df[['strike_rate']]\n",
    "type(balls)\n",
    "#splitting the data into test dataset and train dataset\n",
    "from sklearn.model_selection import train_test_split\n",
    "x_train,x_test,y_train,y_test = train_test_split(balls,strike_rate,test_size =0.2)\n",
    "len(x_train)"
   ]
  },
  {
   "cell_type": "code",
   "execution_count": 61,
   "id": "e0eff8e6",
   "metadata": {},
   "outputs": [],
   "source": [
    " y_test.values.reshape((1,len(y_test)))\n",
    "    \n",
    "from sklearn import linear_model\n",
    "from sklearn.metrics import mean_squared_error, r2_score\n",
    "\n",
    "#from sklearn importing the library to perform the linear regression\n",
    "regr = linear_model.LinearRegression()\n",
    "regr.fit(x_train, y_train)\n",
    "y_pred = regr.predict(x_test)"
   ]
  },
  {
   "cell_type": "code",
   "execution_count": 62,
   "id": "78c74db9",
   "metadata": {},
   "outputs": [
    {
     "data": {
      "text/html": [
       "<div>\n",
       "<style scoped>\n",
       "    .dataframe tbody tr th:only-of-type {\n",
       "        vertical-align: middle;\n",
       "    }\n",
       "\n",
       "    .dataframe tbody tr th {\n",
       "        vertical-align: top;\n",
       "    }\n",
       "\n",
       "    .dataframe thead th {\n",
       "        text-align: right;\n",
       "    }\n",
       "</style>\n",
       "<table border=\"1\" class=\"dataframe\">\n",
       "  <thead>\n",
       "    <tr style=\"text-align: right;\">\n",
       "      <th></th>\n",
       "      <th>Actual</th>\n",
       "      <th>predicted</th>\n",
       "    </tr>\n",
       "  </thead>\n",
       "  <tbody>\n",
       "    <tr>\n",
       "      <th>0</th>\n",
       "      <td>148.97</td>\n",
       "      <td>155.023440</td>\n",
       "    </tr>\n",
       "    <tr>\n",
       "      <th>1</th>\n",
       "      <td>183.33</td>\n",
       "      <td>97.389226</td>\n",
       "    </tr>\n",
       "    <tr>\n",
       "      <th>2</th>\n",
       "      <td>141.17</td>\n",
       "      <td>112.132862</td>\n",
       "    </tr>\n",
       "    <tr>\n",
       "      <th>3</th>\n",
       "      <td>132.75</td>\n",
       "      <td>167.086415</td>\n",
       "    </tr>\n",
       "    <tr>\n",
       "      <th>4</th>\n",
       "      <td>157.14</td>\n",
       "      <td>108.111870</td>\n",
       "    </tr>\n",
       "  </tbody>\n",
       "</table>\n",
       "</div>"
      ],
      "text/plain": [
       "   Actual   predicted\n",
       "0  148.97  155.023440\n",
       "1  183.33   97.389226\n",
       "2  141.17  112.132862\n",
       "3  132.75  167.086415\n",
       "4  157.14  108.111870"
      ]
     },
     "execution_count": 62,
     "metadata": {},
     "output_type": "execute_result"
    }
   ],
   "source": [
    "#using linear regression to find out the relationship bw the balls palyed and the strike rate of the player\n",
    "from sklearn import linear_model\n",
    "from sklearn.metrics import mean_squared_error, r2_score\n",
    "\n",
    "regr = linear_model.LinearRegression()\n",
    "regr.fit(x_train, y_train)\n",
    "y_pred = regr.predict(x_test)\n",
    "\n",
    "result = pd.DataFrame({\n",
    "    \"Actual\": y_test.values.reshape((1,len(y_test)))[0],\n",
    "    \"predicted\": y_pred.reshape((1,len(y_test)))[0]\n",
    "})\n",
    "result.head()"
   ]
  },
  {
   "cell_type": "code",
   "execution_count": 63,
   "id": "d4fe5b45",
   "metadata": {},
   "outputs": [
    {
     "name": "stdout",
     "output_type": "stream",
     "text": [
      "the regression coefficents are : [[1.34033056]]\n",
      "the regression intercept is : [89.34724212]\n",
      "Mean squared error: 9492.95\n",
      "Coefficient of determination: -29.48\n"
     ]
    }
   ],
   "source": [
    "print(\"the regression coefficents are :\",regr.coef_)\n",
    "print(\"the regression intercept is :\",regr.intercept_)\n",
    "print(\"Mean squared error: %.2f\" % mean_squared_error(x_test, y_pred))\n",
    "print(\"Coefficient of determination: %.2f\" % r2_score(x_test, y_pred))"
   ]
  },
  {
   "cell_type": "markdown",
   "id": "89a16e85",
   "metadata": {},
   "source": [
    "We have received the regression coefficient as 1.34 and the intercept as 89.34. Mean square error is 9492.95\n"
   ]
  },
  {
   "cell_type": "code",
   "execution_count": 64,
   "id": "fdc1ffcf",
   "metadata": {},
   "outputs": [
    {
     "data": {
      "image/png": "[encoded data removed]",
      "text/plain": [
       "<Figure size 432x288 with 1 Axes>"
      ]
     },
     "metadata": {},
     "output_type": "display_data"
    }
   ],
   "source": [
    "# Plotting the strike rate vs balls played by virat kohli\n",
    "import matplotlib.pyplot as plt\n",
    "plt.scatter(x_test, y_pred.reshape((1,len(y_test)))[0], color=\"black\")\n",
    "plt.plot(x_test[\"balls\"], y_pred.reshape((1,len(y_test)))[0], color=\"blue\", linewidth=3)\n",
    "plt.title(\"strike_rate vs balls\")\n",
    "plt.xlabel(\"balls played\")\n",
    "plt.ylabel(\"strike rate\")\n",
    "plt.xticks(())\n",
    "plt.yticks(())\n",
    "plt.show()"
   ]
  },
  {
   "cell_type": "markdown",
   "id": "eb2f4aa0",
   "metadata": {},
   "source": [
    "strike rate vs Balls played \n",
    "the above regression line tells that there is a direct relation between the balls played and the strike rate in the one day match."
   ]
  },
  {
   "cell_type": "markdown",
   "id": "6c046c83",
   "metadata": {},
   "source": [
    "#### enter Number of balls played to predict the what would be the strike rate...!"
   ]
  },
  {
   "cell_type": "code",
   "execution_count": 65,
   "id": "e15522a8",
   "metadata": {},
   "outputs": [
    {
     "name": "stdout",
     "output_type": "stream",
     "text": [
      "Enter Number of balls played to Predict Strike Rate:--->100\n",
      "the predicted strike Rate is :->\n",
      "[[223.38029855]]\n"
     ]
    },
    {
     "name": "stderr",
     "output_type": "stream",
     "text": [
      "C:\\Users\\Anand\\anaconda3\\lib\\site-packages\\sklearn\\base.py:450: UserWarning: X does not have valid feature names, but LinearRegression was fitted with feature names\n",
      "  warnings.warn(\n",
      "C:\\Users\\Anand\\anaconda3\\lib\\site-packages\\sklearn\\base.py:566: FutureWarning: Arrays of bytes/strings is being converted to decimal numbers if dtype='numeric'. This behavior is deprecated in 0.24 and will be removed in 1.1 (renaming of 0.26). Please convert your data to numeric values explicitly instead.\n",
      "  X = check_array(X, **check_params)\n"
     ]
    }
   ],
   "source": [
    "value = input(\"Enter Number of balls played to Predict Strike Rate:--->\")\n",
    "value= [[value]]\n",
    "pred_sr = regr.predict(value)\n",
    "print(\"the predicted strike Rate is :->\")\n",
    "print(pred_sr)"
   ]
  },
  {
   "cell_type": "markdown",
   "id": "41289e5b",
   "metadata": {},
   "source": [
    "runs vs balls played"
   ]
  },
  {
   "cell_type": "code",
   "execution_count": 66,
   "id": "101d2583",
   "metadata": {},
   "outputs": [
    {
     "data": {
      "text/plain": [
       "Text(0, 0.5, 'runs')"
      ]
     },
     "execution_count": 66,
     "metadata": {},
     "output_type": "execute_result"
    },
    {
     "data": {
      "image/png": "[encoded data removed]",
      "text/plain": [
       "<Figure size 432x288 with 1 Axes>"
      ]
     },
     "metadata": {
      "needs_background": "light"
     },
     "output_type": "display_data"
    }
   ],
   "source": [
    "plt.scatter(df['balls'].astype(int),df['runs'].astype(int), color = 'red')\n",
    "plt.title(\"Scatter plot Runs Vs total balls played\")\n",
    "plt.xlabel(\"total_balls\")\n",
    "plt.ylabel(\"runs\")"
   ]
  },
  {
   "cell_type": "code",
   "execution_count": 67,
   "id": "78a21c32",
   "metadata": {},
   "outputs": [
    {
     "data": {
      "text/plain": [
       "Text(0, 0.5, 'strike rate')"
      ]
     },
     "execution_count": 67,
     "metadata": {},
     "output_type": "execute_result"
    },
    {
     "data": {
      "image/png": "[encoded data removed]",
      "text/plain": [
       "<Figure size 432x288 with 1 Axes>"
      ]
     },
     "metadata": {
      "needs_background": "light"
     },
     "output_type": "display_data"
    }
   ],
   "source": [
    "# runs vs strike rates \n",
    "plt.scatter(df['runs'].astype(int),df['strike_rate'].astype(int), color = 'blue')\n",
    "plt.title(\"Scatter plot runs Vs strike_rate\")\n",
    "plt.xlabel(\"runs\")\n",
    "plt.ylabel(\"strike rate\")"
   ]
  },
  {
   "cell_type": "markdown",
   "id": "4f760864",
   "metadata": {},
   "source": [
    "between 0 to 30 balls the strike rate is increasing sharply after that it is increasing slowly."
   ]
  },
  {
   "cell_type": "code",
   "execution_count": 68,
   "id": "dfef8145",
   "metadata": {},
   "outputs": [
    {
     "data": {
      "text/plain": [
       "array(['not_out', 'catch_out', 'runot_out_out', 'lbw'], dtype=object)"
      ]
     },
     "execution_count": 68,
     "metadata": {},
     "output_type": "execute_result"
    }
   ],
   "source": [
    "df['out_type'].unique()"
   ]
  },
  {
   "cell_type": "code",
   "execution_count": 69,
   "id": "e16fe7bb",
   "metadata": {},
   "outputs": [
    {
     "name": "stdout",
     "output_type": "stream",
     "text": [
      "16\n"
     ]
    }
   ],
   "source": [
    "l = len(df)\n",
    "# lbw4= 0, lbw6=0,co4=0,co6=0,no4=0,no6=0,ro4=0,ro6=0\n",
    "lf=0\n",
    "ls =0\n",
    "cf=0\n",
    "cs =0\n",
    "nf =0\n",
    "ns =0\n",
    "rf =0\n",
    "rs=0\n",
    "for i in range(l):\n",
    "    if df['out_type'][i] == 'lbw':\n",
    "        lf=lf+df['fours'][i]\n",
    "        ls= ls+df['sixes'][i]\n",
    "    elif df['out_type'][i] == 'catch_out':\n",
    "        cf=cf+df['fours'][i]\n",
    "        cs= cs+df['sixes'][i]\n",
    "    elif df['out_type'][i] == 'not_out':\n",
    "        nf=nf+df['fours'][i]\n",
    "        ns= ns+df['sixes'][i]\n",
    "    else:\n",
    "        rf=rf+df['fours'][i]\n",
    "        rs= rs+df['sixes'][i]\n",
    "print(lf)"
   ]
  },
  {
   "cell_type": "code",
   "execution_count": 70,
   "id": "07108d17",
   "metadata": {},
   "outputs": [
    {
     "data": {
      "text/plain": [
       "0           not_out\n",
       "1         catch_out\n",
       "2           not_out\n",
       "3           not_out\n",
       "4     runot_out_out\n",
       "          ...      \n",
       "86        catch_out\n",
       "87        catch_out\n",
       "88        catch_out\n",
       "89          not_out\n",
       "90        catch_out\n",
       "Name: out_type, Length: 91, dtype: object"
      ]
     },
     "execution_count": 70,
     "metadata": {},
     "output_type": "execute_result"
    }
   ],
   "source": [
    "df['out_type']"
   ]
  },
  {
   "cell_type": "code",
   "execution_count": 71,
   "id": "e650da6a",
   "metadata": {},
   "outputs": [
    {
     "data": {
      "image/png": "[encoded data removed]",
      "text/plain": [
       "<Figure size 432x360 with 1 Axes>"
      ]
     },
     "metadata": {
      "needs_background": "light"
     },
     "output_type": "display_data"
    }
   ],
   "source": [
    "# histogram of out_type and the number of 4s and sixes in the dataset\n",
    "tags = ( 'lbw', 'catch_out', 'run_out', 'not_out')\n",
    "# insert some newlines in the tags to better fit into the plot\n",
    "tags = [tag.replace(' (', '\\n(') for tag in tags]\n",
    "fours = (lf,cf,nf,rf)\n",
    "sixes = (ls,cs,ns,rs)\n",
    "\n",
    "# create a dataframe\n",
    "df_temp = pd.DataFrame({\"fours\": fours, \"sixes\": sixes}, index=tags)\n",
    "df_temp.plot.bar(rot=0, figsize=(6, 5))\n",
    "plt.tight_layout() # fit labels etc. nicely into the plot\n",
    "plt.xlabel(\"out type\")\n",
    "plt.ylabel(\"number of 4's and 6's\")\n",
    "plt.title(\"Graph showing the number of boundries and the out type\")\n",
    "plt.show()\n"
   ]
  },
  {
   "cell_type": "markdown",
   "id": "cb9594d3",
   "metadata": {},
   "source": [
    "The data is showing that the matches in which he scored more boundries in those matches he has the hight chanses of getting catch out or run_out"
   ]
  },
  {
   "cell_type": "markdown",
   "id": "a9c6bea7",
   "metadata": {},
   "source": [
    "### decisionTree Model\n",
    "The decision tree is a supervised learning algorithm that involves dividing data into smaller and smaller subsets until each subset can be classified. It relies on concepts like nodes, edges, and leaf nodes to classify the data. The algorithm starts by calculating the entropy, or uncertainty, of the database. A lower entropy value indicates better classification results. The algorithm then calculates the information gain of each feature, which is a measure of how much uncertainty is reduced by splitting the data on that feature. The data is then split on the feature with the highest information gain, and the process is repeated until all the nodes are cleared.\n",
    "\n",
    "source:https://www.sciencedirect.com/topics/computer-science/decision-tree-classifier"
   ]
  },
  {
   "cell_type": "code",
   "execution_count": 74,
   "id": "db455299",
   "metadata": {},
   "outputs": [
    {
     "data": {
      "text/html": [
       "<div>\n",
       "<style scoped>\n",
       "    .dataframe tbody tr th:only-of-type {\n",
       "        vertical-align: middle;\n",
       "    }\n",
       "\n",
       "    .dataframe tbody tr th {\n",
       "        vertical-align: top;\n",
       "    }\n",
       "\n",
       "    .dataframe thead th {\n",
       "        text-align: right;\n",
       "    }\n",
       "</style>\n",
       "<table border=\"1\" class=\"dataframe\">\n",
       "  <thead>\n",
       "    <tr style=\"text-align: right;\">\n",
       "      <th></th>\n",
       "      <th>runs</th>\n",
       "      <th>balls</th>\n",
       "      <th>fours</th>\n",
       "      <th>sixes</th>\n",
       "      <th>strike_rate</th>\n",
       "      <th>out_type</th>\n",
       "    </tr>\n",
       "  </thead>\n",
       "  <tbody>\n",
       "    <tr>\n",
       "      <th>0</th>\n",
       "      <td>94</td>\n",
       "      <td>50</td>\n",
       "      <td>6</td>\n",
       "      <td>6</td>\n",
       "      <td>188.00</td>\n",
       "      <td>2</td>\n",
       "    </tr>\n",
       "    <tr>\n",
       "      <th>1</th>\n",
       "      <td>19</td>\n",
       "      <td>17</td>\n",
       "      <td>2</td>\n",
       "      <td>0</td>\n",
       "      <td>111.76</td>\n",
       "      <td>0</td>\n",
       "    </tr>\n",
       "    <tr>\n",
       "      <th>2</th>\n",
       "      <td>70</td>\n",
       "      <td>29</td>\n",
       "      <td>4</td>\n",
       "      <td>7</td>\n",
       "      <td>241.37</td>\n",
       "      <td>2</td>\n",
       "    </tr>\n",
       "    <tr>\n",
       "      <th>3</th>\n",
       "      <td>30</td>\n",
       "      <td>17</td>\n",
       "      <td>1</td>\n",
       "      <td>2</td>\n",
       "      <td>176.47</td>\n",
       "      <td>2</td>\n",
       "    </tr>\n",
       "    <tr>\n",
       "      <th>4</th>\n",
       "      <td>26</td>\n",
       "      <td>17</td>\n",
       "      <td>2</td>\n",
       "      <td>1</td>\n",
       "      <td>152.94</td>\n",
       "      <td>3</td>\n",
       "    </tr>\n",
       "    <tr>\n",
       "      <th>...</th>\n",
       "      <td>...</td>\n",
       "      <td>...</td>\n",
       "      <td>...</td>\n",
       "      <td>...</td>\n",
       "      <td>...</td>\n",
       "      <td>...</td>\n",
       "    </tr>\n",
       "    <tr>\n",
       "      <th>86</th>\n",
       "      <td>19</td>\n",
       "      <td>29</td>\n",
       "      <td>1</td>\n",
       "      <td>0</td>\n",
       "      <td>65.51</td>\n",
       "      <td>0</td>\n",
       "    </tr>\n",
       "    <tr>\n",
       "      <th>87</th>\n",
       "      <td>28</td>\n",
       "      <td>23</td>\n",
       "      <td>1</td>\n",
       "      <td>1</td>\n",
       "      <td>121.73</td>\n",
       "      <td>0</td>\n",
       "    </tr>\n",
       "    <tr>\n",
       "      <th>88</th>\n",
       "      <td>59</td>\n",
       "      <td>45</td>\n",
       "      <td>6</td>\n",
       "      <td>0</td>\n",
       "      <td>131.11</td>\n",
       "      <td>0</td>\n",
       "    </tr>\n",
       "    <tr>\n",
       "      <th>89</th>\n",
       "      <td>72</td>\n",
       "      <td>52</td>\n",
       "      <td>4</td>\n",
       "      <td>3</td>\n",
       "      <td>138.46</td>\n",
       "      <td>2</td>\n",
       "    </tr>\n",
       "    <tr>\n",
       "      <th>90</th>\n",
       "      <td>9</td>\n",
       "      <td>15</td>\n",
       "      <td>0</td>\n",
       "      <td>0</td>\n",
       "      <td>60.00</td>\n",
       "      <td>0</td>\n",
       "    </tr>\n",
       "  </tbody>\n",
       "</table>\n",
       "<p>91 rows × 6 columns</p>\n",
       "</div>"
      ],
      "text/plain": [
       "    runs  balls  fours  sixes  strike_rate  out_type\n",
       "0     94     50      6      6       188.00         2\n",
       "1     19     17      2      0       111.76         0\n",
       "2     70     29      4      7       241.37         2\n",
       "3     30     17      1      2       176.47         2\n",
       "4     26     17      2      1       152.94         3\n",
       "..   ...    ...    ...    ...          ...       ...\n",
       "86    19     29      1      0        65.51         0\n",
       "87    28     23      1      1       121.73         0\n",
       "88    59     45      6      0       131.11         0\n",
       "89    72     52      4      3       138.46         2\n",
       "90     9     15      0      0        60.00         0\n",
       "\n",
       "[91 rows x 6 columns]"
      ]
     },
     "execution_count": 74,
     "metadata": {},
     "output_type": "execute_result"
    }
   ],
   "source": [
    "# building a predictinv model such as decision tree to find out that with all the realevant parameter \n",
    "#what could be his out_type\n",
    "\n",
    "#=================================================================================\n",
    "#decision tree method\n",
    "#=================================================================================\n",
    "# since machine learning algo does not able to understand the strings we have to convert it into a numerical values\n",
    "df2 = df\n",
    "from sklearn.preprocessing import LabelEncoder\n",
    "#creating object for the label encoder\n",
    "out = LabelEncoder()\n",
    "df2['out_type']= out.fit_transform(df2['out_type'])\n",
    "\n",
    "\n",
    "df2 = df2.drop(['outby'], axis=1)\n",
    "df2 = df2.drop(['player'], axis=1)\n",
    "df2 = df2.drop(['level_0'], axis=1)\n",
    "df2\n"
   ]
  },
  {
   "cell_type": "code",
   "execution_count": null,
   "id": "9a827b69",
   "metadata": {},
   "outputs": [],
   "source": [
    "df.corr()"
   ]
  },
  {
   "cell_type": "code",
   "execution_count": 76,
   "id": "e3dff4dc",
   "metadata": {},
   "outputs": [
    {
     "data": {
      "text/html": [
       "<div>\n",
       "<style scoped>\n",
       "    .dataframe tbody tr th:only-of-type {\n",
       "        vertical-align: middle;\n",
       "    }\n",
       "\n",
       "    .dataframe tbody tr th {\n",
       "        vertical-align: top;\n",
       "    }\n",
       "\n",
       "    .dataframe thead th {\n",
       "        text-align: right;\n",
       "    }\n",
       "</style>\n",
       "<table border=\"1\" class=\"dataframe\">\n",
       "  <thead>\n",
       "    <tr style=\"text-align: right;\">\n",
       "      <th></th>\n",
       "      <th>runs</th>\n",
       "      <th>balls</th>\n",
       "      <th>balls</th>\n",
       "      <th>fours</th>\n",
       "      <th>sixes</th>\n",
       "      <th>strike_rate</th>\n",
       "    </tr>\n",
       "  </thead>\n",
       "  <tbody>\n",
       "    <tr>\n",
       "      <th>65</th>\n",
       "      <td>29</td>\n",
       "      <td>26</td>\n",
       "      <td>26</td>\n",
       "      <td>4</td>\n",
       "      <td>0</td>\n",
       "      <td>111.53</td>\n",
       "    </tr>\n",
       "    <tr>\n",
       "      <th>27</th>\n",
       "      <td>4</td>\n",
       "      <td>5</td>\n",
       "      <td>5</td>\n",
       "      <td>0</td>\n",
       "      <td>0</td>\n",
       "      <td>80.00</td>\n",
       "    </tr>\n",
       "    <tr>\n",
       "      <th>71</th>\n",
       "      <td>0</td>\n",
       "      <td>2</td>\n",
       "      <td>2</td>\n",
       "      <td>0</td>\n",
       "      <td>0</td>\n",
       "      <td>0.00</td>\n",
       "    </tr>\n",
       "    <tr>\n",
       "      <th>24</th>\n",
       "      <td>26</td>\n",
       "      <td>21</td>\n",
       "      <td>21</td>\n",
       "      <td>3</td>\n",
       "      <td>1</td>\n",
       "      <td>123.80</td>\n",
       "    </tr>\n",
       "    <tr>\n",
       "      <th>75</th>\n",
       "      <td>26</td>\n",
       "      <td>20</td>\n",
       "      <td>20</td>\n",
       "      <td>2</td>\n",
       "      <td>1</td>\n",
       "      <td>130.00</td>\n",
       "    </tr>\n",
       "    <tr>\n",
       "      <th>...</th>\n",
       "      <td>...</td>\n",
       "      <td>...</td>\n",
       "      <td>...</td>\n",
       "      <td>...</td>\n",
       "      <td>...</td>\n",
       "      <td>...</td>\n",
       "    </tr>\n",
       "    <tr>\n",
       "      <th>4</th>\n",
       "      <td>26</td>\n",
       "      <td>17</td>\n",
       "      <td>17</td>\n",
       "      <td>2</td>\n",
       "      <td>1</td>\n",
       "      <td>152.94</td>\n",
       "    </tr>\n",
       "    <tr>\n",
       "      <th>10</th>\n",
       "      <td>40</td>\n",
       "      <td>24</td>\n",
       "      <td>24</td>\n",
       "      <td>2</td>\n",
       "      <td>2</td>\n",
       "      <td>166.66</td>\n",
       "    </tr>\n",
       "    <tr>\n",
       "      <th>78</th>\n",
       "      <td>9</td>\n",
       "      <td>8</td>\n",
       "      <td>8</td>\n",
       "      <td>1</td>\n",
       "      <td>0</td>\n",
       "      <td>112.50</td>\n",
       "    </tr>\n",
       "    <tr>\n",
       "      <th>86</th>\n",
       "      <td>19</td>\n",
       "      <td>29</td>\n",
       "      <td>29</td>\n",
       "      <td>1</td>\n",
       "      <td>0</td>\n",
       "      <td>65.51</td>\n",
       "    </tr>\n",
       "    <tr>\n",
       "      <th>70</th>\n",
       "      <td>22</td>\n",
       "      <td>14</td>\n",
       "      <td>14</td>\n",
       "      <td>3</td>\n",
       "      <td>0</td>\n",
       "      <td>157.14</td>\n",
       "    </tr>\n",
       "  </tbody>\n",
       "</table>\n",
       "<p>72 rows × 6 columns</p>\n",
       "</div>"
      ],
      "text/plain": [
       "    runs  balls  balls  fours  sixes  strike_rate\n",
       "65    29     26     26      4      0       111.53\n",
       "27     4      5      5      0      0        80.00\n",
       "71     0      2      2      0      0         0.00\n",
       "24    26     21     21      3      1       123.80\n",
       "75    26     20     20      2      1       130.00\n",
       "..   ...    ...    ...    ...    ...          ...\n",
       "4     26     17     17      2      1       152.94\n",
       "10    40     24     24      2      2       166.66\n",
       "78     9      8      8      1      0       112.50\n",
       "86    19     29     29      1      0        65.51\n",
       "70    22     14     14      3      0       157.14\n",
       "\n",
       "[72 rows x 6 columns]"
      ]
     },
     "execution_count": 76,
     "metadata": {},
     "output_type": "execute_result"
    }
   ],
   "source": [
    "predictor =['runs','balls','balls','fours','sixes','strike_rate']\n",
    "x = df[predictor]\n",
    "y = df['out_type']\n",
    "\n",
    "#splitting dataset into training and test dataset\n",
    "from sklearn.model_selection import train_test_split\n",
    "x_train,x_test,y_train,y_test= train_test_split(x,y,test_size=0.2)\n",
    "x_train"
   ]
  },
  {
   "cell_type": "markdown",
   "id": "422f407b",
   "metadata": {},
   "source": [
    "#### 'gini'\n",
    "gini impurity is more efficient in terms of the computing power compartively to entropy\n",
    "we can use gini to select the best features"
   ]
  },
  {
   "cell_type": "code",
   "execution_count": 77,
   "id": "88f75bbe",
   "metadata": {},
   "outputs": [],
   "source": [
    "from sklearn.tree import DecisionTreeClassifier\n",
    "classifier = DecisionTreeClassifier(criterion='gini')"
   ]
  },
  {
   "cell_type": "code",
   "execution_count": 78,
   "id": "4fee7581",
   "metadata": {},
   "outputs": [
    {
     "data": {
      "text/plain": [
       "DecisionTreeClassifier()"
      ]
     },
     "execution_count": 78,
     "metadata": {},
     "output_type": "execute_result"
    }
   ],
   "source": [
    "classifier.fit(x_train,y_train)"
   ]
  },
  {
   "cell_type": "code",
   "execution_count": 79,
   "id": "15106e2b",
   "metadata": {},
   "outputs": [
    {
     "data": {
      "text/plain": [
       "array([2, 0, 0, 0, 0, 0, 2, 0, 0, 1, 0, 0, 2, 0, 0, 0, 0, 2, 0])"
      ]
     },
     "execution_count": 79,
     "metadata": {},
     "output_type": "execute_result"
    }
   ],
   "source": [
    "classifier.predict(x_test)"
   ]
  },
  {
   "cell_type": "code",
   "execution_count": 80,
   "id": "54080144",
   "metadata": {},
   "outputs": [
    {
     "name": "stdout",
     "output_type": "stream",
     "text": [
      "Percentage Accuracy obtained from the decision tree classifier =\n",
      "57.89473684210527\n"
     ]
    }
   ],
   "source": [
    "acc = classifier.score(x_test,y_test)\n",
    "print(\"Percentage Accuracy obtained from the decision tree classifier =\")\n",
    "print(acc*100)"
   ]
  },
  {
   "cell_type": "code",
   "execution_count": 81,
   "id": "dae2a8d9",
   "metadata": {},
   "outputs": [
    {
     "data": {
      "text/plain": [
       "[Text(0.48674242424242425, 0.9615384615384616, 'X[0] <= 23.5\\ngini = 0.56\\nsamples = 72\\nvalue = [42, 3, 22, 5]'),\n",
       " Text(0.16666666666666666, 0.8846153846153846, 'X[2] <= 1.5\\ngini = 0.3\\nsamples = 29\\nvalue = [24, 0, 3, 2]'),\n",
       " Text(0.13636363636363635, 0.8076923076923077, 'gini = 0.0\\nsamples = 1\\nvalue = [0, 0, 0, 1]'),\n",
       " Text(0.19696969696969696, 0.8076923076923077, 'X[0] <= 3.0\\ngini = 0.253\\nsamples = 28\\nvalue = [24, 0, 3, 1]'),\n",
       " Text(0.12121212121212122, 0.7307692307692307, 'X[5] <= 41.665\\ngini = 0.494\\nsamples = 9\\nvalue = [6, 0, 2, 1]'),\n",
       " Text(0.06060606060606061, 0.6538461538461539, 'X[2] <= 4.0\\ngini = 0.245\\nsamples = 7\\nvalue = [6, 0, 1, 0]'),\n",
       " Text(0.030303030303030304, 0.5769230769230769, 'gini = 0.0\\nsamples = 3\\nvalue = [3, 0, 0, 0]'),\n",
       " Text(0.09090909090909091, 0.5769230769230769, 'X[0] <= 0.5\\ngini = 0.375\\nsamples = 4\\nvalue = [3, 0, 1, 0]'),\n",
       " Text(0.06060606060606061, 0.5, 'gini = 0.0\\nsamples = 1\\nvalue = [1, 0, 0, 0]'),\n",
       " Text(0.12121212121212122, 0.5, 'X[0] <= 1.5\\ngini = 0.444\\nsamples = 3\\nvalue = [2, 0, 1, 0]'),\n",
       " Text(0.09090909090909091, 0.4230769230769231, 'gini = 0.5\\nsamples = 2\\nvalue = [1, 0, 1, 0]'),\n",
       " Text(0.15151515151515152, 0.4230769230769231, 'gini = 0.0\\nsamples = 1\\nvalue = [1, 0, 0, 0]'),\n",
       " Text(0.18181818181818182, 0.6538461538461539, 'X[5] <= 75.0\\ngini = 0.5\\nsamples = 2\\nvalue = [0, 0, 1, 1]'),\n",
       " Text(0.15151515151515152, 0.5769230769230769, 'gini = 0.0\\nsamples = 1\\nvalue = [0, 0, 0, 1]'),\n",
       " Text(0.21212121212121213, 0.5769230769230769, 'gini = 0.0\\nsamples = 1\\nvalue = [0, 0, 1, 0]'),\n",
       " Text(0.2727272727272727, 0.7307692307692307, 'X[3] <= 2.5\\ngini = 0.1\\nsamples = 19\\nvalue = [18, 0, 1, 0]'),\n",
       " Text(0.24242424242424243, 0.6538461538461539, 'gini = 0.0\\nsamples = 16\\nvalue = [16, 0, 0, 0]'),\n",
       " Text(0.30303030303030304, 0.6538461538461539, 'X[0] <= 19.0\\ngini = 0.444\\nsamples = 3\\nvalue = [2, 0, 1, 0]'),\n",
       " Text(0.2727272727272727, 0.5769230769230769, 'gini = 0.0\\nsamples = 2\\nvalue = [2, 0, 0, 0]'),\n",
       " Text(0.3333333333333333, 0.5769230769230769, 'gini = 0.0\\nsamples = 1\\nvalue = [0, 0, 1, 0]'),\n",
       " Text(0.8068181818181818, 0.8846153846153846, 'X[5] <= 178.025\\ngini = 0.62\\nsamples = 43\\nvalue = [18, 3, 19, 3]'),\n",
       " Text(0.6742424242424242, 0.8076923076923077, 'X[0] <= 28.5\\ngini = 0.611\\nsamples = 38\\nvalue = [18, 2, 15, 3]'),\n",
       " Text(0.5, 0.7307692307692307, 'X[2] <= 18.0\\ngini = 0.694\\nsamples = 7\\nvalue = [1, 1, 3, 2]'),\n",
       " Text(0.42424242424242425, 0.6538461538461539, 'X[4] <= 0.5\\ngini = 0.5\\nsamples = 2\\nvalue = [1, 0, 0, 1]'),\n",
       " Text(0.3939393939393939, 0.5769230769230769, 'gini = 0.0\\nsamples = 1\\nvalue = [1, 0, 0, 0]'),\n",
       " Text(0.45454545454545453, 0.5769230769230769, 'gini = 0.0\\nsamples = 1\\nvalue = [0, 0, 0, 1]'),\n",
       " Text(0.5757575757575758, 0.6538461538461539, 'X[4] <= 0.5\\ngini = 0.56\\nsamples = 5\\nvalue = [0, 1, 3, 1]'),\n",
       " Text(0.5151515151515151, 0.5769230769230769, 'X[3] <= 4.0\\ngini = 0.5\\nsamples = 2\\nvalue = [0, 0, 1, 1]'),\n",
       " Text(0.48484848484848486, 0.5, 'gini = 0.0\\nsamples = 1\\nvalue = [0, 0, 0, 1]'),\n",
       " Text(0.5454545454545454, 0.5, 'gini = 0.0\\nsamples = 1\\nvalue = [0, 0, 1, 0]'),\n",
       " Text(0.6363636363636364, 0.5769230769230769, 'X[5] <= 126.9\\ngini = 0.444\\nsamples = 3\\nvalue = [0, 1, 2, 0]'),\n",
       " Text(0.6060606060606061, 0.5, 'gini = 0.0\\nsamples = 2\\nvalue = [0, 0, 2, 0]'),\n",
       " Text(0.6666666666666666, 0.5, 'gini = 0.0\\nsamples = 1\\nvalue = [0, 1, 0, 0]'),\n",
       " Text(0.8484848484848485, 0.7307692307692307, 'X[0] <= 71.0\\ngini = 0.547\\nsamples = 31\\nvalue = [17, 1, 12, 1]'),\n",
       " Text(0.7878787878787878, 0.6538461538461539, 'X[1] <= 50.5\\ngini = 0.48\\nsamples = 23\\nvalue = [15, 1, 7, 0]'),\n",
       " Text(0.7575757575757576, 0.5769230769230769, 'X[1] <= 19.5\\ngini = 0.434\\nsamples = 22\\nvalue = [15, 0, 7, 0]'),\n",
       " Text(0.7272727272727273, 0.5, 'gini = 0.0\\nsamples = 1\\nvalue = [0, 0, 1, 0]'),\n",
       " Text(0.7878787878787878, 0.5, 'X[5] <= 154.015\\ngini = 0.408\\nsamples = 21\\nvalue = [15, 0, 6, 0]'),\n",
       " Text(0.7575757575757576, 0.4230769230769231, 'X[5] <= 148.455\\ngini = 0.469\\nsamples = 16\\nvalue = [10, 0, 6, 0]'),\n",
       " Text(0.7272727272727273, 0.34615384615384615, 'X[5] <= 115.16\\ngini = 0.408\\nsamples = 14\\nvalue = [10, 0, 4, 0]'),\n",
       " Text(0.6666666666666666, 0.2692307692307692, 'X[2] <= 29.0\\ngini = 0.444\\nsamples = 3\\nvalue = [1, 0, 2, 0]'),\n",
       " Text(0.6363636363636364, 0.19230769230769232, 'gini = 0.0\\nsamples = 1\\nvalue = [1, 0, 0, 0]'),\n",
       " Text(0.696969696969697, 0.19230769230769232, 'gini = 0.0\\nsamples = 2\\nvalue = [0, 0, 2, 0]'),\n",
       " Text(0.7878787878787878, 0.2692307692307692, 'X[5] <= 134.995\\ngini = 0.298\\nsamples = 11\\nvalue = [9, 0, 2, 0]'),\n",
       " Text(0.7575757575757576, 0.19230769230769232, 'gini = 0.0\\nsamples = 6\\nvalue = [6, 0, 0, 0]'),\n",
       " Text(0.8181818181818182, 0.19230769230769232, 'X[1] <= 28.5\\ngini = 0.48\\nsamples = 5\\nvalue = [3, 0, 2, 0]'),\n",
       " Text(0.7878787878787878, 0.11538461538461539, 'gini = 0.0\\nsamples = 1\\nvalue = [0, 0, 1, 0]'),\n",
       " Text(0.8484848484848485, 0.11538461538461539, 'X[5] <= 139.75\\ngini = 0.375\\nsamples = 4\\nvalue = [3, 0, 1, 0]'),\n",
       " Text(0.8181818181818182, 0.038461538461538464, 'gini = 0.0\\nsamples = 1\\nvalue = [0, 0, 1, 0]'),\n",
       " Text(0.8787878787878788, 0.038461538461538464, 'gini = 0.0\\nsamples = 3\\nvalue = [3, 0, 0, 0]'),\n",
       " Text(0.7878787878787878, 0.34615384615384615, 'gini = 0.0\\nsamples = 2\\nvalue = [0, 0, 2, 0]'),\n",
       " Text(0.8181818181818182, 0.4230769230769231, 'gini = 0.0\\nsamples = 5\\nvalue = [5, 0, 0, 0]'),\n",
       " Text(0.8181818181818182, 0.5769230769230769, 'gini = 0.0\\nsamples = 1\\nvalue = [0, 1, 0, 0]'),\n",
       " Text(0.9090909090909091, 0.6538461538461539, 'X[1] <= 53.0\\ngini = 0.531\\nsamples = 8\\nvalue = [2, 0, 5, 1]'),\n",
       " Text(0.8787878787878788, 0.5769230769230769, 'gini = 0.0\\nsamples = 5\\nvalue = [0, 0, 5, 0]'),\n",
       " Text(0.9393939393939394, 0.5769230769230769, 'X[4] <= 3.5\\ngini = 0.444\\nsamples = 3\\nvalue = [2, 0, 0, 1]'),\n",
       " Text(0.9090909090909091, 0.5, 'gini = 0.0\\nsamples = 2\\nvalue = [2, 0, 0, 0]'),\n",
       " Text(0.9696969696969697, 0.5, 'gini = 0.0\\nsamples = 1\\nvalue = [0, 0, 0, 1]'),\n",
       " Text(0.9393939393939394, 0.8076923076923077, 'X[2] <= 24.5\\ngini = 0.32\\nsamples = 5\\nvalue = [0, 1, 4, 0]'),\n",
       " Text(0.9090909090909091, 0.7307692307692307, 'gini = 0.0\\nsamples = 1\\nvalue = [0, 1, 0, 0]'),\n",
       " Text(0.9696969696969697, 0.7307692307692307, 'gini = 0.0\\nsamples = 4\\nvalue = [0, 0, 4, 0]')]"
      ]
     },
     "execution_count": 81,
     "metadata": {},
     "output_type": "execute_result"
    },
    {
     "data": {
      "image/png": "[encoded data removed]",
      "text/plain": [
       "<Figure size 432x288 with 1 Axes>"
      ]
     },
     "metadata": {
      "needs_background": "light"
     },
     "output_type": "display_data"
    }
   ],
   "source": [
    "from sklearn import tree\n",
    "tree.plot_tree(classifier)"
   ]
  },
  {
   "cell_type": "markdown",
   "id": "698ff865",
   "metadata": {},
   "source": [
    "#### calculating entropy\n",
    "Entropy is an information theory metric that measures the impurity or uncertainty in a group of observations. It determines how a decision tree chooses to split data.\n",
    "it can be calculated by the following way\n",
    "\n",
    "$ E = - \\sum_{i=1}^{N} p_ilog_2p_i$\n"
   ]
  },
  {
   "cell_type": "code",
   "execution_count": 82,
   "id": "706c1fc1",
   "metadata": {},
   "outputs": [
    {
     "data": {
      "text/plain": [
       "DecisionTreeClassifier(criterion='entropy')"
      ]
     },
     "execution_count": 82,
     "metadata": {},
     "output_type": "execute_result"
    }
   ],
   "source": [
    "from sklearn.tree import DecisionTreeClassifier\n",
    "classifier = DecisionTreeClassifier(criterion='entropy')\n",
    "classifier.fit(x_test,y_test)"
   ]
  },
  {
   "cell_type": "code",
   "execution_count": 83,
   "id": "fe3ce8ef",
   "metadata": {},
   "outputs": [
    {
     "data": {
      "text/plain": [
       "array([0, 0, 0, 0, 2, 0, 2, 2, 0, 2, 0, 0, 2, 0, 2, 0, 2, 0, 2])"
      ]
     },
     "execution_count": 83,
     "metadata": {},
     "output_type": "execute_result"
    }
   ],
   "source": [
    "classifier.predict(x_test)"
   ]
  },
  {
   "cell_type": "code",
   "execution_count": 84,
   "id": "f5760e2d",
   "metadata": {},
   "outputs": [
    {
     "data": {
      "text/plain": [
       "1.0"
      ]
     },
     "execution_count": 84,
     "metadata": {},
     "output_type": "execute_result"
    }
   ],
   "source": [
    "classifier.score(x_test,y_test)"
   ]
  },
  {
   "cell_type": "code",
   "execution_count": 85,
   "id": "f7966166",
   "metadata": {},
   "outputs": [
    {
     "data": {
      "text/plain": [
       "[Text(0.42857142857142855, 0.9166666666666666, 'X[2] <= 44.0\\nentropy = 0.982\\nsamples = 19\\nvalue = [11, 8]'),\n",
       " Text(0.2857142857142857, 0.75, 'X[0] <= 19.5\\nentropy = 0.75\\nsamples = 14\\nvalue = [11, 3]'),\n",
       " Text(0.14285714285714285, 0.5833333333333334, 'entropy = 0.0\\nsamples = 6\\nvalue = [6, 0]'),\n",
       " Text(0.42857142857142855, 0.5833333333333334, 'X[3] <= 0.5\\nentropy = 0.954\\nsamples = 8\\nvalue = [5, 3]'),\n",
       " Text(0.2857142857142857, 0.4166666666666667, 'entropy = 0.0\\nsamples = 2\\nvalue = [0, 2]'),\n",
       " Text(0.5714285714285714, 0.4166666666666667, 'X[2] <= 40.0\\nentropy = 0.65\\nsamples = 6\\nvalue = [5, 1]'),\n",
       " Text(0.42857142857142855, 0.25, 'entropy = 0.0\\nsamples = 4\\nvalue = [4, 0]'),\n",
       " Text(0.7142857142857143, 0.25, 'X[0] <= 59.5\\nentropy = 1.0\\nsamples = 2\\nvalue = [1, 1]'),\n",
       " Text(0.5714285714285714, 0.08333333333333333, 'entropy = 0.0\\nsamples = 1\\nvalue = [0, 1]'),\n",
       " Text(0.8571428571428571, 0.08333333333333333, 'entropy = 0.0\\nsamples = 1\\nvalue = [1, 0]'),\n",
       " Text(0.5714285714285714, 0.75, 'entropy = 0.0\\nsamples = 5\\nvalue = [0, 5]')]"
      ]
     },
     "execution_count": 85,
     "metadata": {},
     "output_type": "execute_result"
    },
    {
     "data": {
      "image/png": "[encoded data removed]",
      "text/plain": [
       "<Figure size 432x288 with 1 Axes>"
      ]
     },
     "metadata": {
      "needs_background": "light"
     },
     "output_type": "display_data"
    }
   ],
   "source": [
    "from sklearn import tree\n",
    "tree.plot_tree(classifier)"
   ]
  },
  {
   "cell_type": "code",
   "execution_count": 102,
   "id": "a97e5249",
   "metadata": {},
   "outputs": [
    {
     "name": "stdout",
     "output_type": "stream",
     "text": [
      "bias in data\n",
      "119.61491469420662\n",
      "variance in data\n",
      "559.4784971308336\n"
     ]
    }
   ],
   "source": [
    "import numpy as np\n",
    "y_pred=y_pred.flatten()\n",
    "# Calculate the bias\n",
    "bias = np.mean(y_pred-y_test)\n",
    "print(\"bias in data\")\n",
    "print(bias)\n",
    "\n",
    "variance = np.var(y_pred)\n",
    "print(\"variance in data\")\n",
    "print(variance)\n"
   ]
  }
 ],
 "metadata": {
  "kernelspec": {
   "display_name": "Python 3 (ipykernel)",
   "language": "python",
   "name": "python3"
  },
  "language_info": {
   "codemirror_mode": {
    "name": "ipython",
    "version": 3
   },
   "file_extension": ".py",
   "mimetype": "text/x-python",
   "name": "python",
   "nbconvert_exporter": "python",
   "pygments_lexer": "ipython3",
   "version": "3.9.12"
  }
 },
 "nbformat": 4,
 "nbformat_minor": 5
}
