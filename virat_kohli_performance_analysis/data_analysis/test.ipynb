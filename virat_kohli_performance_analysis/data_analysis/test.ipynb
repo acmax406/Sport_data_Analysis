{
 "cells": [
  {
   "cell_type": "markdown",
   "id": "4e596911",
   "metadata": {},
   "source": [
    "#### test dataset Analysis"
   ]
  },
  {
   "cell_type": "code",
   "execution_count": 2,
   "id": "a9899593",
   "metadata": {},
   "outputs": [],
   "source": [
    "import pandas as pd"
   ]
  },
  {
   "cell_type": "code",
   "execution_count": 3,
   "id": "7a51c2e9",
   "metadata": {},
   "outputs": [
    {
     "data": {
      "text/html": [
       "<div>\n",
       "<style scoped>\n",
       "    .dataframe tbody tr th:only-of-type {\n",
       "        vertical-align: middle;\n",
       "    }\n",
       "\n",
       "    .dataframe tbody tr th {\n",
       "        vertical-align: top;\n",
       "    }\n",
       "\n",
       "    .dataframe thead th {\n",
       "        text-align: right;\n",
       "    }\n",
       "</style>\n",
       "<table border=\"1\" class=\"dataframe\">\n",
       "  <thead>\n",
       "    <tr style=\"text-align: right;\">\n",
       "      <th></th>\n",
       "      <th>level_0</th>\n",
       "      <th>player</th>\n",
       "      <th>runs</th>\n",
       "      <th>balls</th>\n",
       "      <th>total_balls</th>\n",
       "      <th>fours</th>\n",
       "      <th>sixes</th>\n",
       "      <th>strike_rate</th>\n",
       "      <th>out_type</th>\n",
       "      <th>outby</th>\n",
       "    </tr>\n",
       "  </thead>\n",
       "  <tbody>\n",
       "    <tr>\n",
       "      <th>0</th>\n",
       "      <td>0</td>\n",
       "      <td>Virat Kohli</td>\n",
       "      <td>4</td>\n",
       "      <td>10</td>\n",
       "      <td>13</td>\n",
       "      <td>1</td>\n",
       "      <td>0</td>\n",
       "      <td>40.00</td>\n",
       "      <td>catch_out</td>\n",
       "      <td>Edwards</td>\n",
       "    </tr>\n",
       "    <tr>\n",
       "      <th>1</th>\n",
       "      <td>1</td>\n",
       "      <td>Virat Kohli</td>\n",
       "      <td>15</td>\n",
       "      <td>54</td>\n",
       "      <td>72</td>\n",
       "      <td>2</td>\n",
       "      <td>0</td>\n",
       "      <td>27.77</td>\n",
       "      <td>catch_out</td>\n",
       "      <td>Edwards</td>\n",
       "    </tr>\n",
       "    <tr>\n",
       "      <th>2</th>\n",
       "      <td>2</td>\n",
       "      <td>Virat Kohli</td>\n",
       "      <td>4</td>\n",
       "      <td>10</td>\n",
       "      <td>13</td>\n",
       "      <td>1</td>\n",
       "      <td>0</td>\n",
       "      <td>40.00</td>\n",
       "      <td>catch_out</td>\n",
       "      <td>Edwards</td>\n",
       "    </tr>\n",
       "    <tr>\n",
       "      <th>3</th>\n",
       "      <td>3</td>\n",
       "      <td>Virat Kohli</td>\n",
       "      <td>0</td>\n",
       "      <td>2</td>\n",
       "      <td>1</td>\n",
       "      <td>0</td>\n",
       "      <td>0</td>\n",
       "      <td>0.00</td>\n",
       "      <td>catch_out</td>\n",
       "      <td>Rampaul</td>\n",
       "    </tr>\n",
       "    <tr>\n",
       "      <th>4</th>\n",
       "      <td>4</td>\n",
       "      <td>Virat Kohli</td>\n",
       "      <td>27</td>\n",
       "      <td>107</td>\n",
       "      <td>118</td>\n",
       "      <td>1</td>\n",
       "      <td>1</td>\n",
       "      <td>25.23</td>\n",
       "      <td>catch_out</td>\n",
       "      <td>Edwards</td>\n",
       "    </tr>\n",
       "    <tr>\n",
       "      <th>...</th>\n",
       "      <td>...</td>\n",
       "      <td>...</td>\n",
       "      <td>...</td>\n",
       "      <td>...</td>\n",
       "      <td>...</td>\n",
       "      <td>...</td>\n",
       "      <td>...</td>\n",
       "      <td>...</td>\n",
       "      <td>...</td>\n",
       "      <td>...</td>\n",
       "    </tr>\n",
       "    <tr>\n",
       "      <th>184</th>\n",
       "      <td>184</td>\n",
       "      <td>Virat Kohli</td>\n",
       "      <td>13</td>\n",
       "      <td>16</td>\n",
       "      <td>27</td>\n",
       "      <td>1</td>\n",
       "      <td>0</td>\n",
       "      <td>81.25</td>\n",
       "      <td>lbw</td>\n",
       "      <td>Jayawikrama</td>\n",
       "    </tr>\n",
       "    <tr>\n",
       "      <th>185</th>\n",
       "      <td>185</td>\n",
       "      <td>Virat Kohli</td>\n",
       "      <td>23</td>\n",
       "      <td>48</td>\n",
       "      <td>63</td>\n",
       "      <td>2</td>\n",
       "      <td>0</td>\n",
       "      <td>47.91</td>\n",
       "      <td>lbw</td>\n",
       "      <td>Silva</td>\n",
       "    </tr>\n",
       "    <tr>\n",
       "      <th>186</th>\n",
       "      <td>186</td>\n",
       "      <td>Virat Kohli</td>\n",
       "      <td>11</td>\n",
       "      <td>19</td>\n",
       "      <td>33</td>\n",
       "      <td>2</td>\n",
       "      <td>0</td>\n",
       "      <td>57.89</td>\n",
       "      <td>lbw</td>\n",
       "      <td>Potts</td>\n",
       "    </tr>\n",
       "    <tr>\n",
       "      <th>187</th>\n",
       "      <td>187</td>\n",
       "      <td>Virat Kohli</td>\n",
       "      <td>20</td>\n",
       "      <td>40</td>\n",
       "      <td>64</td>\n",
       "      <td>4</td>\n",
       "      <td>0</td>\n",
       "      <td>50.00</td>\n",
       "      <td>catch_out</td>\n",
       "      <td>Stokes</td>\n",
       "    </tr>\n",
       "    <tr>\n",
       "      <th>188</th>\n",
       "      <td>188</td>\n",
       "      <td>Virat Kohli</td>\n",
       "      <td>11</td>\n",
       "      <td>19</td>\n",
       "      <td>33</td>\n",
       "      <td>2</td>\n",
       "      <td>0</td>\n",
       "      <td>57.89</td>\n",
       "      <td>catch_out</td>\n",
       "      <td>Potts</td>\n",
       "    </tr>\n",
       "  </tbody>\n",
       "</table>\n",
       "<p>189 rows × 10 columns</p>\n",
       "</div>"
      ],
      "text/plain": [
       "     level_0        player  runs  balls  total_balls  fours  sixes  \\\n",
       "0          0  Virat Kohli      4     10           13      1      0   \n",
       "1          1  Virat Kohli     15     54           72      2      0   \n",
       "2          2  Virat Kohli      4     10           13      1      0   \n",
       "3          3  Virat Kohli      0      2            1      0      0   \n",
       "4          4  Virat Kohli     27    107          118      1      1   \n",
       "..       ...           ...   ...    ...          ...    ...    ...   \n",
       "184      184  Virat Kohli     13     16           27      1      0   \n",
       "185      185  Virat Kohli     23     48           63      2      0   \n",
       "186      186  Virat Kohli     11     19           33      2      0   \n",
       "187      187  Virat Kohli     20     40           64      4      0   \n",
       "188      188  Virat Kohli     11     19           33      2      0   \n",
       "\n",
       "     strike_rate   out_type        outby  \n",
       "0          40.00  catch_out      Edwards  \n",
       "1          27.77  catch_out      Edwards  \n",
       "2          40.00  catch_out      Edwards  \n",
       "3           0.00  catch_out      Rampaul  \n",
       "4          25.23  catch_out      Edwards  \n",
       "..           ...        ...          ...  \n",
       "184        81.25        lbw  Jayawikrama  \n",
       "185        47.91        lbw        Silva  \n",
       "186        57.89        lbw        Potts  \n",
       "187        50.00  catch_out       Stokes  \n",
       "188        57.89  catch_out        Potts  \n",
       "\n",
       "[189 rows x 10 columns]"
      ]
     },
     "execution_count": 3,
     "metadata": {},
     "output_type": "execute_result"
    }
   ],
   "source": [
    "df = pd.read_csv(\"test_record.csv\")\n",
    "df= df.reset_index()\n",
    "df = df.drop(['index'],axis = 1)\n",
    "df.rename(columns = {'0':'player'}, inplace = True)\n",
    "df.rename(columns = {'empty':'total_balls'}, inplace = True)\n",
    "df"
   ]
  },
  {
   "cell_type": "code",
   "execution_count": 4,
   "id": "7bd46fa9",
   "metadata": {},
   "outputs": [],
   "source": [
    "df['total_balls'] = df['total_balls'].replace('-','0')\n",
    "df['strike_rate'] = df['strike_rate'].replace('-','0')\n",
    "\n",
    "df['out_type'] = df['out_type'].replace('n','not_out')\n",
    "df['out_type'] = df['out_type'].replace(' ','not_out')\n",
    "df['out_type'] = df['out_type'].replace('n','not_out')\n",
    "df['out_type'] = df['out_type'].replace('s','catch_out')\n",
    "df['out_type'] = df['out_type'].replace('h','run_out')"
   ]
  },
  {
   "cell_type": "markdown",
   "id": "82700c7a",
   "metadata": {},
   "source": [
    "    #linear regression strike rate vs balls played\n",
    "    #runs vs balls played\n",
    "    #runs vs strike rates\n",
    "    #4and 6 vs out type --> lbw or catch_out\n",
    "    #strike rate vs outtype --> decision tree model\n",
    "    #dot balls and out_type"
   ]
  },
  {
   "cell_type": "markdown",
   "id": "38086ef2",
   "metadata": {},
   "source": [
    "### Linear Regression balls played vs strike rate\n",
    "\n",
    "\n",
    "simple model of linear regression is: \n",
    "$y = \\alpha + \\beta x + c$\n",
    "\n",
    "\n",
    "Since, we are using the multiple linear regression model, we will have to expand the simple model.\n",
    "\n",
    "\n",
    "$ y = \\alpha + \\beta_1 x_1 + \\beta_2 x_2 + \\beta_3 x_3 + .......+c$\n",
    "\n",
    "\n",
    "where $y$ is the target variable and the $x$ are the prediction variable"
   ]
  },
  {
   "cell_type": "code",
   "execution_count": 5,
   "id": "4ad6f272",
   "metadata": {},
   "outputs": [
    {
     "data": {
      "text/html": [
       "<div>\n",
       "<style scoped>\n",
       "    .dataframe tbody tr th:only-of-type {\n",
       "        vertical-align: middle;\n",
       "    }\n",
       "\n",
       "    .dataframe tbody tr th {\n",
       "        vertical-align: top;\n",
       "    }\n",
       "\n",
       "    .dataframe thead th {\n",
       "        text-align: right;\n",
       "    }\n",
       "</style>\n",
       "<table border=\"1\" class=\"dataframe\">\n",
       "  <thead>\n",
       "    <tr style=\"text-align: right;\">\n",
       "      <th></th>\n",
       "      <th>level_0</th>\n",
       "      <th>player</th>\n",
       "      <th>runs</th>\n",
       "      <th>balls</th>\n",
       "      <th>total_balls</th>\n",
       "      <th>fours</th>\n",
       "      <th>sixes</th>\n",
       "      <th>strike_rate</th>\n",
       "      <th>out_type</th>\n",
       "      <th>outby</th>\n",
       "    </tr>\n",
       "  </thead>\n",
       "  <tbody>\n",
       "    <tr>\n",
       "      <th>0</th>\n",
       "      <td>0</td>\n",
       "      <td>Virat Kohli</td>\n",
       "      <td>4</td>\n",
       "      <td>10</td>\n",
       "      <td>13</td>\n",
       "      <td>1</td>\n",
       "      <td>0</td>\n",
       "      <td>40.00</td>\n",
       "      <td>catch_out</td>\n",
       "      <td>Edwards</td>\n",
       "    </tr>\n",
       "    <tr>\n",
       "      <th>1</th>\n",
       "      <td>1</td>\n",
       "      <td>Virat Kohli</td>\n",
       "      <td>15</td>\n",
       "      <td>54</td>\n",
       "      <td>72</td>\n",
       "      <td>2</td>\n",
       "      <td>0</td>\n",
       "      <td>27.77</td>\n",
       "      <td>catch_out</td>\n",
       "      <td>Edwards</td>\n",
       "    </tr>\n",
       "    <tr>\n",
       "      <th>2</th>\n",
       "      <td>2</td>\n",
       "      <td>Virat Kohli</td>\n",
       "      <td>4</td>\n",
       "      <td>10</td>\n",
       "      <td>13</td>\n",
       "      <td>1</td>\n",
       "      <td>0</td>\n",
       "      <td>40.00</td>\n",
       "      <td>catch_out</td>\n",
       "      <td>Edwards</td>\n",
       "    </tr>\n",
       "    <tr>\n",
       "      <th>3</th>\n",
       "      <td>3</td>\n",
       "      <td>Virat Kohli</td>\n",
       "      <td>0</td>\n",
       "      <td>2</td>\n",
       "      <td>1</td>\n",
       "      <td>0</td>\n",
       "      <td>0</td>\n",
       "      <td>0.00</td>\n",
       "      <td>catch_out</td>\n",
       "      <td>Rampaul</td>\n",
       "    </tr>\n",
       "    <tr>\n",
       "      <th>4</th>\n",
       "      <td>4</td>\n",
       "      <td>Virat Kohli</td>\n",
       "      <td>27</td>\n",
       "      <td>107</td>\n",
       "      <td>118</td>\n",
       "      <td>1</td>\n",
       "      <td>1</td>\n",
       "      <td>25.23</td>\n",
       "      <td>catch_out</td>\n",
       "      <td>Edwards</td>\n",
       "    </tr>\n",
       "    <tr>\n",
       "      <th>...</th>\n",
       "      <td>...</td>\n",
       "      <td>...</td>\n",
       "      <td>...</td>\n",
       "      <td>...</td>\n",
       "      <td>...</td>\n",
       "      <td>...</td>\n",
       "      <td>...</td>\n",
       "      <td>...</td>\n",
       "      <td>...</td>\n",
       "      <td>...</td>\n",
       "    </tr>\n",
       "    <tr>\n",
       "      <th>184</th>\n",
       "      <td>184</td>\n",
       "      <td>Virat Kohli</td>\n",
       "      <td>13</td>\n",
       "      <td>16</td>\n",
       "      <td>27</td>\n",
       "      <td>1</td>\n",
       "      <td>0</td>\n",
       "      <td>81.25</td>\n",
       "      <td>lbw</td>\n",
       "      <td>Jayawikrama</td>\n",
       "    </tr>\n",
       "    <tr>\n",
       "      <th>185</th>\n",
       "      <td>185</td>\n",
       "      <td>Virat Kohli</td>\n",
       "      <td>23</td>\n",
       "      <td>48</td>\n",
       "      <td>63</td>\n",
       "      <td>2</td>\n",
       "      <td>0</td>\n",
       "      <td>47.91</td>\n",
       "      <td>lbw</td>\n",
       "      <td>Silva</td>\n",
       "    </tr>\n",
       "    <tr>\n",
       "      <th>186</th>\n",
       "      <td>186</td>\n",
       "      <td>Virat Kohli</td>\n",
       "      <td>11</td>\n",
       "      <td>19</td>\n",
       "      <td>33</td>\n",
       "      <td>2</td>\n",
       "      <td>0</td>\n",
       "      <td>57.89</td>\n",
       "      <td>lbw</td>\n",
       "      <td>Potts</td>\n",
       "    </tr>\n",
       "    <tr>\n",
       "      <th>187</th>\n",
       "      <td>187</td>\n",
       "      <td>Virat Kohli</td>\n",
       "      <td>20</td>\n",
       "      <td>40</td>\n",
       "      <td>64</td>\n",
       "      <td>4</td>\n",
       "      <td>0</td>\n",
       "      <td>50.00</td>\n",
       "      <td>catch_out</td>\n",
       "      <td>Stokes</td>\n",
       "    </tr>\n",
       "    <tr>\n",
       "      <th>188</th>\n",
       "      <td>188</td>\n",
       "      <td>Virat Kohli</td>\n",
       "      <td>11</td>\n",
       "      <td>19</td>\n",
       "      <td>33</td>\n",
       "      <td>2</td>\n",
       "      <td>0</td>\n",
       "      <td>57.89</td>\n",
       "      <td>catch_out</td>\n",
       "      <td>Potts</td>\n",
       "    </tr>\n",
       "  </tbody>\n",
       "</table>\n",
       "<p>189 rows × 10 columns</p>\n",
       "</div>"
      ],
      "text/plain": [
       "     level_0        player  runs  balls  total_balls  fours  sixes  \\\n",
       "0          0  Virat Kohli      4     10           13      1      0   \n",
       "1          1  Virat Kohli     15     54           72      2      0   \n",
       "2          2  Virat Kohli      4     10           13      1      0   \n",
       "3          3  Virat Kohli      0      2            1      0      0   \n",
       "4          4  Virat Kohli     27    107          118      1      1   \n",
       "..       ...           ...   ...    ...          ...    ...    ...   \n",
       "184      184  Virat Kohli     13     16           27      1      0   \n",
       "185      185  Virat Kohli     23     48           63      2      0   \n",
       "186      186  Virat Kohli     11     19           33      2      0   \n",
       "187      187  Virat Kohli     20     40           64      4      0   \n",
       "188      188  Virat Kohli     11     19           33      2      0   \n",
       "\n",
       "     strike_rate   out_type        outby  \n",
       "0          40.00  catch_out      Edwards  \n",
       "1          27.77  catch_out      Edwards  \n",
       "2          40.00  catch_out      Edwards  \n",
       "3           0.00  catch_out      Rampaul  \n",
       "4          25.23  catch_out      Edwards  \n",
       "..           ...        ...          ...  \n",
       "184        81.25        lbw  Jayawikrama  \n",
       "185        47.91        lbw        Silva  \n",
       "186        57.89        lbw        Potts  \n",
       "187        50.00  catch_out       Stokes  \n",
       "188        57.89  catch_out        Potts  \n",
       "\n",
       "[189 rows x 10 columns]"
      ]
     },
     "execution_count": 5,
     "metadata": {},
     "output_type": "execute_result"
    }
   ],
   "source": [
    "df['balls']=df['balls'].astype(int) \n",
    "# df['total_balls']=df['total_balls'].astype(int)\n",
    "df['strike_rate'] = df['strike_rate'].astype(float)\n",
    "df['out_type'].unique()\n",
    "df"
   ]
  },
  {
   "cell_type": "code",
   "execution_count": 6,
   "id": "48cdf35b",
   "metadata": {},
   "outputs": [
    {
     "data": {
      "text/plain": [
       "151"
      ]
     },
     "execution_count": 6,
     "metadata": {},
     "output_type": "execute_result"
    }
   ],
   "source": [
    "total_balls = df[['total_balls']]\n",
    "strike_rate = df[['strike_rate']]\n",
    "type(total_balls)\n",
    "#splitting the data into test dataset and train dataset\n",
    "from sklearn.model_selection import train_test_split\n",
    "x_train,x_test,y_train,y_test = train_test_split(total_balls,strike_rate,test_size =0.2)\n",
    "len(x_train)"
   ]
  },
  {
   "cell_type": "code",
   "execution_count": 7,
   "id": "e0eff8e6",
   "metadata": {},
   "outputs": [],
   "source": [
    " y_test.values.reshape((1,len(y_test)))\n",
    "    \n",
    "from sklearn import linear_model\n",
    "from sklearn.metrics import mean_squared_error, r2_score\n",
    "\n",
    "#from sklearn importing the library to perform the linear regression\n",
    "regr = linear_model.LinearRegression()\n",
    "regr.fit(x_train, y_train)\n",
    "y_pred = regr.predict(x_test)"
   ]
  },
  {
   "cell_type": "code",
   "execution_count": 8,
   "id": "78c74db9",
   "metadata": {},
   "outputs": [
    {
     "data": {
      "text/html": [
       "<div>\n",
       "<style scoped>\n",
       "    .dataframe tbody tr th:only-of-type {\n",
       "        vertical-align: middle;\n",
       "    }\n",
       "\n",
       "    .dataframe tbody tr th {\n",
       "        vertical-align: top;\n",
       "    }\n",
       "\n",
       "    .dataframe thead th {\n",
       "        text-align: right;\n",
       "    }\n",
       "</style>\n",
       "<table border=\"1\" class=\"dataframe\">\n",
       "  <thead>\n",
       "    <tr style=\"text-align: right;\">\n",
       "      <th></th>\n",
       "      <th>Actual</th>\n",
       "      <th>predicted</th>\n",
       "    </tr>\n",
       "  </thead>\n",
       "  <tbody>\n",
       "    <tr>\n",
       "      <th>0</th>\n",
       "      <td>53.33</td>\n",
       "      <td>57.020462</td>\n",
       "    </tr>\n",
       "    <tr>\n",
       "      <th>1</th>\n",
       "      <td>70.67</td>\n",
       "      <td>65.936509</td>\n",
       "    </tr>\n",
       "    <tr>\n",
       "      <th>2</th>\n",
       "      <td>0.00</td>\n",
       "      <td>37.574255</td>\n",
       "    </tr>\n",
       "    <tr>\n",
       "      <th>3</th>\n",
       "      <td>52.38</td>\n",
       "      <td>39.265229</td>\n",
       "    </tr>\n",
       "    <tr>\n",
       "      <th>4</th>\n",
       "      <td>70.96</td>\n",
       "      <td>42.800903</td>\n",
       "    </tr>\n",
       "  </tbody>\n",
       "</table>\n",
       "</div>"
      ],
      "text/plain": [
       "   Actual  predicted\n",
       "0   53.33  57.020462\n",
       "1   70.67  65.936509\n",
       "2    0.00  37.574255\n",
       "3   52.38  39.265229\n",
       "4   70.96  42.800903"
      ]
     },
     "execution_count": 8,
     "metadata": {},
     "output_type": "execute_result"
    }
   ],
   "source": [
    "#using linear regression to find out the relationship bw the balls palyed and the strike rate of the player\n",
    "from sklearn import linear_model\n",
    "from sklearn.metrics import mean_squared_error, r2_score\n",
    "\n",
    "regr = linear_model.LinearRegression()\n",
    "regr.fit(x_train, y_train)\n",
    "y_pred = regr.predict(x_test)\n",
    "\n",
    "result = pd.DataFrame({\n",
    "    \"Actual\": y_test.values.reshape((1,len(y_test)))[0],\n",
    "    \"predicted\": y_pred.reshape((1,len(y_test)))[0]\n",
    "})\n",
    "result.head()"
   ]
  },
  {
   "cell_type": "code",
   "execution_count": 9,
   "id": "d4fe5b45",
   "metadata": {},
   "outputs": [
    {
     "name": "stdout",
     "output_type": "stream",
     "text": [
      "the regression coefficents are : [[0.07686248]]\n",
      "the regression intercept is : [37.11308006]\n",
      "Mean squared error: 14268.15\n",
      "Coefficient of determination: -0.15\n"
     ]
    }
   ],
   "source": [
    "print(\"the regression coefficents are :\",regr.coef_)\n",
    "print(\"the regression intercept is :\",regr.intercept_)\n",
    "print(\"Mean squared error: %.2f\" % mean_squared_error(x_test, y_pred))\n",
    "print(\"Coefficient of determination: %.2f\" % r2_score(x_test, y_pred))"
   ]
  },
  {
   "cell_type": "markdown",
   "id": "89a16e85",
   "metadata": {},
   "source": [
    "We have received the regression coefficient as 0.157 and the intercept as 66.98. Mean square error is 1460"
   ]
  },
  {
   "cell_type": "code",
   "execution_count": 10,
   "id": "fdc1ffcf",
   "metadata": {},
   "outputs": [
    {
     "data": {
      "image/png": "[encoded data removed]",
      "text/plain": [
       "<Figure size 432x288 with 1 Axes>"
      ]
     },
     "metadata": {},
     "output_type": "display_data"
    }
   ],
   "source": [
    "# Plotting the strike rate vs balls played by virat kohli\n",
    "import matplotlib.pyplot as plt\n",
    "plt.scatter(x_test, y_pred.reshape((1,len(y_test)))[0], color=\"black\")\n",
    "plt.plot(x_test[\"total_balls\"], y_pred.reshape((1,len(y_test)))[0], color=\"blue\", linewidth=3)\n",
    "plt.title(\"strike_rate vs balls_player\")\n",
    "plt.xlabel(\"balls played\")\n",
    "plt.ylabel(\"strike rate\")\n",
    "plt.xticks(())\n",
    "plt.yticks(())\n",
    "plt.show()"
   ]
  },
  {
   "cell_type": "markdown",
   "id": "eb2f4aa0",
   "metadata": {},
   "source": [
    "strike rate vs Balls played \n",
    "the above regression line tells that there is a direct relation between the balls played and the strike rate in the one day match."
   ]
  },
  {
   "cell_type": "markdown",
   "id": "6c046c83",
   "metadata": {},
   "source": [
    "#### enter Number of balls played to predict the what would be the strike rate...!"
   ]
  },
  {
   "cell_type": "code",
   "execution_count": 11,
   "id": "e15522a8",
   "metadata": {},
   "outputs": [
    {
     "name": "stdout",
     "output_type": "stream",
     "text": [
      "Enter Number of balls played to Predict Strike Rate:--->100\n",
      "the predicted strike Rate is :->\n",
      "[[44.79932772]]\n"
     ]
    },
    {
     "name": "stderr",
     "output_type": "stream",
     "text": [
      "C:\\Users\\Anand\\anaconda3\\lib\\site-packages\\sklearn\\base.py:450: UserWarning: X does not have valid feature names, but LinearRegression was fitted with feature names\n",
      "  warnings.warn(\n",
      "C:\\Users\\Anand\\anaconda3\\lib\\site-packages\\sklearn\\base.py:566: FutureWarning: Arrays of bytes/strings is being converted to decimal numbers if dtype='numeric'. This behavior is deprecated in 0.24 and will be removed in 1.1 (renaming of 0.26). Please convert your data to numeric values explicitly instead.\n",
      "  X = check_array(X, **check_params)\n"
     ]
    }
   ],
   "source": [
    "value = input(\"Enter Number of balls played to Predict Strike Rate:--->\")\n",
    "value= [[value]]\n",
    "pred_sr = regr.predict(value)\n",
    "print(\"the predicted strike Rate is :->\")\n",
    "print(pred_sr)"
   ]
  },
  {
   "cell_type": "markdown",
   "id": "41289e5b",
   "metadata": {},
   "source": [
    "runs vs balls played"
   ]
  },
  {
   "cell_type": "code",
   "execution_count": 12,
   "id": "101d2583",
   "metadata": {},
   "outputs": [
    {
     "data": {
      "text/plain": [
       "Text(0, 0.5, 'runs')"
      ]
     },
     "execution_count": 12,
     "metadata": {},
     "output_type": "execute_result"
    },
    {
     "data": {
      "image/png": "[encoded data removed]",
      "text/plain": [
       "<Figure size 432x288 with 1 Axes>"
      ]
     },
     "metadata": {
      "needs_background": "light"
     },
     "output_type": "display_data"
    }
   ],
   "source": [
    "plt.scatter(df['total_balls'].astype(int),df['runs'].astype(int), color = 'red')\n",
    "plt.title(\"Scatter plot Runs Vs total balls played\")\n",
    "plt.xlabel(\"total_balls\")\n",
    "plt.ylabel(\"runs\")"
   ]
  },
  {
   "cell_type": "markdown",
   "id": "1d86d70b",
   "metadata": {},
   "source": [
    "if we look at the scatter plot betwnn 100 to 150, his strike rate remain the same or it has increased. And in most of the matches he has played less than 100 balls."
   ]
  },
  {
   "cell_type": "code",
   "execution_count": 13,
   "id": "78a21c32",
   "metadata": {},
   "outputs": [
    {
     "data": {
      "text/plain": [
       "Text(0, 0.5, 'strike rate')"
      ]
     },
     "execution_count": 13,
     "metadata": {},
     "output_type": "execute_result"
    },
    {
     "data": {
      "image/png": "[encoded data removed]",
      "text/plain": [
       "<Figure size 432x288 with 1 Axes>"
      ]
     },
     "metadata": {
      "needs_background": "light"
     },
     "output_type": "display_data"
    }
   ],
   "source": [
    "# runs vs strike rates \n",
    "plt.scatter(df['runs'].astype(int),df['strike_rate'].astype(int), color = 'blue')\n",
    "plt.title(\"Scatter plot runs Vs strike_rate\")\n",
    "plt.xlabel(\"runs\")\n",
    "plt.ylabel(\"strike rate\")"
   ]
  },
  {
   "cell_type": "markdown",
   "id": "4f760864",
   "metadata": {},
   "source": [
    "between 0 to 30 balls the strike rate is increasing sharply after that it is increasing slowly."
   ]
  },
  {
   "cell_type": "code",
   "execution_count": 14,
   "id": "dfef8145",
   "metadata": {},
   "outputs": [
    {
     "data": {
      "text/plain": [
       "array(['catch_out', 'lbw', 'run_out'], dtype=object)"
      ]
     },
     "execution_count": 14,
     "metadata": {},
     "output_type": "execute_result"
    }
   ],
   "source": [
    "df['out_type'].unique()"
   ]
  },
  {
   "cell_type": "code",
   "execution_count": 17,
   "id": "e16fe7bb",
   "metadata": {},
   "outputs": [
    {
     "name": "stdout",
     "output_type": "stream",
     "text": [
      "275\n"
     ]
    }
   ],
   "source": [
    "l = len(df)\n",
    "# lbw4= 0, lbw6=0,co4=0,co6=0,no4=0,no6=0,ro4=0,ro6=0\n",
    "lf=0\n",
    "ls =0\n",
    "cf=0\n",
    "cs =0\n",
    "nf =0\n",
    "ns =0\n",
    "rf =0\n",
    "rs=0\n",
    "for i in range(l):\n",
    "    if df['out_type'][i] == 'lbw':\n",
    "        lf=lf+df['fours'][i]\n",
    "        ls= ls+df['sixes'][i]\n",
    "    elif df['out_type'][i] == 'catch_out':\n",
    "        cf=cf+df['fours'][i]\n",
    "        cs= cs+df['sixes'][i]\n",
    "    elif df['out_type'][i] == 'not_out':\n",
    "        nf=nf+df['fours'][i]\n",
    "        ns= ns+df['sixes'][i]\n",
    "    else:\n",
    "        rf=rf+df['fours'][i]\n",
    "        rs= rs+df['sixes'][i]\n",
    "print(lf)"
   ]
  },
  {
   "cell_type": "code",
   "execution_count": 15,
   "id": "07108d17",
   "metadata": {},
   "outputs": [
    {
     "data": {
      "text/plain": [
       "0      catch_out\n",
       "1      catch_out\n",
       "2      catch_out\n",
       "3      catch_out\n",
       "4      catch_out\n",
       "         ...    \n",
       "184          lbw\n",
       "185          lbw\n",
       "186          lbw\n",
       "187    catch_out\n",
       "188    catch_out\n",
       "Name: out_type, Length: 189, dtype: object"
      ]
     },
     "execution_count": 15,
     "metadata": {},
     "output_type": "execute_result"
    }
   ],
   "source": [
    "df['out_type']"
   ]
  },
  {
   "cell_type": "code",
   "execution_count": 18,
   "id": "e650da6a",
   "metadata": {},
   "outputs": [
    {
     "data": {
      "image/png": "[encoded data removed]",
      "text/plain": [
       "<Figure size 432x360 with 1 Axes>"
      ]
     },
     "metadata": {
      "needs_background": "light"
     },
     "output_type": "display_data"
    }
   ],
   "source": [
    "# histogram of out_type and the number of 4s and sixes in the dataset\n",
    "tags = ( 'lbw', 'catch_out', 'run_out', 'not_out')\n",
    "# insert some newlines in the tags to better fit into the plot\n",
    "tags = [tag.replace(' (', '\\n(') for tag in tags]\n",
    "fours = (lf,cf,nf,rf)\n",
    "sixes = (ls,cs,ns,rs)\n",
    "\n",
    "# create a dataframe\n",
    "df_temp = pd.DataFrame({\"fours\": fours, \"sixes\": sixes}, index=tags)\n",
    "df_temp.plot.bar(rot=0, figsize=(6, 5))\n",
    "plt.tight_layout() # fit labels etc. nicely into the plot\n",
    "plt.xlabel(\"out type\")\n",
    "plt.ylabel(\"number of 4's and 6's\")\n",
    "plt.title(\"Graph showing the number of boundries and the out type\")\n",
    "plt.show()\n"
   ]
  },
  {
   "cell_type": "markdown",
   "id": "cb9594d3",
   "metadata": {},
   "source": [
    "The data is showing that the matches in which he scored more boundries in those matches he has the hight chanses of getting catch out or run_out"
   ]
  },
  {
   "cell_type": "markdown",
   "id": "a9c6bea7",
   "metadata": {},
   "source": [
    "### decisionTree Model\n",
    "The decision tree is a supervised learning algorithm that involves dividing data into smaller and smaller subsets until each subset can be classified. It relies on concepts like nodes, edges, and leaf nodes to classify the data. The algorithm starts by calculating the entropy, or uncertainty, of the database. A lower entropy value indicates better classification results. The algorithm then calculates the information gain of each feature, which is a measure of how much uncertainty is reduced by splitting the data on that feature. The data is then split on the feature with the highest information gain, and the process is repeated until all the nodes are cleared.\n",
    "\n",
    "source:https://www.sciencedirect.com/topics/computer-science/decision-tree-classifier"
   ]
  },
  {
   "cell_type": "code",
   "execution_count": 19,
   "id": "db455299",
   "metadata": {},
   "outputs": [
    {
     "data": {
      "text/html": [
       "<div>\n",
       "<style scoped>\n",
       "    .dataframe tbody tr th:only-of-type {\n",
       "        vertical-align: middle;\n",
       "    }\n",
       "\n",
       "    .dataframe tbody tr th {\n",
       "        vertical-align: top;\n",
       "    }\n",
       "\n",
       "    .dataframe thead th {\n",
       "        text-align: right;\n",
       "    }\n",
       "</style>\n",
       "<table border=\"1\" class=\"dataframe\">\n",
       "  <thead>\n",
       "    <tr style=\"text-align: right;\">\n",
       "      <th></th>\n",
       "      <th>runs</th>\n",
       "      <th>balls</th>\n",
       "      <th>total_balls</th>\n",
       "      <th>fours</th>\n",
       "      <th>sixes</th>\n",
       "      <th>strike_rate</th>\n",
       "      <th>out_type</th>\n",
       "    </tr>\n",
       "  </thead>\n",
       "  <tbody>\n",
       "    <tr>\n",
       "      <th>0</th>\n",
       "      <td>4</td>\n",
       "      <td>10</td>\n",
       "      <td>13</td>\n",
       "      <td>1</td>\n",
       "      <td>0</td>\n",
       "      <td>40.00</td>\n",
       "      <td>0</td>\n",
       "    </tr>\n",
       "    <tr>\n",
       "      <th>1</th>\n",
       "      <td>15</td>\n",
       "      <td>54</td>\n",
       "      <td>72</td>\n",
       "      <td>2</td>\n",
       "      <td>0</td>\n",
       "      <td>27.77</td>\n",
       "      <td>0</td>\n",
       "    </tr>\n",
       "    <tr>\n",
       "      <th>2</th>\n",
       "      <td>4</td>\n",
       "      <td>10</td>\n",
       "      <td>13</td>\n",
       "      <td>1</td>\n",
       "      <td>0</td>\n",
       "      <td>40.00</td>\n",
       "      <td>0</td>\n",
       "    </tr>\n",
       "    <tr>\n",
       "      <th>3</th>\n",
       "      <td>0</td>\n",
       "      <td>2</td>\n",
       "      <td>1</td>\n",
       "      <td>0</td>\n",
       "      <td>0</td>\n",
       "      <td>0.00</td>\n",
       "      <td>0</td>\n",
       "    </tr>\n",
       "    <tr>\n",
       "      <th>4</th>\n",
       "      <td>27</td>\n",
       "      <td>107</td>\n",
       "      <td>118</td>\n",
       "      <td>1</td>\n",
       "      <td>1</td>\n",
       "      <td>25.23</td>\n",
       "      <td>0</td>\n",
       "    </tr>\n",
       "    <tr>\n",
       "      <th>...</th>\n",
       "      <td>...</td>\n",
       "      <td>...</td>\n",
       "      <td>...</td>\n",
       "      <td>...</td>\n",
       "      <td>...</td>\n",
       "      <td>...</td>\n",
       "      <td>...</td>\n",
       "    </tr>\n",
       "    <tr>\n",
       "      <th>184</th>\n",
       "      <td>13</td>\n",
       "      <td>16</td>\n",
       "      <td>27</td>\n",
       "      <td>1</td>\n",
       "      <td>0</td>\n",
       "      <td>81.25</td>\n",
       "      <td>1</td>\n",
       "    </tr>\n",
       "    <tr>\n",
       "      <th>185</th>\n",
       "      <td>23</td>\n",
       "      <td>48</td>\n",
       "      <td>63</td>\n",
       "      <td>2</td>\n",
       "      <td>0</td>\n",
       "      <td>47.91</td>\n",
       "      <td>1</td>\n",
       "    </tr>\n",
       "    <tr>\n",
       "      <th>186</th>\n",
       "      <td>11</td>\n",
       "      <td>19</td>\n",
       "      <td>33</td>\n",
       "      <td>2</td>\n",
       "      <td>0</td>\n",
       "      <td>57.89</td>\n",
       "      <td>1</td>\n",
       "    </tr>\n",
       "    <tr>\n",
       "      <th>187</th>\n",
       "      <td>20</td>\n",
       "      <td>40</td>\n",
       "      <td>64</td>\n",
       "      <td>4</td>\n",
       "      <td>0</td>\n",
       "      <td>50.00</td>\n",
       "      <td>0</td>\n",
       "    </tr>\n",
       "    <tr>\n",
       "      <th>188</th>\n",
       "      <td>11</td>\n",
       "      <td>19</td>\n",
       "      <td>33</td>\n",
       "      <td>2</td>\n",
       "      <td>0</td>\n",
       "      <td>57.89</td>\n",
       "      <td>0</td>\n",
       "    </tr>\n",
       "  </tbody>\n",
       "</table>\n",
       "<p>189 rows × 7 columns</p>\n",
       "</div>"
      ],
      "text/plain": [
       "     runs  balls  total_balls  fours  sixes  strike_rate  out_type\n",
       "0       4     10           13      1      0        40.00         0\n",
       "1      15     54           72      2      0        27.77         0\n",
       "2       4     10           13      1      0        40.00         0\n",
       "3       0      2            1      0      0         0.00         0\n",
       "4      27    107          118      1      1        25.23         0\n",
       "..    ...    ...          ...    ...    ...          ...       ...\n",
       "184    13     16           27      1      0        81.25         1\n",
       "185    23     48           63      2      0        47.91         1\n",
       "186    11     19           33      2      0        57.89         1\n",
       "187    20     40           64      4      0        50.00         0\n",
       "188    11     19           33      2      0        57.89         0\n",
       "\n",
       "[189 rows x 7 columns]"
      ]
     },
     "execution_count": 19,
     "metadata": {},
     "output_type": "execute_result"
    }
   ],
   "source": [
    "# building a predictinv model such as decision tree to find out that with all the realevant parameter \n",
    "#what could be his out_type\n",
    "\n",
    "#=================================================================================\n",
    "#decision tree method\n",
    "#=================================================================================\n",
    "# since machine learning algo does not able to understand the strings we have to convert it into a numerical values\n",
    "df2 = df\n",
    "from sklearn.preprocessing import LabelEncoder\n",
    "#creating object for the label encoder\n",
    "out = LabelEncoder()\n",
    "df2['out_type']= out.fit_transform(df2['out_type'])\n",
    "df2 = df2.drop(['outby'], axis=1)\n",
    "df2 = df2.drop(['player'], axis=1)\n",
    "df2 = df2.drop(['level_0'], axis=1)\n",
    "df2"
   ]
  },
  {
   "cell_type": "code",
   "execution_count": 20,
   "id": "9a827b69",
   "metadata": {},
   "outputs": [
    {
     "data": {
      "text/html": [
       "<div>\n",
       "<style scoped>\n",
       "    .dataframe tbody tr th:only-of-type {\n",
       "        vertical-align: middle;\n",
       "    }\n",
       "\n",
       "    .dataframe tbody tr th {\n",
       "        vertical-align: top;\n",
       "    }\n",
       "\n",
       "    .dataframe thead th {\n",
       "        text-align: right;\n",
       "    }\n",
       "</style>\n",
       "<table border=\"1\" class=\"dataframe\">\n",
       "  <thead>\n",
       "    <tr style=\"text-align: right;\">\n",
       "      <th></th>\n",
       "      <th>level_0</th>\n",
       "      <th>runs</th>\n",
       "      <th>balls</th>\n",
       "      <th>total_balls</th>\n",
       "      <th>fours</th>\n",
       "      <th>sixes</th>\n",
       "      <th>strike_rate</th>\n",
       "      <th>out_type</th>\n",
       "    </tr>\n",
       "  </thead>\n",
       "  <tbody>\n",
       "    <tr>\n",
       "      <th>level_0</th>\n",
       "      <td>1.000000</td>\n",
       "      <td>-0.010432</td>\n",
       "      <td>-0.015002</td>\n",
       "      <td>0.006736</td>\n",
       "      <td>-0.020382</td>\n",
       "      <td>-0.033018</td>\n",
       "      <td>-0.010367</td>\n",
       "      <td>0.171488</td>\n",
       "    </tr>\n",
       "    <tr>\n",
       "      <th>runs</th>\n",
       "      <td>-0.010432</td>\n",
       "      <td>1.000000</td>\n",
       "      <td>0.954359</td>\n",
       "      <td>0.951243</td>\n",
       "      <td>0.966606</td>\n",
       "      <td>0.381916</td>\n",
       "      <td>0.511769</td>\n",
       "      <td>0.100532</td>\n",
       "    </tr>\n",
       "    <tr>\n",
       "      <th>balls</th>\n",
       "      <td>-0.015002</td>\n",
       "      <td>0.954359</td>\n",
       "      <td>1.000000</td>\n",
       "      <td>0.989588</td>\n",
       "      <td>0.916857</td>\n",
       "      <td>0.331119</td>\n",
       "      <td>0.405821</td>\n",
       "      <td>0.128782</td>\n",
       "    </tr>\n",
       "    <tr>\n",
       "      <th>total_balls</th>\n",
       "      <td>0.006736</td>\n",
       "      <td>0.951243</td>\n",
       "      <td>0.989588</td>\n",
       "      <td>1.000000</td>\n",
       "      <td>0.905246</td>\n",
       "      <td>0.315485</td>\n",
       "      <td>0.414507</td>\n",
       "      <td>0.124361</td>\n",
       "    </tr>\n",
       "    <tr>\n",
       "      <th>fours</th>\n",
       "      <td>-0.020382</td>\n",
       "      <td>0.966606</td>\n",
       "      <td>0.916857</td>\n",
       "      <td>0.905246</td>\n",
       "      <td>1.000000</td>\n",
       "      <td>0.345815</td>\n",
       "      <td>0.512762</td>\n",
       "      <td>0.065004</td>\n",
       "    </tr>\n",
       "    <tr>\n",
       "      <th>sixes</th>\n",
       "      <td>-0.033018</td>\n",
       "      <td>0.381916</td>\n",
       "      <td>0.331119</td>\n",
       "      <td>0.315485</td>\n",
       "      <td>0.345815</td>\n",
       "      <td>1.000000</td>\n",
       "      <td>0.297866</td>\n",
       "      <td>-0.020903</td>\n",
       "    </tr>\n",
       "    <tr>\n",
       "      <th>strike_rate</th>\n",
       "      <td>-0.010367</td>\n",
       "      <td>0.511769</td>\n",
       "      <td>0.405821</td>\n",
       "      <td>0.414507</td>\n",
       "      <td>0.512762</td>\n",
       "      <td>0.297866</td>\n",
       "      <td>1.000000</td>\n",
       "      <td>-0.062074</td>\n",
       "    </tr>\n",
       "    <tr>\n",
       "      <th>out_type</th>\n",
       "      <td>0.171488</td>\n",
       "      <td>0.100532</td>\n",
       "      <td>0.128782</td>\n",
       "      <td>0.124361</td>\n",
       "      <td>0.065004</td>\n",
       "      <td>-0.020903</td>\n",
       "      <td>-0.062074</td>\n",
       "      <td>1.000000</td>\n",
       "    </tr>\n",
       "  </tbody>\n",
       "</table>\n",
       "</div>"
      ],
      "text/plain": [
       "              level_0      runs     balls  total_balls     fours     sixes  \\\n",
       "level_0      1.000000 -0.010432 -0.015002     0.006736 -0.020382 -0.033018   \n",
       "runs        -0.010432  1.000000  0.954359     0.951243  0.966606  0.381916   \n",
       "balls       -0.015002  0.954359  1.000000     0.989588  0.916857  0.331119   \n",
       "total_balls  0.006736  0.951243  0.989588     1.000000  0.905246  0.315485   \n",
       "fours       -0.020382  0.966606  0.916857     0.905246  1.000000  0.345815   \n",
       "sixes       -0.033018  0.381916  0.331119     0.315485  0.345815  1.000000   \n",
       "strike_rate -0.010367  0.511769  0.405821     0.414507  0.512762  0.297866   \n",
       "out_type     0.171488  0.100532  0.128782     0.124361  0.065004 -0.020903   \n",
       "\n",
       "             strike_rate  out_type  \n",
       "level_0        -0.010367  0.171488  \n",
       "runs            0.511769  0.100532  \n",
       "balls           0.405821  0.128782  \n",
       "total_balls     0.414507  0.124361  \n",
       "fours           0.512762  0.065004  \n",
       "sixes           0.297866 -0.020903  \n",
       "strike_rate     1.000000 -0.062074  \n",
       "out_type       -0.062074  1.000000  "
      ]
     },
     "execution_count": 20,
     "metadata": {},
     "output_type": "execute_result"
    }
   ],
   "source": [
    "df.corr()"
   ]
  },
  {
   "cell_type": "code",
   "execution_count": 21,
   "id": "e3dff4dc",
   "metadata": {},
   "outputs": [
    {
     "data": {
      "text/html": [
       "<div>\n",
       "<style scoped>\n",
       "    .dataframe tbody tr th:only-of-type {\n",
       "        vertical-align: middle;\n",
       "    }\n",
       "\n",
       "    .dataframe tbody tr th {\n",
       "        vertical-align: top;\n",
       "    }\n",
       "\n",
       "    .dataframe thead th {\n",
       "        text-align: right;\n",
       "    }\n",
       "</style>\n",
       "<table border=\"1\" class=\"dataframe\">\n",
       "  <thead>\n",
       "    <tr style=\"text-align: right;\">\n",
       "      <th></th>\n",
       "      <th>runs</th>\n",
       "      <th>balls</th>\n",
       "      <th>total_balls</th>\n",
       "      <th>fours</th>\n",
       "      <th>sixes</th>\n",
       "      <th>strike_rate</th>\n",
       "    </tr>\n",
       "  </thead>\n",
       "  <tbody>\n",
       "    <tr>\n",
       "      <th>79</th>\n",
       "      <td>9</td>\n",
       "      <td>10</td>\n",
       "      <td>12</td>\n",
       "      <td>2</td>\n",
       "      <td>0</td>\n",
       "      <td>90.00</td>\n",
       "    </tr>\n",
       "    <tr>\n",
       "      <th>186</th>\n",
       "      <td>11</td>\n",
       "      <td>19</td>\n",
       "      <td>33</td>\n",
       "      <td>2</td>\n",
       "      <td>0</td>\n",
       "      <td>57.89</td>\n",
       "    </tr>\n",
       "    <tr>\n",
       "      <th>166</th>\n",
       "      <td>44</td>\n",
       "      <td>132</td>\n",
       "      <td>196</td>\n",
       "      <td>1</td>\n",
       "      <td>0</td>\n",
       "      <td>33.33</td>\n",
       "    </tr>\n",
       "    <tr>\n",
       "      <th>162</th>\n",
       "      <td>27</td>\n",
       "      <td>58</td>\n",
       "      <td>85</td>\n",
       "      <td>3</td>\n",
       "      <td>0</td>\n",
       "      <td>46.55</td>\n",
       "    </tr>\n",
       "    <tr>\n",
       "      <th>92</th>\n",
       "      <td>15</td>\n",
       "      <td>29</td>\n",
       "      <td>44</td>\n",
       "      <td>1</td>\n",
       "      <td>0</td>\n",
       "      <td>51.72</td>\n",
       "    </tr>\n",
       "    <tr>\n",
       "      <th>...</th>\n",
       "      <td>...</td>\n",
       "      <td>...</td>\n",
       "      <td>...</td>\n",
       "      <td>...</td>\n",
       "      <td>...</td>\n",
       "      <td>...</td>\n",
       "    </tr>\n",
       "    <tr>\n",
       "      <th>13</th>\n",
       "      <td>116</td>\n",
       "      <td>213</td>\n",
       "      <td>237</td>\n",
       "      <td>11</td>\n",
       "      <td>1</td>\n",
       "      <td>54.46</td>\n",
       "    </tr>\n",
       "    <tr>\n",
       "      <th>169</th>\n",
       "      <td>20</td>\n",
       "      <td>31</td>\n",
       "      <td>54</td>\n",
       "      <td>4</td>\n",
       "      <td>0</td>\n",
       "      <td>64.51</td>\n",
       "    </tr>\n",
       "    <tr>\n",
       "      <th>118</th>\n",
       "      <td>149</td>\n",
       "      <td>225</td>\n",
       "      <td>277</td>\n",
       "      <td>22</td>\n",
       "      <td>1</td>\n",
       "      <td>66.22</td>\n",
       "    </tr>\n",
       "    <tr>\n",
       "      <th>29</th>\n",
       "      <td>3</td>\n",
       "      <td>5</td>\n",
       "      <td>13</td>\n",
       "      <td>0</td>\n",
       "      <td>0</td>\n",
       "      <td>60.00</td>\n",
       "    </tr>\n",
       "    <tr>\n",
       "      <th>163</th>\n",
       "      <td>0</td>\n",
       "      <td>8</td>\n",
       "      <td>13</td>\n",
       "      <td>0</td>\n",
       "      <td>0</td>\n",
       "      <td>0.00</td>\n",
       "    </tr>\n",
       "  </tbody>\n",
       "</table>\n",
       "<p>151 rows × 6 columns</p>\n",
       "</div>"
      ],
      "text/plain": [
       "     runs  balls  total_balls  fours  sixes  strike_rate\n",
       "79      9     10           12      2      0        90.00\n",
       "186    11     19           33      2      0        57.89\n",
       "166    44    132          196      1      0        33.33\n",
       "162    27     58           85      3      0        46.55\n",
       "92     15     29           44      1      0        51.72\n",
       "..    ...    ...          ...    ...    ...          ...\n",
       "13    116    213          237     11      1        54.46\n",
       "169    20     31           54      4      0        64.51\n",
       "118   149    225          277     22      1        66.22\n",
       "29      3      5           13      0      0        60.00\n",
       "163     0      8           13      0      0         0.00\n",
       "\n",
       "[151 rows x 6 columns]"
      ]
     },
     "execution_count": 21,
     "metadata": {},
     "output_type": "execute_result"
    }
   ],
   "source": [
    "predictor =['runs','balls','total_balls','fours','sixes','strike_rate']\n",
    "x = df[predictor]\n",
    "y = df['out_type']\n",
    "\n",
    "#splitting dataset into training and test dataset\n",
    "from sklearn.model_selection import train_test_split\n",
    "x_train,x_test,y_train,y_test= train_test_split(x,y,test_size=0.2)\n",
    "x_train"
   ]
  },
  {
   "cell_type": "markdown",
   "id": "422f407b",
   "metadata": {},
   "source": [
    "#### 'gini'\n",
    "gini impurity is more efficient in terms of the computing power compartively to entropy\n",
    "we can use gini to select the best features"
   ]
  },
  {
   "cell_type": "code",
   "execution_count": 22,
   "id": "88f75bbe",
   "metadata": {},
   "outputs": [],
   "source": [
    "from sklearn.tree import DecisionTreeClassifier\n",
    "classifier = DecisionTreeClassifier(criterion='gini')"
   ]
  },
  {
   "cell_type": "code",
   "execution_count": 23,
   "id": "4fee7581",
   "metadata": {},
   "outputs": [
    {
     "data": {
      "text/plain": [
       "DecisionTreeClassifier()"
      ]
     },
     "execution_count": 23,
     "metadata": {},
     "output_type": "execute_result"
    }
   ],
   "source": [
    "classifier.fit(x_train,y_train)"
   ]
  },
  {
   "cell_type": "code",
   "execution_count": 24,
   "id": "15106e2b",
   "metadata": {},
   "outputs": [
    {
     "data": {
      "text/plain": [
       "array([0, 0, 1, 0, 0, 1, 1, 1, 1, 0, 0, 0, 1, 1, 1, 1, 1, 0, 0, 0, 0, 1,\n",
       "       0, 0, 0, 0, 1, 0, 0, 0, 1, 0, 0, 0, 0, 1, 0, 1])"
      ]
     },
     "execution_count": 24,
     "metadata": {},
     "output_type": "execute_result"
    }
   ],
   "source": [
    "classifier.predict(x_test)"
   ]
  },
  {
   "cell_type": "code",
   "execution_count": 25,
   "id": "54080144",
   "metadata": {},
   "outputs": [
    {
     "name": "stdout",
     "output_type": "stream",
     "text": [
      "Percentage Accuracy obtained from the decision tree classifier =\n",
      "73.68421052631578\n"
     ]
    }
   ],
   "source": [
    "acc = classifier.score(x_test,y_test)\n",
    "print(\"Percentage Accuracy obtained from the decision tree classifier =\")\n",
    "print(acc*100)"
   ]
  },
  {
   "cell_type": "code",
   "execution_count": 26,
   "id": "dae2a8d9",
   "metadata": {},
   "outputs": [
    {
     "data": {
      "text/plain": [
       "[Text(0.37589285714285714, 0.9583333333333334, 'X[1] <= 285.0\\ngini = 0.396\\nsamples = 151\\nvalue = [111, 38, 2]'),\n",
       " Text(0.26964285714285713, 0.875, 'X[2] <= 17.5\\ngini = 0.374\\nsamples = 144\\nvalue = [109, 33, 2]'),\n",
       " Text(0.14285714285714285, 0.7916666666666666, 'X[0] <= 0.5\\ngini = 0.17\\nsamples = 32\\nvalue = [29, 3, 0]'),\n",
       " Text(0.11428571428571428, 0.7083333333333334, 'X[1] <= 1.5\\ngini = 0.42\\nsamples = 10\\nvalue = [7, 3, 0]'),\n",
       " Text(0.08571428571428572, 0.625, 'gini = 0.0\\nsamples = 3\\nvalue = [3, 0, 0]'),\n",
       " Text(0.14285714285714285, 0.625, 'X[1] <= 6.5\\ngini = 0.49\\nsamples = 7\\nvalue = [4, 3, 0]'),\n",
       " Text(0.11428571428571428, 0.5416666666666666, 'X[2] <= 7.0\\ngini = 0.5\\nsamples = 6\\nvalue = [3, 3, 0]'),\n",
       " Text(0.08571428571428572, 0.4583333333333333, 'X[1] <= 4.5\\ngini = 0.48\\nsamples = 5\\nvalue = [3, 2, 0]'),\n",
       " Text(0.05714285714285714, 0.375, 'X[2] <= 2.5\\ngini = 0.375\\nsamples = 4\\nvalue = [3, 1, 0]'),\n",
       " Text(0.02857142857142857, 0.2916666666666667, 'gini = 0.5\\nsamples = 2\\nvalue = [1, 1, 0]'),\n",
       " Text(0.08571428571428572, 0.2916666666666667, 'gini = 0.0\\nsamples = 2\\nvalue = [2, 0, 0]'),\n",
       " Text(0.11428571428571428, 0.375, 'gini = 0.0\\nsamples = 1\\nvalue = [0, 1, 0]'),\n",
       " Text(0.14285714285714285, 0.4583333333333333, 'gini = 0.0\\nsamples = 1\\nvalue = [0, 1, 0]'),\n",
       " Text(0.17142857142857143, 0.5416666666666666, 'gini = 0.0\\nsamples = 1\\nvalue = [1, 0, 0]'),\n",
       " Text(0.17142857142857143, 0.7083333333333334, 'gini = 0.0\\nsamples = 22\\nvalue = [22, 0, 0]'),\n",
       " Text(0.3964285714285714, 0.7916666666666666, 'X[1] <= 22.5\\ngini = 0.418\\nsamples = 112\\nvalue = [80, 30, 2]'),\n",
       " Text(0.22857142857142856, 0.7083333333333334, 'X[2] <= 27.5\\ngini = 0.397\\nsamples = 11\\nvalue = [3, 8, 0]'),\n",
       " Text(0.2, 0.625, 'gini = 0.0\\nsamples = 5\\nvalue = [0, 5, 0]'),\n",
       " Text(0.2571428571428571, 0.625, 'X[5] <= 52.505\\ngini = 0.5\\nsamples = 6\\nvalue = [3, 3, 0]'),\n",
       " Text(0.22857142857142856, 0.5416666666666666, 'gini = 0.0\\nsamples = 2\\nvalue = [2, 0, 0]'),\n",
       " Text(0.2857142857142857, 0.5416666666666666, 'X[5] <= 56.215\\ngini = 0.375\\nsamples = 4\\nvalue = [1, 3, 0]'),\n",
       " Text(0.2571428571428571, 0.4583333333333333, 'gini = 0.0\\nsamples = 2\\nvalue = [0, 2, 0]'),\n",
       " Text(0.3142857142857143, 0.4583333333333333, 'gini = 0.5\\nsamples = 2\\nvalue = [1, 1, 0]'),\n",
       " Text(0.5642857142857143, 0.7083333333333334, 'X[2] <= 40.5\\ngini = 0.371\\nsamples = 101\\nvalue = [77, 22, 2]'),\n",
       " Text(0.37142857142857144, 0.625, 'X[2] <= 32.5\\ngini = 0.496\\nsamples = 11\\nvalue = [6, 5, 0]'),\n",
       " Text(0.34285714285714286, 0.5416666666666666, 'gini = 0.0\\nsamples = 4\\nvalue = [4, 0, 0]'),\n",
       " Text(0.4, 0.5416666666666666, 'X[3] <= 0.5\\ngini = 0.408\\nsamples = 7\\nvalue = [2, 5, 0]'),\n",
       " Text(0.37142857142857144, 0.4583333333333333, 'gini = 0.0\\nsamples = 1\\nvalue = [1, 0, 0]'),\n",
       " Text(0.42857142857142855, 0.4583333333333333, 'X[5] <= 67.115\\ngini = 0.278\\nsamples = 6\\nvalue = [1, 5, 0]'),\n",
       " Text(0.4, 0.375, 'gini = 0.0\\nsamples = 5\\nvalue = [0, 5, 0]'),\n",
       " Text(0.45714285714285713, 0.375, 'gini = 0.0\\nsamples = 1\\nvalue = [1, 0, 0]'),\n",
       " Text(0.7571428571428571, 0.625, 'X[2] <= 193.5\\ngini = 0.341\\nsamples = 90\\nvalue = [71, 17, 2]'),\n",
       " Text(0.6, 0.5416666666666666, 'X[5] <= 29.175\\ngini = 0.245\\nsamples = 63\\nvalue = [54, 9, 0]'),\n",
       " Text(0.5428571428571428, 0.4583333333333333, 'X[1] <= 87.0\\ngini = 0.444\\nsamples = 3\\nvalue = [1, 2, 0]'),\n",
       " Text(0.5142857142857142, 0.375, 'gini = 0.0\\nsamples = 2\\nvalue = [0, 2, 0]'),\n",
       " Text(0.5714285714285714, 0.375, 'gini = 0.0\\nsamples = 1\\nvalue = [1, 0, 0]'),\n",
       " Text(0.6571428571428571, 0.4583333333333333, 'X[0] <= 22.5\\ngini = 0.206\\nsamples = 60\\nvalue = [53, 7, 0]'),\n",
       " Text(0.6285714285714286, 0.375, 'gini = 0.0\\nsamples = 21\\nvalue = [21, 0, 0]'),\n",
       " Text(0.6857142857142857, 0.375, 'X[2] <= 87.5\\ngini = 0.295\\nsamples = 39\\nvalue = [32, 7, 0]'),\n",
       " Text(0.6285714285714286, 0.2916666666666667, 'X[2] <= 81.0\\ngini = 0.5\\nsamples = 10\\nvalue = [5, 5, 0]'),\n",
       " Text(0.6, 0.20833333333333334, 'X[1] <= 50.5\\ngini = 0.408\\nsamples = 7\\nvalue = [5, 2, 0]'),\n",
       " Text(0.5714285714285714, 0.125, 'X[3] <= 2.5\\ngini = 0.444\\nsamples = 3\\nvalue = [1, 2, 0]'),\n",
       " Text(0.5428571428571428, 0.041666666666666664, 'gini = 0.0\\nsamples = 2\\nvalue = [0, 2, 0]'),\n",
       " Text(0.6, 0.041666666666666664, 'gini = 0.0\\nsamples = 1\\nvalue = [1, 0, 0]'),\n",
       " Text(0.6285714285714286, 0.125, 'gini = 0.0\\nsamples = 4\\nvalue = [4, 0, 0]'),\n",
       " Text(0.6571428571428571, 0.20833333333333334, 'gini = 0.0\\nsamples = 3\\nvalue = [0, 3, 0]'),\n",
       " Text(0.7428571428571429, 0.2916666666666667, 'X[3] <= 1.5\\ngini = 0.128\\nsamples = 29\\nvalue = [27, 2, 0]'),\n",
       " Text(0.7142857142857143, 0.20833333333333334, 'gini = 0.0\\nsamples = 1\\nvalue = [0, 1, 0]'),\n",
       " Text(0.7714285714285715, 0.20833333333333334, 'X[0] <= 40.5\\ngini = 0.069\\nsamples = 28\\nvalue = [27, 1, 0]'),\n",
       " Text(0.7428571428571429, 0.125, 'X[2] <= 133.5\\ngini = 0.219\\nsamples = 8\\nvalue = [7, 1, 0]'),\n",
       " Text(0.7142857142857143, 0.041666666666666664, 'gini = 0.0\\nsamples = 7\\nvalue = [7, 0, 0]'),\n",
       " Text(0.7714285714285715, 0.041666666666666664, 'gini = 0.0\\nsamples = 1\\nvalue = [0, 1, 0]'),\n",
       " Text(0.8, 0.125, 'gini = 0.0\\nsamples = 20\\nvalue = [20, 0, 0]'),\n",
       " Text(0.9142857142857143, 0.5416666666666666, 'X[2] <= 300.0\\ngini = 0.51\\nsamples = 27\\nvalue = [17, 8, 2]'),\n",
       " Text(0.8857142857142857, 0.4583333333333333, 'X[3] <= 8.5\\ngini = 0.595\\nsamples = 17\\nvalue = [7, 8, 2]'),\n",
       " Text(0.8285714285714286, 0.375, 'X[2] <= 222.0\\ngini = 0.48\\nsamples = 5\\nvalue = [0, 3, 2]'),\n",
       " Text(0.8, 0.2916666666666667, 'gini = 0.0\\nsamples = 3\\nvalue = [0, 3, 0]'),\n",
       " Text(0.8571428571428571, 0.2916666666666667, 'gini = 0.0\\nsamples = 2\\nvalue = [0, 0, 2]'),\n",
       " Text(0.9428571428571428, 0.375, 'X[2] <= 280.5\\ngini = 0.486\\nsamples = 12\\nvalue = [7, 5, 0]'),\n",
       " Text(0.9142857142857143, 0.2916666666666667, 'X[3] <= 13.0\\ngini = 0.346\\nsamples = 9\\nvalue = [7, 2, 0]'),\n",
       " Text(0.8857142857142857, 0.20833333333333334, 'X[5] <= 51.535\\ngini = 0.48\\nsamples = 5\\nvalue = [3, 2, 0]'),\n",
       " Text(0.8571428571428571, 0.125, 'gini = 0.0\\nsamples = 3\\nvalue = [3, 0, 0]'),\n",
       " Text(0.9142857142857143, 0.125, 'gini = 0.0\\nsamples = 2\\nvalue = [0, 2, 0]'),\n",
       " Text(0.9428571428571428, 0.20833333333333334, 'gini = 0.0\\nsamples = 4\\nvalue = [4, 0, 0]'),\n",
       " Text(0.9714285714285714, 0.2916666666666667, 'gini = 0.0\\nsamples = 3\\nvalue = [0, 3, 0]'),\n",
       " Text(0.9428571428571428, 0.4583333333333333, 'gini = 0.0\\nsamples = 10\\nvalue = [10, 0, 0]'),\n",
       " Text(0.48214285714285715, 0.875, 'X[4] <= 0.5\\ngini = 0.408\\nsamples = 7\\nvalue = [2, 5, 0]'),\n",
       " Text(0.45357142857142857, 0.7916666666666666, 'gini = 0.0\\nsamples = 5\\nvalue = [0, 5, 0]'),\n",
       " Text(0.5107142857142857, 0.7916666666666666, 'gini = 0.0\\nsamples = 2\\nvalue = [2, 0, 0]')]"
      ]
     },
     "execution_count": 26,
     "metadata": {},
     "output_type": "execute_result"
    },
    {
     "data": {
      "image/png": "[encoded data removed]",
      "text/plain": [
       "<Figure size 432x288 with 1 Axes>"
      ]
     },
     "metadata": {
      "needs_background": "light"
     },
     "output_type": "display_data"
    }
   ],
   "source": [
    "from sklearn import tree\n",
    "tree.plot_tree(classifier)"
   ]
  },
  {
   "cell_type": "markdown",
   "id": "698ff865",
   "metadata": {},
   "source": [
    "#### calculating entropy\n",
    "Entropy is an information theory metric that measures the impurity or uncertainty in a group of observations. It determines how a decision tree chooses to split data.\n",
    "it can be calculated by the following way\n",
    "\n",
    "$ E = - \\sum_{i=1}^{N} p_ilog_2p_i$\n"
   ]
  },
  {
   "cell_type": "code",
   "execution_count": 27,
   "id": "706c1fc1",
   "metadata": {},
   "outputs": [
    {
     "data": {
      "text/plain": [
       "DecisionTreeClassifier(criterion='entropy')"
      ]
     },
     "execution_count": 27,
     "metadata": {},
     "output_type": "execute_result"
    }
   ],
   "source": [
    "from sklearn.tree import DecisionTreeClassifier\n",
    "classifier = DecisionTreeClassifier(criterion='entropy')\n",
    "classifier.fit(x_test,y_test)"
   ]
  },
  {
   "cell_type": "code",
   "execution_count": 28,
   "id": "fe3ce8ef",
   "metadata": {},
   "outputs": [
    {
     "data": {
      "text/plain": [
       "array([0, 0, 0, 0, 0, 0, 1, 1, 0, 0, 0, 0, 0, 1, 0, 0, 1, 0, 0, 0, 1, 0,\n",
       "       0, 0, 0, 0, 1, 0, 1, 0, 1, 0, 0, 0, 0, 0, 0, 1])"
      ]
     },
     "execution_count": 28,
     "metadata": {},
     "output_type": "execute_result"
    }
   ],
   "source": [
    "classifier.predict(x_test)"
   ]
  },
  {
   "cell_type": "code",
   "execution_count": 29,
   "id": "f5760e2d",
   "metadata": {},
   "outputs": [
    {
     "data": {
      "text/plain": [
       "1.0"
      ]
     },
     "execution_count": 29,
     "metadata": {},
     "output_type": "execute_result"
    }
   ],
   "source": [
    "classifier.score(x_test,y_test)"
   ]
  },
  {
   "cell_type": "code",
   "execution_count": 30,
   "id": "f7966166",
   "metadata": {
    "scrolled": true
   },
   "outputs": [
    {
     "data": {
      "text/plain": [
       "[Text(0.5, 0.9166666666666666, 'X[2] <= 36.5\\nentropy = 0.79\\nsamples = 38\\nvalue = [29, 9]'),\n",
       " Text(0.3, 0.75, 'X[2] <= 7.0\\nentropy = 1.0\\nsamples = 12\\nvalue = [6, 6]'),\n",
       " Text(0.2, 0.5833333333333334, 'entropy = 0.0\\nsamples = 3\\nvalue = [3, 0]'),\n",
       " Text(0.4, 0.5833333333333334, 'X[5] <= 72.79\\nentropy = 0.918\\nsamples = 9\\nvalue = [3, 6]'),\n",
       " Text(0.3, 0.4166666666666667, 'X[2] <= 17.5\\nentropy = 0.592\\nsamples = 7\\nvalue = [1, 6]'),\n",
       " Text(0.2, 0.25, 'X[5] <= 15.625\\nentropy = 0.918\\nsamples = 3\\nvalue = [1, 2]'),\n",
       " Text(0.1, 0.08333333333333333, 'entropy = 0.0\\nsamples = 2\\nvalue = [0, 2]'),\n",
       " Text(0.3, 0.08333333333333333, 'entropy = 0.0\\nsamples = 1\\nvalue = [1, 0]'),\n",
       " Text(0.4, 0.25, 'entropy = 0.0\\nsamples = 4\\nvalue = [0, 4]'),\n",
       " Text(0.5, 0.4166666666666667, 'entropy = 0.0\\nsamples = 2\\nvalue = [2, 0]'),\n",
       " Text(0.7, 0.75, 'X[0] <= 100.0\\nentropy = 0.516\\nsamples = 26\\nvalue = [23, 3]'),\n",
       " Text(0.6, 0.5833333333333334, 'entropy = 0.0\\nsamples = 20\\nvalue = [20, 0]'),\n",
       " Text(0.8, 0.5833333333333334, 'X[5] <= 76.51\\nentropy = 1.0\\nsamples = 6\\nvalue = [3, 3]'),\n",
       " Text(0.7, 0.4166666666666667, 'X[5] <= 58.21\\nentropy = 0.811\\nsamples = 4\\nvalue = [3, 1]'),\n",
       " Text(0.6, 0.25, 'entropy = 0.0\\nsamples = 1\\nvalue = [0, 1]'),\n",
       " Text(0.8, 0.25, 'entropy = 0.0\\nsamples = 3\\nvalue = [3, 0]'),\n",
       " Text(0.9, 0.4166666666666667, 'entropy = 0.0\\nsamples = 2\\nvalue = [0, 2]')]"
      ]
     },
     "execution_count": 30,
     "metadata": {},
     "output_type": "execute_result"
    },
    {
     "data": {
      "image/png": "[encoded data removed]",
      "text/plain": [
       "<Figure size 432x288 with 1 Axes>"
      ]
     },
     "metadata": {
      "needs_background": "light"
     },
     "output_type": "display_data"
    }
   ],
   "source": [
    "from sklearn import tree\n",
    "tree.plot_tree(classifier)"
   ]
  },
  {
   "cell_type": "code",
   "execution_count": 31,
   "id": "c88473d9",
   "metadata": {},
   "outputs": [
    {
     "name": "stdout",
     "output_type": "stream",
     "text": [
      "bias in data\n",
      "45.043887440566515\n",
      "variance in data\n",
      "73.13398985899937\n"
     ]
    }
   ],
   "source": [
    "import numpy as np\n",
    "y_pred=y_pred.flatten()\n",
    "# Calculate the bias\n",
    "bias = np.mean(y_pred-y_test)\n",
    "print(\"bias in data\")\n",
    "print(bias)\n",
    "\n",
    "variance = np.var(y_pred)\n",
    "print(\"variance in data\")\n",
    "print(variance)\n"
   ]
  }
 ],
 "metadata": {
  "kernelspec": {
   "display_name": "Python 3 (ipykernel)",
   "language": "python",
   "name": "python3"
  },
  "language_info": {
   "codemirror_mode": {
    "name": "ipython",
    "version": 3
   },
   "file_extension": ".py",
   "mimetype": "text/x-python",
   "name": "python",
   "nbconvert_exporter": "python",
   "pygments_lexer": "ipython3",
   "version": "3.9.12"
  }
 },
 "nbformat": 4,
 "nbformat_minor": 5
}
